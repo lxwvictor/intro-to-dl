{
 "cells": [
  {
   "cell_type": "code",
   "execution_count": 1,
   "metadata": {},
   "outputs": [
    {
     "name": "stderr",
     "output_type": "stream",
     "text": [
      "UsageError: Line magic function `%tensorflow_version` not found.\n"
     ]
    }
   ],
   "source": [
    "# set tf 1.x for colab\n",
    "%tensorflow_version 1.x"
   ]
  },
  {
   "cell_type": "markdown",
   "metadata": {
    "slideshow": {
     "slide_type": "slide"
    }
   },
   "source": [
    "# Intro to TensorFlow\n",
    "\n",
    "This notebook covers the basics of TF and shows you an animation with gradient descent trajectory.\n",
    "<img src=\"images/gradient_descent.png\" style=\"width:50%\">"
   ]
  },
  {
   "cell_type": "markdown",
   "metadata": {},
   "source": [
    "# TensorBoard"
   ]
  },
  {
   "cell_type": "markdown",
   "metadata": {},
   "source": [
    "**Plase note that if you are running on the Coursera platform, you won't be able to access the tensorboard instance due to the network setup there.**\n",
    "\n",
    "Run `tensorboard --logdir=./tensorboard_logs --port=7007` in bash.\n",
    "\n",
    "If you run the notebook locally, you should be able to access TensorBoard on http://127.0.0.1:7007/"
   ]
  },
  {
   "cell_type": "code",
   "execution_count": 4,
   "metadata": {},
   "outputs": [
    {
     "name": "stderr",
     "output_type": "stream",
     "text": [
      "/Users/Victor/anaconda3/envs/tfspark/lib/python3.7/site-packages/tensorflow/python/framework/dtypes.py:516: FutureWarning: Passing (type, 1) or '1type' as a synonym of type is deprecated; in a future version of numpy, it will be understood as (type, (1,)) / '(1,)type'.\n",
      "  _np_qint8 = np.dtype([(\"qint8\", np.int8, 1)])\n",
      "/Users/Victor/anaconda3/envs/tfspark/lib/python3.7/site-packages/tensorflow/python/framework/dtypes.py:517: FutureWarning: Passing (type, 1) or '1type' as a synonym of type is deprecated; in a future version of numpy, it will be understood as (type, (1,)) / '(1,)type'.\n",
      "  _np_quint8 = np.dtype([(\"quint8\", np.uint8, 1)])\n",
      "/Users/Victor/anaconda3/envs/tfspark/lib/python3.7/site-packages/tensorflow/python/framework/dtypes.py:518: FutureWarning: Passing (type, 1) or '1type' as a synonym of type is deprecated; in a future version of numpy, it will be understood as (type, (1,)) / '(1,)type'.\n",
      "  _np_qint16 = np.dtype([(\"qint16\", np.int16, 1)])\n",
      "/Users/Victor/anaconda3/envs/tfspark/lib/python3.7/site-packages/tensorflow/python/framework/dtypes.py:519: FutureWarning: Passing (type, 1) or '1type' as a synonym of type is deprecated; in a future version of numpy, it will be understood as (type, (1,)) / '(1,)type'.\n",
      "  _np_quint16 = np.dtype([(\"quint16\", np.uint16, 1)])\n",
      "/Users/Victor/anaconda3/envs/tfspark/lib/python3.7/site-packages/tensorflow/python/framework/dtypes.py:520: FutureWarning: Passing (type, 1) or '1type' as a synonym of type is deprecated; in a future version of numpy, it will be understood as (type, (1,)) / '(1,)type'.\n",
      "  _np_qint32 = np.dtype([(\"qint32\", np.int32, 1)])\n",
      "/Users/Victor/anaconda3/envs/tfspark/lib/python3.7/site-packages/tensorflow/python/framework/dtypes.py:525: FutureWarning: Passing (type, 1) or '1type' as a synonym of type is deprecated; in a future version of numpy, it will be understood as (type, (1,)) / '(1,)type'.\n",
      "  np_resource = np.dtype([(\"resource\", np.ubyte, 1)])\n",
      "/Users/Victor/anaconda3/envs/tfspark/lib/python3.7/site-packages/tensorboard/compat/tensorflow_stub/dtypes.py:541: FutureWarning: Passing (type, 1) or '1type' as a synonym of type is deprecated; in a future version of numpy, it will be understood as (type, (1,)) / '(1,)type'.\n",
      "  _np_qint8 = np.dtype([(\"qint8\", np.int8, 1)])\n",
      "/Users/Victor/anaconda3/envs/tfspark/lib/python3.7/site-packages/tensorboard/compat/tensorflow_stub/dtypes.py:542: FutureWarning: Passing (type, 1) or '1type' as a synonym of type is deprecated; in a future version of numpy, it will be understood as (type, (1,)) / '(1,)type'.\n",
      "  _np_quint8 = np.dtype([(\"quint8\", np.uint8, 1)])\n",
      "/Users/Victor/anaconda3/envs/tfspark/lib/python3.7/site-packages/tensorboard/compat/tensorflow_stub/dtypes.py:543: FutureWarning: Passing (type, 1) or '1type' as a synonym of type is deprecated; in a future version of numpy, it will be understood as (type, (1,)) / '(1,)type'.\n",
      "  _np_qint16 = np.dtype([(\"qint16\", np.int16, 1)])\n",
      "/Users/Victor/anaconda3/envs/tfspark/lib/python3.7/site-packages/tensorboard/compat/tensorflow_stub/dtypes.py:544: FutureWarning: Passing (type, 1) or '1type' as a synonym of type is deprecated; in a future version of numpy, it will be understood as (type, (1,)) / '(1,)type'.\n",
      "  _np_quint16 = np.dtype([(\"quint16\", np.uint16, 1)])\n",
      "/Users/Victor/anaconda3/envs/tfspark/lib/python3.7/site-packages/tensorboard/compat/tensorflow_stub/dtypes.py:545: FutureWarning: Passing (type, 1) or '1type' as a synonym of type is deprecated; in a future version of numpy, it will be understood as (type, (1,)) / '(1,)type'.\n",
      "  _np_qint32 = np.dtype([(\"qint32\", np.int32, 1)])\n",
      "/Users/Victor/anaconda3/envs/tfspark/lib/python3.7/site-packages/tensorboard/compat/tensorflow_stub/dtypes.py:550: FutureWarning: Passing (type, 1) or '1type' as a synonym of type is deprecated; in a future version of numpy, it will be understood as (type, (1,)) / '(1,)type'.\n",
      "  np_resource = np.dtype([(\"resource\", np.ubyte, 1)])\n"
     ]
    },
    {
     "name": "stdout",
     "output_type": "stream",
     "text": [
      "WARNING:tensorflow:From ../../keras_utils.py:68: The name tf.get_default_session is deprecated. Please use tf.compat.v1.get_default_session instead.\n",
      "\n",
      "WARNING:tensorflow:From /Users/Victor/anaconda3/envs/tfspark/lib/python3.7/site-packages/keras/backend/tensorflow_backend.py:95: The name tf.reset_default_graph is deprecated. Please use tf.compat.v1.reset_default_graph instead.\n",
      "\n",
      "WARNING:tensorflow:From /Users/Victor/anaconda3/envs/tfspark/lib/python3.7/site-packages/keras/backend/tensorflow_backend.py:98: The name tf.placeholder_with_default is deprecated. Please use tf.compat.v1.placeholder_with_default instead.\n",
      "\n",
      "WARNING:tensorflow:From /Users/Victor/anaconda3/envs/tfspark/lib/python3.7/site-packages/keras/backend/tensorflow_backend.py:102: The name tf.get_default_graph is deprecated. Please use tf.compat.v1.get_default_graph instead.\n",
      "\n",
      "WARNING:tensorflow:From ../../keras_utils.py:75: The name tf.ConfigProto is deprecated. Please use tf.compat.v1.ConfigProto instead.\n",
      "\n",
      "We're using TF 1.14.0\n"
     ]
    },
    {
     "name": "stderr",
     "output_type": "stream",
     "text": [
      "Using TensorFlow backend.\n"
     ]
    }
   ],
   "source": [
    "import tensorflow as tf\n",
    "import sys\n",
    "sys.path.append(\"../..\")\n",
    "from keras_utils import reset_tf_session\n",
    "s = reset_tf_session()\n",
    "print(\"We're using TF\", tf.__version__)"
   ]
  },
  {
   "cell_type": "markdown",
   "metadata": {},
   "source": [
    "# Warming up\n",
    "For starters, let's implement a python function that computes the sum of squares of numbers from 0 to N-1."
   ]
  },
  {
   "cell_type": "code",
   "execution_count": 5,
   "metadata": {},
   "outputs": [],
   "source": [
    "import numpy as np\n",
    "\n",
    "def sum_python(N):\n",
    "    return np.sum(np.arange(N)**2)"
   ]
  },
  {
   "cell_type": "code",
   "execution_count": 6,
   "metadata": {},
   "outputs": [
    {
     "name": "stdout",
     "output_type": "stream",
     "text": [
      "CPU times: user 1.02 ms, sys: 988 µs, total: 2 ms\n",
      "Wall time: 913 µs\n"
     ]
    },
    {
     "data": {
      "text/plain": [
       "333328333350000"
      ]
     },
     "execution_count": 6,
     "metadata": {},
     "output_type": "execute_result"
    }
   ],
   "source": [
    "%%time\n",
    "sum_python(10**5)"
   ]
  },
  {
   "cell_type": "markdown",
   "metadata": {},
   "source": [
    "# Tensoflow teaser\n",
    "\n",
    "Doing the very same thing"
   ]
  },
  {
   "cell_type": "code",
   "execution_count": 7,
   "metadata": {},
   "outputs": [],
   "source": [
    "# An integer parameter\n",
    "N = tf.placeholder('int64', name=\"input_to_your_function\")\n",
    "\n",
    "# A recipe on how to produce the same result\n",
    "result = tf.reduce_sum(tf.range(N)**2)"
   ]
  },
  {
   "cell_type": "code",
   "execution_count": 8,
   "metadata": {},
   "outputs": [
    {
     "data": {
      "text/plain": [
       "<tf.Tensor 'Sum:0' shape=() dtype=int64>"
      ]
     },
     "execution_count": 8,
     "metadata": {},
     "output_type": "execute_result"
    }
   ],
   "source": [
    "# just a graph definition\n",
    "result"
   ]
  },
  {
   "cell_type": "code",
   "execution_count": 9,
   "metadata": {},
   "outputs": [
    {
     "name": "stdout",
     "output_type": "stream",
     "text": [
      "CPU times: user 23.3 ms, sys: 2.97 ms, total: 26.3 ms\n",
      "Wall time: 22.2 ms\n"
     ]
    },
    {
     "data": {
      "text/plain": [
       "333328333350000"
      ]
     },
     "execution_count": 9,
     "metadata": {},
     "output_type": "execute_result"
    }
   ],
   "source": [
    "%%time\n",
    "# actually executing\n",
    "result.eval({N: 10**5})"
   ]
  },
  {
   "cell_type": "code",
   "execution_count": 10,
   "metadata": {},
   "outputs": [],
   "source": [
    "# logger for tensorboard\n",
    "writer = tf.summary.FileWriter(\"tensorboard_logs\", graph=s.graph)"
   ]
  },
  {
   "cell_type": "markdown",
   "metadata": {},
   "source": [
    "# How does it work?\n",
    "1. Define placeholders where you'll send inputs\n",
    "2. Make a symbolic graph: a recipe for mathematical transformation of those placeholders\n",
    "3. Compute outputs of your graph with particular values for each placeholder\n",
    "  * `output.eval({placeholder: value})`\n",
    "  * `s.run(output, {placeholder: value})`\n",
    "\n",
    "So far there are two main entities: \"placeholder\" and \"transformation\" (operation output)\n",
    "* Both can be numbers, vectors, matrices, tensors, etc.\n",
    "* Both can be int32/64, floats, booleans (uint8) of various size.\n",
    "\n",
    "* You can define new transformations as an arbitrary operation on placeholders and other transformations\n",
    " * `tf.reduce_sum(tf.arange(N)**2)` are 3 sequential transformations of placeholder `N`\n",
    " * There's a tensorflow symbolic version for every numpy function\n",
    "   * `a+b, a/b, a**b, ...` behave just like in numpy\n",
    "   * `np.mean` -> `tf.reduce_mean`\n",
    "   * `np.arange` -> `tf.range`\n",
    "   * `np.cumsum` -> `tf.cumsum`\n",
    "   * If you can't find the operation you need, see the [docs](https://www.tensorflow.org/versions/r1.3/api_docs/python).\n",
    "   \n",
    "`tf.contrib` has many high-level features, may be worth a look."
   ]
  },
  {
   "cell_type": "code",
   "execution_count": 11,
   "metadata": {},
   "outputs": [],
   "source": [
    "with tf.name_scope(\"Placeholders_examples\"):\n",
    "    # Default placeholder that can be arbitrary float32\n",
    "    # scalar, vertor, matrix, etc.\n",
    "    arbitrary_input = tf.placeholder('float32')\n",
    "\n",
    "    # Input vector of arbitrary length\n",
    "    input_vector = tf.placeholder('float32', shape=(None,))\n",
    "\n",
    "    # Input vector that _must_ have 10 elements and integer type\n",
    "    fixed_vector = tf.placeholder('int32', shape=(10,))\n",
    "\n",
    "    # Matrix of arbitrary n_rows and 15 columns\n",
    "    # (e.g. a minibatch of your data table)\n",
    "    input_matrix = tf.placeholder('float32', shape=(None, 15))\n",
    "    \n",
    "    # You can generally use None whenever you don't need a specific shape\n",
    "    input1 = tf.placeholder('float64', shape=(None, 100, None))\n",
    "    input2 = tf.placeholder('int32', shape=(None, None, 3, 224, 224))\n",
    "\n",
    "    # elementwise multiplication\n",
    "    double_the_vector = input_vector*2\n",
    "\n",
    "    # elementwise cosine\n",
    "    elementwise_cosine = tf.cos(input_vector)\n",
    "\n",
    "    # difference between squared vector and vector itself plus one\n",
    "    vector_squares = input_vector**2 - input_vector + 1"
   ]
  },
  {
   "cell_type": "code",
   "execution_count": 12,
   "metadata": {},
   "outputs": [],
   "source": [
    "my_vector =  tf.placeholder('float32', shape=(None,), name=\"VECTOR_1\")\n",
    "my_vector2 = tf.placeholder('float32', shape=(None,))\n",
    "my_transformation = my_vector * my_vector2 / (tf.sin(my_vector) + 1)"
   ]
  },
  {
   "cell_type": "code",
   "execution_count": 13,
   "metadata": {},
   "outputs": [
    {
     "name": "stdout",
     "output_type": "stream",
     "text": [
      "Tensor(\"truediv:0\", shape=(?,), dtype=float32)\n"
     ]
    }
   ],
   "source": [
    "print(my_transformation)"
   ]
  },
  {
   "cell_type": "code",
   "execution_count": 14,
   "metadata": {},
   "outputs": [
    {
     "name": "stdout",
     "output_type": "stream",
     "text": [
      "[0. 1. 2. 3. 4.]\n"
     ]
    },
    {
     "data": {
      "text/plain": [
       "array([0.       , 1.6291324, 2.0950115, 2.6289961, 0.       ],\n",
       "      dtype=float32)"
      ]
     },
     "execution_count": 14,
     "metadata": {},
     "output_type": "execute_result"
    }
   ],
   "source": [
    "dummy = np.arange(5).astype('float32')\n",
    "print(dummy)\n",
    "my_transformation.eval({my_vector: dummy, my_vector2: dummy[::-1]})"
   ]
  },
  {
   "cell_type": "code",
   "execution_count": 15,
   "metadata": {},
   "outputs": [],
   "source": [
    "writer.add_graph(my_transformation.graph)\n",
    "writer.flush()"
   ]
  },
  {
   "cell_type": "markdown",
   "metadata": {},
   "source": [
    "TensorBoard allows writing scalars, images, audio, histogram. You can read more on tensorboard usage [here](https://www.tensorflow.org/get_started/graph_viz)."
   ]
  },
  {
   "cell_type": "markdown",
   "metadata": {},
   "source": [
    "# Summary\n",
    "* Tensorflow is based on computation graphs\n",
    "* A graph consists of placeholders and transformations"
   ]
  },
  {
   "cell_type": "markdown",
   "metadata": {},
   "source": [
    "# Loss function: Mean Squared Error\n",
    "\n",
    "Loss function must be a part of the graph as well, so that we can do backpropagation."
   ]
  },
  {
   "cell_type": "code",
   "execution_count": 16,
   "metadata": {},
   "outputs": [],
   "source": [
    "with tf.name_scope(\"MSE\"):\n",
    "    y_true = tf.placeholder(\"float32\", shape=(None,), name=\"y_true\")\n",
    "    y_predicted = tf.placeholder(\"float32\", shape=(None,), name=\"y_predicted\")\n",
    "    # Implement MSE(y_true, y_predicted), use tf.reduce_mean(...)\n",
    "    # mse = ### YOUR CODE HERE ###\n",
    "    mse = tf.reduce_mean((y_true - y_predicted)**2)\n",
    "\n",
    "def compute_mse(vector1, vector2):\n",
    "    return mse.eval({y_true: vector1, y_predicted: vector2})"
   ]
  },
  {
   "cell_type": "code",
   "execution_count": 17,
   "metadata": {},
   "outputs": [],
   "source": [
    "writer.add_graph(mse.graph)\n",
    "writer.flush()"
   ]
  },
  {
   "cell_type": "code",
   "execution_count": 18,
   "metadata": {},
   "outputs": [],
   "source": [
    "# Rigorous local testing of MSE implementation\n",
    "import sklearn.metrics\n",
    "for n in [1, 5, 10, 10**3]:\n",
    "    elems = [np.arange(n), np.arange(n, 0, -1), np.zeros(n),\n",
    "             np.ones(n), np.random.random(n), np.random.randint(100, size=n)]\n",
    "    for el in elems:\n",
    "        for el_2 in elems:\n",
    "            true_mse = np.array(sklearn.metrics.mean_squared_error(el, el_2))\n",
    "            my_mse = compute_mse(el, el_2)\n",
    "            if not np.allclose(true_mse, my_mse):\n",
    "                print('mse(%s,%s)' % (el, el_2))\n",
    "                print(\"should be: %f, but your function returned %f\" % (true_mse, my_mse))\n",
    "                raise ValueError('Wrong result')"
   ]
  },
  {
   "cell_type": "markdown",
   "metadata": {},
   "source": [
    "# Variables\n",
    "\n",
    "Placeholder and transformation values are not stored in the graph once the execution is finished. This isn't too comfortable if you want your model to have parameters (e.g. network weights) that are always present, but can change their value over time.\n",
    "\n",
    "Tensorflow solves this with `tf.Variable` objects.\n",
    "* You can assign variable a value at any time in your graph\n",
    "* Unlike placeholders, there's no need to explicitly pass values to variables when `s.run(...)`-ing\n",
    "* You can use variables the same way you use transformations \n",
    " "
   ]
  },
  {
   "cell_type": "code",
   "execution_count": 19,
   "metadata": {},
   "outputs": [],
   "source": [
    "# Creating a shared variable\n",
    "shared_vector_1 = tf.Variable(initial_value=np.ones(5),\n",
    "                              name=\"example_variable\")"
   ]
  },
  {
   "cell_type": "code",
   "execution_count": 20,
   "metadata": {},
   "outputs": [
    {
     "name": "stdout",
     "output_type": "stream",
     "text": [
      "Initial value [1. 1. 1. 1. 1.]\n"
     ]
    }
   ],
   "source": [
    "# Initialize variable(s) with initial values\n",
    "s.run(tf.global_variables_initializer())\n",
    "\n",
    "# Evaluating the shared variable\n",
    "print(\"Initial value\", s.run(shared_vector_1))"
   ]
  },
  {
   "cell_type": "code",
   "execution_count": 21,
   "metadata": {},
   "outputs": [
    {
     "name": "stdout",
     "output_type": "stream",
     "text": [
      "New value [0. 1. 2. 3. 4.]\n"
     ]
    }
   ],
   "source": [
    "# Setting a new value\n",
    "s.run(shared_vector_1.assign(np.arange(5)))\n",
    "\n",
    "# Getting that new value\n",
    "print(\"New value\", s.run(shared_vector_1))"
   ]
  },
  {
   "cell_type": "markdown",
   "metadata": {},
   "source": [
    "# tf.gradients - why graphs matter\n",
    "* Tensorflow can compute derivatives and gradients automatically using the computation graph\n",
    "* True to its name it can manage matrix derivatives\n",
    "* Gradients are computed as a product of elementary derivatives via the chain rule:\n",
    "\n",
    "$$ {\\partial f(g(x)) \\over \\partial x} = {\\partial f(g(x)) \\over \\partial g(x)}\\cdot {\\partial g(x) \\over \\partial x} $$\n",
    "\n",
    "It can get you the derivative of any graph as long as it knows how to differentiate elementary operations"
   ]
  },
  {
   "cell_type": "code",
   "execution_count": 22,
   "metadata": {},
   "outputs": [
    {
     "name": "stdout",
     "output_type": "stream",
     "text": [
      "WARNING:tensorflow:From /Users/Victor/anaconda3/envs/tfspark/lib/python3.7/site-packages/tensorflow/python/ops/math_grad.py:1205: add_dispatch_support.<locals>.wrapper (from tensorflow.python.ops.array_ops) is deprecated and will be removed in a future version.\n",
      "Instructions for updating:\n",
      "Use tf.where in 2.0, which has the same broadcast rule as np.where\n"
     ]
    }
   ],
   "source": [
    "my_scalar = tf.placeholder('float32')\n",
    "\n",
    "scalar_squared = my_scalar**2\n",
    "\n",
    "# A derivative of scalar_squared by my_scalar\n",
    "derivative = tf.gradients(scalar_squared, [my_scalar, ])"
   ]
  },
  {
   "cell_type": "code",
   "execution_count": 23,
   "metadata": {},
   "outputs": [
    {
     "data": {
      "text/plain": [
       "[<tf.Tensor 'gradients/pow_1_grad/Reshape:0' shape=<unknown> dtype=float32>]"
      ]
     },
     "execution_count": 23,
     "metadata": {},
     "output_type": "execute_result"
    }
   ],
   "source": [
    "derivative"
   ]
  },
  {
   "cell_type": "code",
   "execution_count": 24,
   "metadata": {},
   "outputs": [
    {
     "data": {
      "image/png": "[encoded data removed]",
      "text/plain": [
       "<Figure size 432x288 with 1 Axes>"
      ]
     },
     "metadata": {
      "needs_background": "light"
     },
     "output_type": "display_data"
    }
   ],
   "source": [
    "import matplotlib.pyplot as plt\n",
    "%matplotlib inline\n",
    "\n",
    "x = np.linspace(-3, 3)\n",
    "x_squared, x_squared_der = s.run([scalar_squared, derivative[0]],\n",
    "                                 {my_scalar:x})\n",
    "\n",
    "plt.plot(x, x_squared,label=\"$x^2$\")\n",
    "plt.plot(x, x_squared_der, label=r\"$\\frac{dx^2}{dx}$\")\n",
    "plt.legend();"
   ]
  },
  {
   "cell_type": "markdown",
   "metadata": {},
   "source": [
    "# Why that rocks"
   ]
  },
  {
   "cell_type": "code",
   "execution_count": 25,
   "metadata": {},
   "outputs": [],
   "source": [
    "my_vector = tf.placeholder('float32', [None])\n",
    "# Compute the gradient of the next weird function over my_scalar and my_vector\n",
    "# Warning! Trying to understand the meaning of that function may result in permanent brain damage\n",
    "weird_psychotic_function = tf.reduce_mean(\n",
    "    (my_vector+my_scalar)**(1+tf.nn.moments(my_vector,[0])[1]) + \n",
    "    1./ tf.atan(my_scalar))/(my_scalar**2 + 1) + 0.01*tf.sin(\n",
    "    2*my_scalar**1.5)*(tf.reduce_sum(my_vector)* my_scalar**2\n",
    "                      )*tf.exp((my_scalar-4)**2)/(\n",
    "    1+tf.exp((my_scalar-4)**2))*(1.-(tf.exp(-(my_scalar-4)**2)\n",
    "                                    )/(1+tf.exp(-(my_scalar-4)**2)))**2\n",
    "\n",
    "der_by_scalar = tf.gradients(weird_psychotic_function, my_scalar)\n",
    "der_by_vector = tf.gradients(weird_psychotic_function, my_vector)"
   ]
  },
  {
   "cell_type": "code",
   "execution_count": 26,
   "metadata": {},
   "outputs": [
    {
     "data": {
      "image/png": "[encoded data removed]",
      "text/plain": [
       "<Figure size 432x288 with 1 Axes>"
      ]
     },
     "metadata": {
      "needs_background": "light"
     },
     "output_type": "display_data"
    }
   ],
   "source": [
    "# Plotting the derivative\n",
    "scalar_space = np.linspace(1, 7, 100)\n",
    "\n",
    "y = [s.run(weird_psychotic_function, {my_scalar:x, my_vector:[1, 2, 3]})\n",
    "     for x in scalar_space]\n",
    "\n",
    "plt.plot(scalar_space, y, label='function')\n",
    "\n",
    "y_der_by_scalar = [s.run(der_by_scalar,\n",
    "                         {my_scalar:x, my_vector:[1, 2, 3]})\n",
    "                   for x in scalar_space]\n",
    "\n",
    "plt.plot(scalar_space, y_der_by_scalar, label='derivative')\n",
    "plt.grid()\n",
    "plt.legend();"
   ]
  },
  {
   "cell_type": "markdown",
   "metadata": {},
   "source": [
    "# Almost done - optimizers\n",
    "\n",
    "While you can perform gradient descent by hand with automatic gradients from above, tensorflow also has some optimization methods implemented for you. Recall momentum & rmsprop?"
   ]
  },
  {
   "cell_type": "code",
   "execution_count": 27,
   "metadata": {},
   "outputs": [],
   "source": [
    "y_guess = tf.Variable(np.zeros(2, dtype='float32'))\n",
    "y_true = tf.range(1, 3, dtype='float32')\n",
    "\n",
    "loss = tf.reduce_mean((y_guess - y_true + 0.5*tf.random_normal([2]))**2) \n",
    "\n",
    "step = tf.train.MomentumOptimizer(0.03, 0.5).minimize(loss, var_list=y_guess)"
   ]
  },
  {
   "cell_type": "markdown",
   "metadata": {},
   "source": [
    "Let's draw a trajectory of a gradient descent in 2D"
   ]
  },
  {
   "cell_type": "code",
   "execution_count": 28,
   "metadata": {},
   "outputs": [
    {
     "data": {
      "image/png": "[encoded data removed]",
      "text/plain": [
       "<Figure size 432x288 with 1 Axes>"
      ]
     },
     "metadata": {
      "needs_background": "light"
     },
     "output_type": "display_data"
    }
   ],
   "source": [
    "from matplotlib import animation, rc\n",
    "import matplotlib_utils\n",
    "from IPython.display import HTML, display_html\n",
    "\n",
    "# nice figure settings\n",
    "fig, ax = plt.subplots()\n",
    "y_true_value = s.run(y_true)\n",
    "level_x = np.arange(0, 2, 0.02)\n",
    "level_y = np.arange(0, 3, 0.02)\n",
    "X, Y = np.meshgrid(level_x, level_y)\n",
    "Z = (X - y_true_value[0])**2 + (Y - y_true_value[1])**2\n",
    "ax.set_xlim(-0.02, 2)\n",
    "ax.set_ylim(-0.02, 3)\n",
    "s.run(tf.global_variables_initializer())\n",
    "ax.scatter(*s.run(y_true), c='red')\n",
    "contour = ax.contour(X, Y, Z, 10)\n",
    "ax.clabel(contour, inline=1, fontsize=10)\n",
    "line, = ax.plot([], [], lw=2)\n",
    "\n",
    "# start animation with empty trajectory\n",
    "def init():\n",
    "    line.set_data([], [])\n",
    "    return (line,)\n",
    "\n",
    "trajectory = [s.run(y_guess)]\n",
    "\n",
    "# one animation step (make one GD step)\n",
    "def animate(i):\n",
    "    s.run(step)\n",
    "    trajectory.append(s.run(y_guess))\n",
    "    line.set_data(*zip(*trajectory))\n",
    "    return (line,)\n",
    "\n",
    "anim = animation.FuncAnimation(fig, animate, init_func=init,\n",
    "                               frames=100, interval=20, blit=True)"
   ]
  },
  {
   "cell_type": "code",
   "execution_count": 29,
   "metadata": {},
   "outputs": [
    {
     "data": {
      "text/html": [
       "<video width=\"432\" height=\"288\" controls autoplay loop>\n",
       "  <source type=\"video/mp4\" src=\"data:video/mp4;base64,AAAAHGZ0eXBNNFYgAAACAGlzb21pc28yYXZjMQAAAAhmcmVlAABLym1kYXQAAAKuBgX//6rcRem9\n",
       "5tlIt5Ys2CDZI+7veDI2NCAtIGNvcmUgMTU1IHIyOTE3IDBhODRkOTggLSBILjI2NC9NUEVHLTQg\n",
       "QVZDIGNvZGVjIC0gQ29weWxlZnQgMjAwMy0yMDE4IC0gaHR0cDovL3d3dy52aWRlb2xhbi5vcmcv\n",
       "eDI2NC5odG1sIC0gb3B0aW9uczogY2FiYWM9MSByZWY9MyBkZWJsb2NrPTE6MDowIGFuYWx5c2U9\n",
       "MHgzOjB4MTEzIG1lPWhleCBzdWJtZT03IHBzeT0xIHBzeV9yZD0xLjAwOjAuMDAgbWl4ZWRfcmVm\n",
       "PTEgbWVfcmFuZ2U9MTYgY2hyb21hX21lPTEgdHJlbGxpcz0xIDh4OGRjdD0xIGNxbT0wIGRlYWR6\n",
       "b25lPTIxLDExIGZhc3RfcHNraXA9MSBjaHJvbWFfcXBfb2Zmc2V0PS0yIHRocmVhZHM9OSBsb29r\n",
       "YWhlYWRfdGhyZWFkcz0xIHNsaWNlZF90aHJlYWRzPTAgbnI9MCBkZWNpbWF0ZT0xIGludGVybGFj\n",
       "ZWQ9MCBibHVyYXlfY29tcGF0PTAgY29uc3RyYWluZWRfaW50cmE9MCBiZnJhbWVzPTMgYl9weXJh\n",
       "bWlkPTIgYl9hZGFwdD0xIGJfYmlhcz0wIGRpcmVjdD0xIHdlaWdodGI9MSBvcGVuX2dvcD0wIHdl\n",
       "aWdodHA9MiBrZXlpbnQ9MjUwIGtleWludF9taW49MjUgc2NlbmVjdXQ9NDAgaW50cmFfcmVmcmVz\n",
       "aD0wIHJjX2xvb2thaGVhZD00MCByYz1jcmYgbWJ0cmVlPTEgY3JmPTIzLjAgcWNvbXA9MC42MCBx\n",
       "cG1pbj0wIHFwbWF4PTY5IHFwc3RlcD00IGlwX3JhdGlvPTEuNDAgYXE9MToxLjAwAIAAADJFZYiE\n",
       "AC///vau/MsrRwuVLh1Ze7NR8uhJcv2IMH1oAAADAADVayF8oYJVUBjg5Cl8UC950wnQObmxLpMS\n",
       "eTd2N1o7ZvU7nZLqidQWs9IRqH4qZFuUNOvgrgAArGB7WlETloPe/JP4T9cYmW8XOcea2PNfdAfD\n",
       "fd6Iz/LDNKQmyT4UtqyM9VpZ4KW4uKMcNNP2NwTR824pPid9OGlJeuy3yaveIX6TYaJhi3+GxsUl\n",
       "gbdD7wi6WJ8qZSi0PaSn2s4FhcA/XBehncfXRTTznwpqU6eKyFdeuHcy8ZSuHOb73okXYF282AnQ\n",
       "O+NthfIO6ICw9PKlBNuBqRxaiQl9sG0uvLo0x0D+l8YkqzT+kvCo4lDL1338QOhvuGSSfwAql30v\n",
       "N7vApBofdDVYjnnLsAw1BhZhuO6rxIhqk7dhh12KFABPW2lIPi2qhOorFZAwkXygClwK0Gmv3AFE\n",
       "LIf/mJnUAU+c/oXfCJEcCnLuUJw3gpxXFbCZu0++xk3jFC6DlwKHgOgvpY2JmjI3AUF1cNdUn/fA\n",
       "87QAhuvmPh1HFp17ph6UR9ndTjHqWgN2oE+tsgwOYXRVLrBS7pJmuQab3Cs8WcZU9ryaX+Xxtcj/\n",
       "N0REBefkMHeRlU5ijhxh+3ZVriW7j/WD4kdoUQp7FIVKw+4V8zbNhzx7487AMoDsJ86ZBpvj9r06\n",
       "614md43b0kRUWy5DZZhJgEJHs4+9EG+PaxAoxJFT/Icbvpigi3TdZ35M1Z61vH10rJa4FCiKy6rP\n",
       "Yh/oUksTs+GQynZB6V497wPr81UxX+Uf6Z+qLCdodMcqJMdXyWX9HrL8oHVhP7ZJOBnSP8nDRf5Z\n",
       "XD7eXPqE3jUmCHoDeSUj8REgmdx1umE4yHdUcLdXsFJtsO+4Kfo9UTMU27a0aM/5ZNL7GGDxBWIg\n",
       "VlfnczkTWkEicoXXnCPRLJCsI3hdIbnJLXY/aDI8cK+42hJ6ViUBibMx55Q47U9EMF9j4EmHC3yQ\n",
       "FYTSE5vVpGdZ9be5B47/J0Cwnvcmlq75hYq9MvusTO/O+lkC20JwlD9nMBlY6i4qCJXlGl0+o6bv\n",
       "/aNj9zYtLbPa8hSWTHO1NWmGRnMewa8GX6tTfnmVQpum+YCNtNn7iEQvEXHrmYI6LA837Aw6v0az\n",
       "Q7qswnqHnhloSv2m6aTN2ar2weSGSZHIF3xFx29jEsmtFAe27vdPGF0W44+nM4gR9D72PGqx4N+F\n",
       "31bfelbaZEcPJu2eYDSTi1vpO930T2V0xfmafd/+GE04UChyvGh5mz7TIIuWuN4ntTRvOG6g6XMQ\n",
       "YoSp9b9d1h27NHMb4uwzsMpHQUFSUuWIIfawufJ9qeslj9oXbpd8gULoQeokzg5fBM3xCC2GpH62\n",
       "i6hz9jjDEyK7pJo6zda3jPZIuUqYXQ7ZSNQIAJ3JTKxNecdiG7P5s0Q5LFhfgexUkcPdFhXu/DRu\n",
       "NqcSoJh9vRvXXHICzb/j00KVqm3MlOkpTyUMGvhdT2KxC+lGcEWlQzMUSSRLCy8DqqU3fEo8Cw47\n",
       "oMtXKEVVncxmrSUhseeIoyuH/fxHQOCUDMVAV1wbEssOmXPUW1weFlRbknHHS5+XfIrCaWxnXHnC\n",
       "T+nspn8fvwnqy7kLTM3xOSCFeIKzihCnLwlIPELKsNwjAVb6G6nMq7CukaT9ktv/KolCziSBsXuC\n",
       "OqTJ/TmxNAN5G4RIV24kdCrVH0KJOtN0eoZbVsDpp4QWN47B+mwbbRSaLfq7PO4GBvkJEuSNdAaz\n",
       "TvtSJPjN/C3zXBoeQB+Uw/KrmtFGM2e/2NtJoPueFKqN1aA6kM70RULtfFurLRJ/r1v4IohroAt6\n",
       "t5jsNGyIWxJAVX6lymTLKLZ/ma1dsCdVBQx+t2XKSYv/WkHhhRNAwWYq8C4sRscW6gY2Pov4j+y9\n",
       "QFI5DRJmpuGu2VZaReGdv92EfEyk/R5MF1WIpoaEQlgLq+Vm9e6sXxCNNnoYcgEECKs0tJWDVMel\n",
       "WJYUYIYSATrCK1cWe9+COlvSWPysPNyIG9pLLYjBKTCxwfU83sSEIYcmf/3TjX+0j8r8xQ6ZIJNJ\n",
       "rv8kGNgEHQGbXdf/SgkjaP/Bpl4477zgyXw/9ytQZeLCKnVzTY3dX6wGGg6JXY0u9CL1Oc1sy/oT\n",
       "I1dpyrbD36D+hLZwtunP09JNIsWc01g+x6HPLph3Ez50Y/SD16ZILW3ZuUuf1XAjhJLm4kie3niE\n",
       "q+E/41uSxMCF+Ln1RJYwbeekRvUKJhJfbVGKhoTPJaoU0+tzeum5UxyRYEvaKEQXByhGi1DfRsP7\n",
       "fUBQV31mi6vBNSU1bmB6cW1bRs4fOH7uSD1e72srcIykyYj79yD4xYnwvXyMMEa7BEDbrPy5KJl5\n",
       "3TR75p8HJD5NQpHuGlWVh7DR4xe6BnVV8Bt1ONWLOZ8MnoVex6wtDfw70EVzM1GjQJZE7jbqnKuR\n",
       "rWvudJZ+F46ax0o+fuxeSS3AhKQWPrWc6D4JVS+KtrJr4N0Y2c7CQHwhR78I6VafwPE/kuAX00HA\n",
       "hncE/TzrXy/ONpDXpvYUnhlYG1oH5Qh0EuGl4Ps1FR+crIEiAS7GWWKUK6KAVBitjgbh3k/evW/z\n",
       "U22/JwaOlOH8N3JRz8+s6OfhYWtpmQ9E2PqEAiBLXLzO73uXLem6VNyOqQx9i3kLwtOAwLEHZVDS\n",
       "UQjaj5ETBwStkVvalQRUKF/rJG03w6xmBbWsx0K7oGaw5rIApOMNDv5YDI/Xbyojtg3Q2WYaMmAQ\n",
       "uHsYM24UVF8zklzs+KF2xPpL9aNLIu5SDeXq9awf1Wn3eufRRkW7y0VEZVZBVDXdBS5PXk3Py2+Y\n",
       "jSGLOUZv1ZS0njUy1uu2f1cSQJVCG07qs45Lm647doN9ONkVTtrjlBEogRN3DASEwal694bX1TOu\n",
       "0hGlahQ87F/6R2yfol/cLMIBvnwK9BYyETvHuKmRkii2sE3Cw831VCHZH5uwhMLpgi+MzY28ntZ+\n",
       "czno6N1lV89qhjbE05ayEh7obEJR8S8VkkquYHT4lGVapzUBestPp7+sLOd6MWDMBN3Y8oCIiRXg\n",
       "0Du5FCZWn8m9X1TYENK06Wz32ofvw/SDbs6CcuRa1pU7syaPsBlllfkXX82o+E2iAXjaIygtuNzU\n",
       "nojtRrNpTBMQlMH+gOlzXPb1lRyhxzl13B22aLBayirRNP4qWaAyUIHd6VAffD5e7EBCP5X+P0rJ\n",
       "/blV2TqnJnwfz84SxSq5z4IMPYTVVAEswim6JmAPLiahH5TMNg5eENZYbxyvgDQM4x75avZZirfe\n",
       "7epusBDBf5q2wzDA17amx7GK8ji0sIcIwETpwoQZcZrzFkRJ30Ybez2cTRVuBxn+q8NekPg91UOI\n",
       "rWF2dsZdS7bINlRBjPS3MJjuVbECduKZM24tstwfHYmhJ3mg+dlhgGU30TI8OuTGI/ElEd//vDBj\n",
       "Qfdw1ewpqLJK9eeNQuZdMbSLsqrCfwVrKx+lK93TmYDNLnNkuH0hNrnYN9BIICYWCybxw2h7lih9\n",
       "Z3/NSEYTsNjn44SWtICPMetssxlGdmEzEDes13JdT095S1dJ/0EDIvfPlaEyZrBo/u2+u1zRVPUT\n",
       "lfLANK4POeXM9wQZk5+AEsO24qlOGK9z2GAO9nOkXYW6IEOxKZjylFC6kAEL5Wc1Pbwy696/0nUP\n",
       "AA06WOow5lBfrLo6Ab3UlCrg1ENfmss2ynL4X9SBEfAfuevjyhuWH+7x9c53cjsK3yR7N3qlsKMT\n",
       "RMeKtJdddbTxqjLvkD69HugBdrC1o36JZ9/HqXxvFcZD5KA/JCc0k8ourP0cDtdWnMIq14hwqf86\n",
       "/0W/QFCrxnbitJuPJHpucCtsNb19tkT/PsI/Z/hSo5bRKkDte4RAsSXyPRz4gYl4LJljeRU+jEMs\n",
       "YSO4tq4+jh2nAc5MsXieITtc6Xx2wljbtczy1Tq2kw3qD2MDdO5PVg33bCmBMpVgUuoT68YCEgZw\n",
       "c7kvGTLhvG6meajegqVQsPBLWqW3+LtR3k0VlKAvP5nOGyFxANbgys/SOAR6Galzeil/m1POa7eH\n",
       "VU9qlQydTknlrfKi3INPPaZJLtoAap7kyXK4IYDqcGHdzJ6USV7quFphji/NKbQeGMIioC1DPVWh\n",
       "zX7t9iHjdFskrDz5CkYM7YipftFPoqWND/hLLp5jofCwk3II8AkEtG5mK9ha6HMK4dLTAEzeX3LT\n",
       "2fZWn0nLyZKJgvjphPME0ojHgy1bEL4ZtBuDXmWL9MfMmgFS+6MQpLGvyG8LDRe4ITzCjC1drvy1\n",
       "jncxa4GN8LtmKN9KHqGsslNPcBb0Fg/dXHrSzFHy1uDwIYfE9U6GXmQHDZBsIShPy3RsGV6Jqeyg\n",
       "nWy6tpSCvjaL8jBSyqj9+qBgi1PT8NSkzV1KITihLrP9U9mwEn20dZ5l6KwY70ladyeifhxQxlUA\n",
       "BmDw/M6RO1Me7xzGq0lDto7uUs0cjpkLj/pvjUe8pGYIMPLJKlBKxc4gMOPOtAI8vb1oCikoMAEQ\n",
       "nXHXweFo5x9uGLCAnkSaCz0Mpykhb5Z6euYdRNpyt2fsaVW7kf6A1JScS7ueK3x63JpL4BXWJjU2\n",
       "F/IB++mz7C9BAr+OM75v2Ais+xs+rJVOxDHqzYeJKD17X9y8UgmGZ0kBJGfomx18vVZ3TjXjhKQB\n",
       "hIeGZpY/tmIXPxUIndlcol9ZUB1NICtScF1MwaXvI4qZpK5xA5BRf2gMUOSzg6U97BtcPZ3DNWk+\n",
       "CWqNUEWNVpF8BEwXwf9UbL1nwCXMTRXB5SY2PCmtly0ivCn1MC54o8wlUBQLH8ho16hXJT4FzwAP\n",
       "RZC+uc3a4rEDzzDbe5CeHHjdQm4PATP//3ZoajEfK3/S8CbubrFeK913fsoMSNIRRDQ7nwn4bqBv\n",
       "h4Cb1gR1U/rlAE7MdfmORlZb8TQuqlbb7Ck4VMhUkd04sEry6NcWUEs2NHxJ/Hq3gQN3CowX87VC\n",
       "t8P/Elas+9nJQ7qEvd2U5hfc2r7x9f8UkunjGuYLJ2r81D+sX5XcG0mTcKL+8vtZq4bSSIw+/igY\n",
       "qEY1mt7ZOjrxMBrEAPdmdTwHVdm3Tsn04wl1uECAADbViiL4vZubKW7UH2Iyo6A7Xw9On2sp7W7g\n",
       "1rYiFO1BNzB32Oss3/RZLouY+urG4Kuz31XzYBV5xB1Vpi/ZoYXe3vOhrGqbUVLuTgX5AHzLINVS\n",
       "U5DpEYqxP5gXNnwX0xKutaLbMTqc1bPHsim9bBDTU7cjgOPt+REjylOPxzxs1dpp/cMOow38rwPz\n",
       "R6VYpP6XBCUPSMstHeoaTdVzAPZWUGP1SR7exMGVuznkKtjzJPQvMrO4vDT4oN4wzxJEkKyMNe0w\n",
       "wMzhJ+y6GKfNvKeAifu0eZfYlvXNlrtguECABPt7/+gAGVgoRXGywM/UD6OA8MeiIXdc3nJ8c+b/\n",
       "NpJ00biGic8kAgrV30+z9jArrJ+c62bzmj7hWZkBXyH57epjxp6oGyu5/q5hVfDOpDTTfjjEgd5z\n",
       "vk7+ByvVM1SDkBMjeZfYnIXEmGn68KGaBM9XIyk3XEwbTRUE6OGN7GTDEI1sikFpgIMCU5yI7ra1\n",
       "dx44x03fy8XbqihwPbOx18T8+r4v7z20lBHPfyxjsdFIAYst/b1F/4q/ISLTzgYhzTlPuncRv6te\n",
       "oV4wjJcwpGci6ZHC+kQ7J/Zni++w3K1RsQN7V4LlD8lVL0ZTM2n7pnvn+eQPCx9FG6JzkxfPQ8ns\n",
       "vNpNz7maawiGKjcXEtgvKMyP7fpQJHqhMolZvVCgbzuTjcVqJIrSlaM2Y4ufbaDALWgNtX+P8yjH\n",
       "egzQo3+Da8fhqCKfr/D6MyUGLFrRkjl1jIh9o4Sh2BuGicoUfI6pjHgKA676d/UZBag+bmZmPqmS\n",
       "jNu0OC9Bq66UVBIkdOq6WfJGEL1GvQ9H94toJUr4RwTh7JN6IdE9959Ha+7HADsX00yIs5E/+HKr\n",
       "GtxN+Raj9RykiPk6aajcRRa5zWI4AscNR6/rUgVhCjMPhwOMHDOX8Xc0tzyOtVnfvN72NPTy0SZo\n",
       "JxFEFfQeWyXGTY9ZIJ+8MnTNAWsNkLnXcBF6gB7vzE2U/ZTpo8c1yBhzUEy2cAKSC+7ql5Juwnth\n",
       "uVpx901yyeaEeEZ3W9NFHezsL1ikhCvuw/72acqbreFC9fMT/Qfd0GdgXeKZNTtNuzKsKSf1KqlC\n",
       "jL4MAOusjcgJiz0VAbUCaz8Bf7imyHvtS+AHll5DUpObN/gT2bLQ9pRZiNrLjGfM0lxOjcC+7FgD\n",
       "HA5ZtOBbUxNgfR4UZVgLIj/myTYBCuO9AdN4v0z42nQDz6rXXa9ezzcf+4xpd/OiDzI6wiO3iTPa\n",
       "YxNXSoiJ68ZKXG+5N0OSoEFrFm6HV4j3m1jJN6jC3iJ5w9FiKqXzMRz8QPP2XK3p6jHomzy/bM0G\n",
       "z8RhXNnOaxf0SuBj3VvJCF2qArn7qil4Jl9uvcpsUu8aX24QW6HOvu+jCRr7cRskLRuRRer24Py3\n",
       "rwt8h85oB6q2GXw5db5Mlm4BsDJNt2lMTHGVe/XlaBMH59PbeMzagXfNdIfVFn1gBZnwQPewJBRH\n",
       "32s7cXv227gUHrvRv2GItrvQJ4dhKDO1ZHz8HHSk3w1Imm2IAv3vGtBWD/1wNC29aGF2/4UhgyG0\n",
       "GoQX6KWM08+J9np0M3HUSeLVKuvWgVLUoeh9kTfDGD4M+rXpKpffcjeAS7Ho6wtmCDLiyn1lGeaQ\n",
       "cnhL2rR9l43iZ+M1agZpj2WlKG22vVRaYIxHMNNPBfNnIH4hcTbsXiFVFrojDfSgFZKVO+uunYsi\n",
       "Ui4ekAJKK7qnj6yAmKxFPZuTfIUWn9LdtrXhqSJUZ84W5+t12HZHgs0pYmamnnHLL7TY9hu1yoxx\n",
       "yxjPTdWHHdbHkYfCkVwpYbMMAEth86HUIjVYSyqtdty/QKkMsGrZ92nwiayG1RSoPy7xG7xFA8WZ\n",
       "ps0T87oVJ/EIgyjbJ8aycEEnm6x3UVPQBOYLFm1yCKTLLRNMJWHQ+RBgV5tzdMf6h55R/6xfrfS8\n",
       "rS5eLmKG3eHyjpb5nFuQKECWi3gjVUVsIhqmogklLRXjZXF1CkpsgDBKeRzwUjjKe2i0skhH6T1U\n",
       "Br3A0wVYjRzfV4LeMYTGhQndDXDIMHhMC/SD2ivc7MLBXTVFdsm32IAhzT0K9Y9m0S1NggokTUnx\n",
       "uULmPC+PZ+BsCQCmfrN/7GB6Wa+dcn/1tQB+RWW4Fk+sm9++Q8XiLvlbHlND4D7znUjIKgM80E91\n",
       "z9qnlQV1xiRdaHhlbAR0emwo2esKybbYmIw195F/HScQHdD9LqfeD+o052cJo4/JxuB5vwffPTX4\n",
       "GJOjdwg8DFNoyO2m3h+7spxTVd5Ux9Jf0mwnm/rC61RlpnMQD1lVZYe4D0Ih+F0T/viNI3/2+43N\n",
       "xsfUO4d9/XTPUbUR8DJfMrRgasBQ2eFQSXqNsTox+Kwyc8pc0BAIiBzUWB+5r8zFGSMLSyApHGFH\n",
       "VbAodT1IFFTxlAVMlVfQV8lk2UJC9VWlWyNf4MdOvPfwhbnL16E7xcasF7X2uoRPmYLFRgT8vSSF\n",
       "xuB+0ooWhPgRXZFjIwQBUzqSh3LVR/hR9VxqDj7CrfaymvVfdT3h3I+WdZbezadScL3DQqdclM4a\n",
       "QX9CmaVBEsnWGfWNpklHPU4vKsXiBDfMaJvxJnYJ8VQNCCKqSk/XiRtVa5l2dLBfhyO2RxK584MB\n",
       "XPJvrxsm+ZwzzAvFjg6nII7F4Fqif6JgyKy+fDJgg8vxfILzZ1zKUfqj1biulgQw1/zP7QlzV6BS\n",
       "53+ZvmSh+SNfE26aFXgPuFEpanomFecsmkES7IXfTFlbl0GAMLqh5Bzh7V5Ban3tYmC+kMVMPyP4\n",
       "JXdaxZD1w0J+Y0t7vK/quQ1q+BV+aKDagk+r8TQJnNlWVEohoF2gzQAYu6WyBw+jk6rt3i0lCFzt\n",
       "EwosLGKKmg6+yyQsuQcgvoET5qKK8VRlZCSEEhLtNNxJtkoLUqlf8MX/OQjws4iwk33ivVVmAT4n\n",
       "BsZk8UmTRAd8EwD1cp4jRxbejEtBuSsSXsf2QWxUanSyZMRcUcnfENyGw1Uf3/XyY2jacs5aDS0h\n",
       "McCpPd2Kh+nJecXWr2ldbevtFX8Hh3FqkEVtOCZKvmbINyp+3aST/zhURValF2/KKH2f8uAcad5k\n",
       "hvujLKhYJwBnJ83/Bx8SKEUaELyj3R0BEZG8qKkuj3f3RWrIvDWSO8RDPlX8QiTfLEE3RcJ+U6cb\n",
       "ynUGzqkOtvecVc41+PAtVXxShT3Li0IhJbM7Yew7uqvSbawkrGUPQ9Yzx3cPvNqlmPz0dnUmBRoE\n",
       "uc2+nqyJjrEXu6wiiuumOayPq7b/+gIr9LxbVdNPKXrE0F4Au/Fv0KA/Ve6IFYvkHkIgVjE4x9FH\n",
       "J7ETACpjWk9cnrsdAFs2ecZgVZHSHAoDVpONGEi2AUdE6u8awa7SEfkeFOI3TzK5XKIpHYLweg12\n",
       "SwFgCUPRs1JEAU1WKysGbYuXueXFrlPkstaEYFs9PvsWru9M2r6OUgdaclv56Cg44py/0MDX6yHg\n",
       "vCHcyJV1HbyUVK56q9h2LqdIOmCzEJI4luIcS3HydIthFcFwj3QtCb5lzAfYMOkgupmR6aEbLIn1\n",
       "dt0QWmlvYnuR29o42Ek6KUcPlvrogCznDDjIXmcnEg1ToJfyLR7SvSm+5NDMOeTqpalI0GFHChLC\n",
       "2hXHC+GMxK/xfdpBgoW296wLtDyvFY5zi0KkquIdkSQSDuFT1Pv+BK5auL4DC25u8EW0TtqorGRs\n",
       "8n3EzUOjaqBycfeU0ir4Dhayi6nghIrjQW1Be986tUrmW7SY4mNeIeSoTEjmskkYl0sx9EILeap6\n",
       "av08YmlBhVByx79KmV30c/YRxDEixDT5w49lVZwb/u/+bBd22h8kxw3tJRvzRs0bTtM1f7UMFt3W\n",
       "JigbKLvNl6JPlGZDo2aoSwnnLG2dTid5J1Kn9P7qlPJqNMSTeaRJ+UH6Vg30epWrl71DstYTgWvr\n",
       "h/MUC9npHTAVJ+Sk7NZiAD2KYjygS0YtpiJlY8Zg4I/4e8HkrDsnuniwiymMi9XaC7flXQjz/o9S\n",
       "+YI4D8IAxqav/j0fqd8G7R2FOUeMQEiAIXPpVfmq0FoELsXcYOevKlfmeCG0ohNh7zPxQVv3yWYv\n",
       "c+NuioSDa/ZI92VrnGMyxdvaUSOsA26syNSPlW/uvGb8TAD4KYEjzG65RHA2ID6stKhK+biqvw5D\n",
       "mjdsH953u64tU+xPukWTt3r3ww9hyvklFOsIxvjsOAlQCfMbhmCnCtZhtls797L0hWFfLB6RLJD6\n",
       "RmGxRVjqMU+Z/sN2HhFEtk4P4r++1uB8twKTrOcDFO2EwYYGYjXoksDOVLqhRJOInyJMGEcMhLt0\n",
       "xfPw8BX0Js2YsdAn3b/WHLd+AFlciD3i46caowWpgVGJnHvMyI9II3h++OtXbyYSV7rue97hUuG7\n",
       "rHddt+xdf6xDhwyr37Q18kiuYVOFO4Vj6A3H8mCu5mtmNjY/XgBip+jgxyTYBC5EZg0clRX8+8OI\n",
       "cHUJc5zj8LdMoZuNcgZdZuLMumgyki1mH/sRVdv6Rd4b6fHuCI2ORQSIam/c6kJN5nv5SlM2kL/d\n",
       "U2ceT580qOddyLx8IeaupjeoLJYXJQxJd+NsXSv/4018MzLaEboDGlqmnAfUHYrrV3kkJQHscMZ9\n",
       "/X9kuDzwkBcGFX6NXghjZk5aRF1A0cdeaKgvpUD4bWU+1gyNT/E+IX6VIy7HZLRW+v9HurVPaYjG\n",
       "hcH3nROxODpJw9SDlpgg2YOSO2eoIb1JueTIcNJXRELa26nkbg51AHeVP8EpZqWXVlCLkNhYUuDF\n",
       "bAcqf1vddrrr2XeDRALBrvYvB91z7KwtGRpMkA9sGeAkkk41MQC9UeTw4fohDqnEksC186mGgkcy\n",
       "+2i82Sq2Z4/N1k9ExKLj81WzXKZuwc3c8+M8Kn81d9GX6xOfWMvy+7WmkPqf9BNJhrT+ex6CpDEI\n",
       "dy1P1r+jUus+vo86gWmca4iN3OBr157N381qPmhP9Jwkf7fPyENIsmPwYzKk++PIBGBsXfR33eP5\n",
       "S3Oy4FPJj8PHnJQ8hFhZ/NaBWgB1rfTuBavdUBfyzY7vqNmuZl6hmKRn63prteP+m5es2OlDoYbT\n",
       "TQ3nE0cJtuwlXoua0UyMIyU+4u6aeS87DhndG8bJ/w+NnmrHYMeqc3MrWErccvHlQxfaQokFt2GP\n",
       "ZIuZrJpoUS1hJgsMZFKJn4k8T+JFE5kwUwviAyhtruAvRs6AohtbL5l5oXU/KGWcxR4zJfVea/fA\n",
       "GgZ38i/58G6j7xiycsUsfsz6S27Q0HB7qIKKq1CwizckuqDDelmL6re98fqvEEpE6TnZkqFPR8Nl\n",
       "vPIha0iOQ0i7Fuw0wNKU4P3aBHfvoJAPsj2iAv/BynZDr6ACapBhBlkqc1MZKs3ON2NRpCHoLjch\n",
       "gNPoFQ7oVko5vhA9ke09OWt8dvBVDcBG7awoWwR43no0vGawvmv5Q/PLk67fkPmOuKoEqpJViIhU\n",
       "JTHATWrIVv2qiKZK5y3usL+hOxd01oVRfRuNhmljYUc2qlajaQ/1vxc/pRTK9w7tDobN5XqxJCnx\n",
       "t3avODe3w4J4NybF+uPPVHT6wjKD29jC51nxNWIJSymofJ+1n5irTc0Dr1KHj+1Ysza5u1avxVaP\n",
       "7AA0IVt0mwS3catOcTGeIixjVB8/eLCI53PLvjPXf/wZySDUFeXvJ3DaGJRqqn2KU9f9zUF2zdMP\n",
       "pdwGwN66ed7aTn2A5j8i3ivogTVn1l5p5Pn0Z+yQRwjB+2hdBbl5wdwDQ9RruBg8CrFOe8A1kZ94\n",
       "RLZmnIDnHo205W4utCShCU88h2O4+L202rBKjOMt9khn8Bl1VtPFZkuQLfh0mkFqtP1Mq6JFSrHw\n",
       "FJti2izkCagpo45KFGH7fmORPvzL4SnVLDWb7kCl9UwMo1ITLz9e9Ezhm/DqgeiUBTaQfAAMleXg\n",
       "pl3cnZ0jIFirfDi8hO8m+cIeP+C4oJyfByCieqtdlaJ7Q3YH+kEUp2rmY5m3V8Ku2K9Hlwg0+8MZ\n",
       "HHm926e79oO+/nMjStfhnuTjIvUa2CoEQQAMCNei+bJj1Knn9X2cJIOfU1wfrzOa5tPoGXa1CtDA\n",
       "yua4sPki1b5fmn6WS4dcCEZHDoYQWR7kLNEGCP13Jk9jjF+BIv4j2ryXsmzCT36htECWVkqZeo87\n",
       "MOUr+5NhobEv7OpahqhidV4UUlofLSeoy2PS4l5Qt30ejwwL0p9DRgBI0p3M4rtNAbtN+Gg03E6r\n",
       "CCcYmmjkhDUh+bD8QjxILIlRusaDzUiZ6NRDLoNa83EFzhtDCZXBDZt13CEvW4cbOskjCJlZvuzp\n",
       "Lz8xQLpRh+fcPJBf+J7GBTz85l1/pkyjho5JzvDjW8stM9nzd/ZUPc8oo2XBtkGp9Zm4iFaQYGP3\n",
       "oSYvWSmTBZs+zTWd+J1hBoxCwGtbiMxJGaEAIKlwUh334d15hczsF45Aj+S04W04oT4wMesQ/uvd\n",
       "XR5idQ8ER2xi7Ic+0nBR63s/hj93oFw9bw1uBBbxCuCOdKo7c2lT/ycnADA4EoAZjz+sIAiq7dw1\n",
       "DMVkzKMktyrRxKEYS+eQCLLQRqz6f4szsyvz/VIBa67l4MC5fQ/VSXfgaJaHp5O1dIXvEGNNXAtk\n",
       "JstvmZfevpnCroMtQZ7a5nes9iz2VLzEr5A4tIV5CySNtGIyqajyhCBNkHGfzwjIqA3B0GGj5Xzn\n",
       "B/flSmdpHBa5t/FkP8B5AjaceB8kdyKgP3xZpCJkGAjF8S64+dgE60NFNfzrzvw6aiVCAhAQ/3hk\n",
       "HO3iaMcipWIZrMJqW+uxwin1ki0suH2gl82voHTdnyChkMjZqYl7vNBq1QX6cGFVUzAOhFIZKTLt\n",
       "zZcLnl9V6pwoTGmYtscsbX6H3VhuMZ6kAQw0YeOsBQjQqsrb8r4yFID7GLFheF3zHMBFIouicdYe\n",
       "LmDa4N6vCmPzKXFlIK20xkaonoyB1QMuPmForVI9+W7kjXbfbvik+yLNUrtbliwfgYDxMPdYnccJ\n",
       "HjB/sHgoFFsaQf2aCppivi9dsoiW0UKwbhVT9HX100byBy/b2ht3WM0+POeuHxjzGfJi+Ze6KdcT\n",
       "lGXqTA4CVhg+G3HJWM7QtnCEDhc2t0uVQa3hmvxT9d+mFp1abVJ6y9pbA+QM1KABS2MkstXmhgUS\n",
       "q8YXeBdDUF8yQpPRyFCjOeJoh91L6An1d03Q64n97LWUntlPJkrRcSDQaEih6XtTdlPuC9/5aV1N\n",
       "JoltXr3Ch9AuDHF1HB3Wnov4Q1od7HNsNYQto1WmSxy0moxSk1lL7wYiFHRkKjXpgARbvUqB0o6D\n",
       "noL1vd3LUcUzLXrZQK0Jm3pUbG4FNTH+Hs1ss5cfbp4vPknaRF+/yyIAv1qW6UoOh9DqEJeGPhu/\n",
       "zRADi2cr+DbbVrz71fNh4cStqgPR6AEvlLLt5isz/PgTgpfYXyCkm5q5w8KyfZBPmFLd9qClAgj7\n",
       "S+GhxGPnzVxYVSBhA82ovHvPcDXaKqoSqKL26OSJFJg9sRIU1acbuaFDjPHXrufyRlDHQkC1I2nR\n",
       "sKBKhg41qpIgYqPw5I7W5XSQjKvdwhaEZaystrXl1souNSAz82FaY5DYhcT4CWNXDUD2wyKVZ0lg\n",
       "3WxkGct/2smNRvtWKz01ignrX1PN9iHxWgW/IfA0fsiOsiIY8ItBJeW0srjOUZZKVJOULDWYsN1Z\n",
       "z+H2XunOGaMm6dZzgc5ungCQUJfGtAA05nPfvBoTw5oxWVd9i9/1/oRGMRZetMWQPW61eokybceo\n",
       "yWbTpTAW7mb71n2eEM+f+qDZn2eWHF+w5DFON8WaCRXlFQ/BUZQrZNrxUCaENKzG6m3RNOkeiBCK\n",
       "D5NUlTGeCZ3JJ1SE4lDpbIh54D7vzLv552q+XJQ/GjZfiU7Dsi702oU0kESlOr5IBsPOIVxkKrbD\n",
       "l/v4mdHuh99l+wmooGY2IjWCqXA1OAFS+tmaD/asrY+8YaAtQCwajdxeI4Obyzp2Q4191h2HhhhW\n",
       "H1QDwQPCKAbnXG/lb4aS7VCQrS6w+/aTuaRwl1gBHOUaqEeM9xnnJmCbMx1cdZuyuhaewGivgGsP\n",
       "Hbfx0mP4W/BBl5VnJtkZUo2x2fATyDnq9fJvCcZHwH8wwEKnPo1++niNyEs3zNnJpidTEfwzapAv\n",
       "HtA1aqGeyEXhSUbVX6pGsJ/VpeRDhRTn0ch/GoXaUosCnrM9f0UDh2IulFN1eMfTqgu6u89Z5Wo/\n",
       "lfTDTgARYFVHLNE2Jevvmt1OlSi+rWBYmeHZViAdbhqqB21IKf9P2UF9nJfQPc+83LZ94azEA/sN\n",
       "OKjtVJHXzjQ4VyH2bAD2csRF9nmcqAzwNFhhulSv0zErXhCI4mCf9bgTjli1nisKtVn8GWtg2VYI\n",
       "HbTG38TVS4AASQRICxgzGLc178sPRujzR3Jp3L8c7FEQLBEX3gYVy/qJzvFEWhqrFbFbt1ckCZJu\n",
       "C+9euZ4KcreLGONWHpODdmBIKv5QySqiyPt9B9GA71plYHMIVdKx97c4d8B9mpvp8zv3l7Msbido\n",
       "RbR9hYh1SY2BZ5cIqkxYCCab7dIuLXI2T8KGq8zqsuHWLhmH1cCim4mdy8qYqosB+xlK1yCaB3GD\n",
       "sqQDihU9pvl8kCOa4KbnaVuc2Q6kVl28f8FI0ers5s0JH/GnBdXy2IoddaPDWDvVTxrtWhl5ZLPW\n",
       "EI+BVXp0GhdsplzYiQV4OP7sqYGKDEwg0AtBT83dPnozSlY6NJip1alG0ZFo+tiuVmxH2cvaMhqB\n",
       "VBJA3g3hn+8R8a6ovDVrRkY+l2cq+8CIOifw/uCq+KXV1SyVMJ8nmT+YwyJbvpFNbrCuqWIS3Gev\n",
       "6MPlqmZnrAE3+jZpuB3X/WFsB5bmoKC3p78TuxTjPc0TdSEqrLkPnRfQTiUXzG5+RltkdTz+QgwN\n",
       "4YkW2chzay2M9w0Kqqqs0XAp845NbOYzrccv7IIi4+HyDyKDUyYHAUw78wdI3KxmHDH60kBajqa7\n",
       "6wZPVLj8hBwGNE1z/yMqm7ed9YAXvDxVC3ydTSlPNMrJbt7S6ITLj5LIDqZ7VnFM9TiAtL9xS7ps\n",
       "PAZfeh06bJwt20vJ6Dsp7SAeY2bJEKJb7E0l8iLop/6umVICCiOKn/vKNBdzocekwYBQODPoEP4v\n",
       "v3P3/HrVX02dTz1/LSxg/CQ4ft/suQLRs6oE6ELxD/71lmwPLak/oLFe3FZKKEtj3An9O7uqSBrb\n",
       "w25lQu8OXWX5BEC0m1D9aoiqoolEZ0e1Z/W+cdO2wbZSbZZocDR7DcSbNMPpa8Stmjtvj2mTKrkB\n",
       "y/m1iSfru+h4AZKcPHmCB2J8sCLJBJWpkvrvZtH0NUesivIXai4SPcx8lvo93B3bP2Y8kPv09IK4\n",
       "2r7WtGQOsBOzcdhl4Q5cymlT0+inoTXYVyAPM/jJxBev7N0L7V4/yUdpmSy1nVM/s9vqJ/s/AXs/\n",
       "RGGXKS2NagtO4RffSk3KAwg/Bqpv9biD1/JJ8F8VdeLccHHQBT8Chhaw1mc/TFuJB73wviao01mk\n",
       "030mTqq8DTmfhc0UnAw+4sVSkSsRVaPt2l/ECnn4mPKKM4I8fdixjtJC35yZb/0TDEIjiKmmgDd0\n",
       "ixzykZ9zTNVDEV6nn+ChpwFV88Re+VFyxne7N6Wl/7+Ct1x5/aEhR69XbIE1q4cqLAV0XvlQ7N03\n",
       "PtZXX8ClW9MgEHl3/bMOfO+Lxm7/Wi2l20PnsDW09HEOoyCXcQC52EUp/bjSfi82ruyROAqJy3pO\n",
       "tJA6Pd+lUwGsK5N8UXx6WiUx9AEd+iJALTM4///wX+D+DWqUWZyk+OccaQai+rREkJkADCcaa9Gh\n",
       "gt4owv/+ZRqqQ6vHKAvqhjUKSMcCFIUkXNDoGjO7xHHnMSaxDqgp19a/U78n/rDH9p+DR8JPcGT7\n",
       "w+hVlvMZlBWJmfz5ILWR/5BPp57hU8/1AWamzbR6PsKqOXni4g88ZRCSfZ6PSSdLAq5PLs3rCHB9\n",
       "/35QLbCq2oKeFcs6Mk1pZwb58UArSQU8WWDhVYFv00LXjEnMZsnJIQb3c0qZbWNeccM1lohG3Fly\n",
       "ZbxFpBke2oZdXRBiD2d8lCGuS5kz9m8mZRsHeFvDV+58GZLfVRBgIKIIDCdrvBC9wJpb5+LMjG+h\n",
       "GQe4hnkyNn9sOmVUifTqwIoVF0MkIDXuYEm2Y+/sobChuqHc1MZKsU8P5UC9nu27hHG/QQmBUEm3\n",
       "0LWDkqHvxPBv4G7HZQEH3ZVBJQ7j/YcDUKBMJxbH1kPwJ28dAJgGQhFKwNaOBxfHVSggPii0c0YR\n",
       "Br6rYoi0Vzji7+9tuhobLEKCBqKQ5Q+w8MXSrWx6zM4SPXZLY+v/+ZNeNH84/Cptu+rJjN7W7Id6\n",
       "WcZh9565SjzZH/7vzjnC4AdWxk8fauLn968f0QMk4p+RA6R+HC/8LjOrkafWNn5t2a3gHLJvTPGI\n",
       "yCYPS/dl3L1NF/OiZ8qMQZDQVOJXuFl8+usaYO5Sey+3f3kvuvJg8ZrR0LyXhSlsk/HIM6hrG1FI\n",
       "58DE30SsFSlw2g5Lpo9cH1Bsu0LN3Hv7yd7faPzlBNRKrF+uBpJKT9UrDh3vK5WXRREKR806L5d3\n",
       "6ujqgmVwig26aDluG0GFH2O0nNbW3Y8AfY1Z7b9Amexj9BONZ3ah1NiBmLLK9oqGYEz0N6XsEfV7\n",
       "jIWd/FdJuOmgGC4ADkQD1YKcUcZ1MLr3gR4so31/hKqKF9lhzcojM3uCEfy+YRYyALcHHQTx7iFt\n",
       "XSadVWl4chxRW+1R7mE++bQcqG2CK4OMeg0oKUTWfE+5eMVblw1vrJUMUj1RsXBXH7eDZWxW0pxN\n",
       "QuIa/xwcaGb1ZtbVOOXWiD34NU02jSgMXq1oXyrI76453hY6MDQNrCtdmL0aJYIeTbhoUpmRnqpv\n",
       "sWoZEHzj6Nn/lgXnmGwA1QFsQZLIl/Bv/Zk33Pq9W/GPic7wwVXFVIyuVj16KcoDMo7aRDSbzRXY\n",
       "svsiu+HFjhBDoaYMz3OzqBpwkwIZXG8z9DiNpidZK9s9rWCWBuk3BK6asdip0merBc1GILZiDo8U\n",
       "PVYACFb3G8Qf1uWAl0/uJJsxVR8CLP0VudIl8gOmKKiW5sdNNY35y4y9jH2y0UAVXXIzfRba7NLS\n",
       "astTlvZomQ3th825ubmSWENRBvEm22sABNVVOPkAbilYya2VZ9cNfTbsceGOpbMP07vpB6m9PAGD\n",
       "WoaP9QJcdhn8Z9dF3b3pXsL9frNF4CaaPXaUVF3i4be/A6V9WgfaAEyFxBWwASPEdtmhg12398Wr\n",
       "/T4tTr2TL3ogHSLJ65JQS1FZ0Tz6tizzI0xOEfUyAvn3bMItzqARKie1eKq93jQWzzrGv+Ju+0jv\n",
       "sDbHayooAV8sw6Yt3wquiXZDnKYyfatvb4fTnGF5XtigbIeghtztOdbWpUNLkTD2yZRgA8qYt1BL\n",
       "6D6jvI0lbOpTNdwSmuiiPWycXTkAMrneyZYbsOPCfoJ4soKHo+8fo7CjaKNcn0MflgWv4Rz5NGV0\n",
       "jad9OSUvPY7EmNOqDbfHPzGyRnlxVZtaRJnzpT16QU71RkoMt/ZzpAbNzyMOaJwvMZsOEmLJ9kQF\n",
       "OrgSxbE+7K3iWmjvdUwU43eid2geFrZFwpC2pMTag8DLP7OrmDDm9SW8kOnlbHgOZlD4h5Z5G+Jv\n",
       "xGf0oqbQadVbmX0GiXRiMfFPo/dZ2NkizJmN9C9dhj+065h+nu+qFMHvUKUylyMEP4V7bzgdfKYX\n",
       "qlsjDiBVIToTvs3pyBXT0h2+oWyFb4lqQewTuQLgcwChck4dBPuGb7J8mevw2ukSKrSesXafgF8T\n",
       "NFbvcRqAVvOeoADCBc6FPoPJnNzai90SzUpafeBYVD91Y9wFZVhpJEzByRG+KQ+T397PUcqsH81v\n",
       "aixZb/9roUooNygLEafa2DFFuTPAOLd9aeBvmfPiUh5JF6+ugmeXFQ8H7H4QvvSavLDzvGEvYaYr\n",
       "2zybPfWV1O2ai864hdm3c3j6nazqwF43KpUkB3Eo4WqHiDVBDP9f6SZ2vs0yFHIwSXpAgXwi17hB\n",
       "aE+amc4arEPev5Z8wP1L+JcqOjh82qtlT2acJoPtkHfSA4IkQYFyzPKMohGALjGkXrZfVLTH0rnA\n",
       "8efbGwEj5o7Hf9HpFasvnrLY7/BqeABXuFWmQ+E2t7ADSANSzzvqQ0EAAAMdQZoibEL//oywB9KQ\n",
       "oCgFiSF/C5Gt4wjZ8DStReoce0sNCv78x5XgzAwAriaAaqg0W60mi31MrnhlY7sIw9TpiJQN8KIK\n",
       "yUxFeaPkihhAssHzfTJN6T61DyPXdPgxePYARlAzyVfE+/ceRjSv9MfWUMZtHY27PT+VQqjrXX3+\n",
       "dyGJ+HQ9IiRrBCuc6P1h6hGOMQ+bwNmHRfxFI5+zHGX2N7xCTRkVA7OXh7yJBepWKVN/alhKFHhy\n",
       "qurHVp5x8lA0ywsix8bxLda3a6w+ISCBTZxWfe9n6ZNdHOHAlroD3/a7P+BNANb1SujJkB02Fty8\n",
       "83xStDaE8lmCH+GSYrnUNNZFbytB9M5Z37lgrxuEMu9N6jV0K5HAOS16VZUrpWgabmTpx2/BF8XZ\n",
       "ZR2uCGKc1IEvk+j2nxIQKvPYubG+7BS2w1e3+mTw/o2E8HebnstIPsR3uCvps8AZh5kIjUVH9kCy\n",
       "IB0rKheXVI18YNLuoNzQM1A7BevYCrh5PChRs8mU92RveMFiO+BKeaphdrDlgCl7jNx8G043brj2\n",
       "1lkT4v0mfY1Pm4gTuAc5WXDuPU1+5PF7HVx46mh9fQ9H4DGNYSjyn7LRGVcbQJROjRwAvqjnTEwi\n",
       "6SviO/KvZVoCNC9zVuLhKYIDfNRH6nX00FFRFsfYbt3fc8gz7t15Mag6svBCQQowko4TH8uDBZ7q\n",
       "KavceA/XF2rT9eYiFpkj985jsPhHJZXfrJUzmX1nwGRL5I2YHOJvyUB6xNj7edkxoh48WMu7m0Ya\n",
       "ZpkwLqlnE3OIQgAxDYwt0aCcxdtowrnJcnLHGwurny06+naBw7Q5y78wu+VzC/WCQ1VVdGL6YpRO\n",
       "xhYVBxUQkW61fhQ3nBrs43/hHdZMRC/Cect/rOQ/MFhF/v7I8YMvbSJ+8M2QjNQCqOW1ay7sDdeO\n",
       "hA8GvNvcydoU4+Zlf95pY/Th1cZQnB6o6/j5r68SBP2Frpz8Sn4Avx830yKiELQ5j2kw7f9bYp5T\n",
       "uWBsvIyvnQeQm1PFeWYQsG7n3Rrt4Nxa2an+pckK0PwIVaNdbIaZPPmPE0YAAABNAZ5BeR//B+u8\n",
       "Ug+p9eETmGYAAXaQHDTy6QdKzAjccn94/LrAZTl2NqgtIfNd9ZZh8eYeQGHRKDEYGJJXcV0zZqaM\n",
       "EfWvCvo0vFUfzDkAAAEQQZpEPCGTKYQv//6MsGxrdue4hwFPc5rQz2IoJKyBVvHGln1IRRjuvLkx\n",
       "wV6YA7kFLYOOAkw5xbXeNujS9+ivYUW87i63r8uALWDPOGxq8kxmEd/uMLrUF69T2Ky/QjJZKEjJ\n",
       "2wAcv8/X5fJ1bQk2xgbtyNTd4vlUItAoxSuARkchx54EFMwJdcBf9esoGOaUBxNQD4IX6KJ8D3/F\n",
       "csA+hrAO+3GYaQtjzfHL/eZFfc2GE+oAF++Vudcb+CTPsjMOw5Qp7D4ffIbvdBzIlNfB+tCVp9ll\n",
       "JfK+p5fLrJBhiUwSV09hW85Rtp839uoaZFgiprmRtAe0f2JBhIN0T96nyuHrc5KizvN5pgfc8L5w\n",
       "4oAAAAA6AZ5jakf/B+20UplJ9P6/TusJNuzALEiAiLqkVGAY/wA4sNOHZv6b05OpN5Umks1H8kKM\n",
       "fFcOkufNwQAAAOtBmmhJ4Q8mUwIV//44QAAMSFePQEEmImwjVZMTLYLP344CV0rwNRKP4x3kXJKR\n",
       "ATwr2IETK2u5XdTXXYxnUuS1RpObvI8UjXCvawbMFOYbz5Kr8wIl5hqVrSMxEWJ4Y7TWvL+dyeyF\n",
       "MBZjpWY3tS+xmuoEWGXdlUTksW6IiHnFyZ0/jFX2OsI1dvRvcmKZyWs2tiPkm67C9RKh08Ftxsus\n",
       "/KZWzo10Qs/v4vxsROJGX+lbZa9lOYwsAMhMmiM2o2prkqtiircPiHnCuXV0TF0ACpzR5A4hxE25\n",
       "hQCBTrbEqo4RnObGKy5iefPHAAAAN0GehkURPCP/BTPeXA0uigwmCijDfoWGyxtxiO650AJxsPp+\n",
       "33oeqle7og4E+Gi+i4tqV3sWpG0AAAAbAZ6ldEf/B+KSF9SH7XRycWjkO+oNfD7UGS6hAAAAIgGe\n",
       "p2pH/wfqP1uhbA7sm8pcSkGSABONHkXYAaHkZjxp4PgAAABdQZqpSahBaJlMCF///oywAASgjWcA\n",
       "o+teAjUtPiROJNy2v554/0yycErkLM43sey6QDX1qT6v2yrKtjNBiTMvXRSILMnDU+LFod2FWQQH\n",
       "yCurpF572/rIfcqWAxOAAAAArkGay0nhClJlMFESwv/+jLAABindtgGja4M6mEW4xKcwL24H70Rc\n",
       "QmlWoi7jfzAG6L4+4P4CiQ4o5UZpboDSJ6oYpXRCSIfORpU1q5LMM8Vm589dhUqcmVzRLR2bLMB1\n",
       "1IBRyEuCfPfjVu3MN/8RF+NA8BJKBpZlH1AtEYl+kxZ0gkqURtpcOttbGSP7XKWW6PnxFDFTwSs4\n",
       "lW7MOzIQur52szSr+Yh3en9pDtdZ2QAAACQBnupqR/8AYd4s7N0QAFxIEEwfYOUQ1m8CZAzzTgmI\n",
       "ovH4CGIAAABKQZrsSeEOiZTAhn/+nhAABfYVU4AcsbGNNrf1nVjdHYW5vr32o4lqnHMTTS+ckRH9\n",
       "QP7WgWV1AB1EdMxXX3jv9jXe1Ri3RnjwGCAAAACXQZsQSeEPJlMCF//+jLAADBCetDDhgKGenKaw\n",
       "970McmrM42U2SM4v/d4VI8aTGJYTEhS8FnPHu0uHFwvooZ7bslH81sonCWiWriy9Nf3CDoUKd/GI\n",
       "Dl8shIRu/aq1ihnEvaq37UeiyLSY8xSWudnntJlYDdiBywpn3ZdGAapZHoGU2g158TpDz838X6L5\n",
       "jOR0Ck+Crg/hYQAAACtBny5FETwj/wDc3FpVWAS4f8IAAtSK9fPxh3LwFniu6abRbBz0TkRI1VqZ\n",
       "AAAAFAGfTXRH/wAGG6FdAY6KcLsRPcKpAAAAEQGfT2pH/wAGFGmzKTNLQ7auAAAAQkGbU0moQWiZ\n",
       "TAhn//6eEAALnrP9wBVeK5Af+vKu490k+4n7eWlYBWqfJu7vtoTWqvU2za2bVkYmjNVAlcF0Wb/Z\n",
       "yAAAACJBn3FFESwj/wA8sRCE/w2AFpzzG83UPsXbzX75FRKFBcixAAAAGwGfkmpH/wAF+Lj2ACcE\n",
       "xNA+z5mPobTH3g1bQAAAAI5Bm5dJqEFsmUwIZ//+nhAAFz91jgKCaN0fZlk6dlBYd1LsKRlKyFGS\n",
       "331qpDhtj1T7Oupn76IyB11V7lGqYorHPM3qXVtW22/CAbOhbCFKuIYr135bA311IUfrEeEsxCDa\n",
       "CSP9eeymsH1tXZY8j6GTRtFytnmUHMrfhRk8jATR0V5XTvYe0+iJxfzflmCaAAAAHkGftUUVLCP/\n",
       "ANzcWlVYXw7NsaghaAs6oyo+CJWloQAAACIBn9R0R/8AC/ZVEAT94nbRmc/8tYifPUplcWJFckOP\n",
       "r1WAAAAAGQGf1mpH/wALpazJfmABazj79H/v0SxEMhcAAACgQZvbSahBbJlMCF///oywABbWiHZT\n",
       "fgA4Bq+nqv+QbTaoNUOLZYknHOHiy4GJsBJoJ+Ssg7z0iq1tU7V12mZPWbbeIHZzHG4MiA/pyobS\n",
       "QsJvPXjqxsey7EPUx4d01UlHtAQIdlYHm9IgR8tn63EOekaWmHs/pNX0P9wvqvWZ1pNdqh76rsHq\n",
       "6BhJT5NeLTrNG6lQ6B7U+Nh7cNXnPok5TQAAABtBn/lFFSwj/wDc3FpVWFqSke2fio8ODuN/PrAA\n",
       "AAAbAZ4YdEf/ABa/SxFocgALgviGrALDD8808GUdAAAAGgGeGmpH/wAWwgZec1ABbgmAnlxPlMFI\n",
       "7MzWAAAAR0GaH0moQWyZTAhf//6MsAAV3AHPR51TYBJseCIg340N7bsYPY66U63gFIjlbb/D0ITN\n",
       "YXQSIq1ysz3Npe31CRfk5f7d4YxZAAAAKEGePUUVLCP/ANzcWlVY/CAKtBRldABsutNkO0TmiIQH\n",
       "4l53P/zSN00AAAAeAZ5cdEf/ABYrjBlZBYl+ABB40RJtehVkaPKwvIqoAAAAHQGeXmpH/wAWMUPJ\n",
       "UUz4ADbJaEyfmO9+9sCEJ4lUAAAAlEGaQkmoQWyZTAhf//6MsAAru+PgaxICp9QwiGj4dfG7vHVu\n",
       "005qRw7FM1xuDOFnds9or0Pe48KlmZAXMbWUY+M3dC795QOrn4it9vTGEGgRp/nKL5SVcH07FHe/\n",
       "UT79lMimBB6KmKealtTNdT+4seL+zXxGid3d4MPg0c0gttF8qWVi+DMasZweYzF4jcuoFRRSS8EA\n",
       "AAAlQZ5gRRUsI/8APLESEOAZs8ALXMfn1c5t6VewglaArFTwaKKt0gAAAA4BnoFqR/8AFYeNsOPE\n",
       "7QAAADZBmoZJqEFsmUwIV//+OEAApDoKxgDbrnyQIa5NSeemDaOb0KxoIvc0azH/emZrWFSHSYoA\n",
       "iNgAAAAhQZ6kRRUsI/8A3NxaVVjwN+q3cAQYGiLaqXVJeecPQ5zBAAAADgGew3RH/wAVTLnzqkPn\n",
       "AAAAEwGexWpH/wAVqY4AEjr2/jZPE7EAAAA8QZrISahBbJlMFEwr//44QACjW2zAJqY2gADNUyLP\n",
       "R+bt7AIAp0NlThEJsH2wOVbZxb7Ch2YBLD1sCQalAAAAGgGe52pH/wBiPIg47pgAe9X7mtLfvCWQ\n",
       "JqnAAAAAOkGa6UnhClJlMCF//oywACqFkDGY/ABQaKT22ePbBVh9Qm2JnNWB6G9v0xwEO2xW5haP\n",
       "hpdyai6PIVMAAABwQZsMSeEOiZTAhf/+jLAAK3rSQAE7dqGMppBH3pHJVM/x0BVKHQV6dOhPtAVU\n",
       "vfJll780H0HfMM5e1TGcDJaHvdzKPLcAf0dtkbcZJsNcUQDKOZOBfhA3AUYAf5+qW4a0usX0qLjZ\n",
       "17G2j7TPMzFDpwAAABxBnypFETwj/wA8sRIRwlVWAAhEAbk8d8X5qwoTAAAAEQGfS2pH/wAsWaTC\n",
       "kKn96zKSAAAAP0GbTUmoQWiZTAhf//6MsABW8t0QV/qGD5VBV7qkzZ9mvToMKUbP1ElYOfERrUIC\n",
       "OyZr6o2Q5+OrdqknOgDBgQAAAEtBm3FJ4QpSZTAhf/6MsABXEydCHVWgAaIcLFxOd2MvTPWKAntB\n",
       "zOqTc5LcZwda1nrOTyhhusgbJXgbC8zHIv9IuXiDCe+tMkQ8AwcAAAAoQZ+PRTRMI/8A3NxaVVph\n",
       "gy+nhkmbAA21XdOlhR3i7jQDEX+qo4ozpwAAABABn650R/8ALX4kXIJFHBWwAAAADgGfsGpH/wAt\n",
       "g/5YeGVAAAAAXEGbskmoQWiZTAhn//6eEABWKNSkAVXzuwZs/dP3S/o8mD199DxM5WHulQdN2xiu\n",
       "oRh/SpmGl+S4gBklvtUV04QF4N0FZ+qzIYhbqP+77GFFFcSUbrlDM9adQUxxAAAAWkGb1knhClJl\n",
       "MCGf/p4QAFYxyAACgMwPVGbKzP4Z02nj1GUKx7T6WmZ+huioC1pOs7V/b2htJKCxBb0NzhXBkb2a\n",
       "zHMWCw3qnnh6ACzvnccKWE+mQV9441aF5AAAAB9Bn/RFNEwj/wDc3FpVWk6NHAC1ulCoyQMAhsD5\n",
       "B3TAAAAAFgGeE3RH/wAsKBVTgyAFuA+z47eqNCEAAAAPAZ4Vakf/ACxIYIKedoI2AAAAR0GaGkmo\n",
       "QWiZTAhn//6eEABT8sIAAN0obBvbTGdYw/p5DGGz8uZhgh131uBRkxBkII9QObK5BdoxcJXIxkHI\n",
       "jwtpqlL2j6FBAAAAFEGeOEURLCP/ANzcWlVaPFkX5hrbAAAADAGeV3RH/wArPoxRqwAAAAsBnllq\n",
       "R/8AAAMDuwAAADpBml5JqEFsmUwIZ//+nhAAVjHaUANrRtHw6rBaSgpdOQi1l693vTTN3cVPr12a\n",
       "y0h2lAqI1v+ufBDwAAAAFkGefEUVLCP/ANzcWlVaT4SbgfIQrYEAAAALAZ6bdEf/AAADA7sAAAAL\n",
       "AZ6dakf/AAADA7oAAAB5QZqCSahBbJlMCGf//p4QAFj338E3HsAQelwtBUSUkt0Xw20p+7/rvr5b\n",
       "uzRyy31eEIZ3JwRI7P99c5UgN7//+EeocQtwoJW7WBxOCqY9eJp7+gjrHPd+tehp6pd+G6Ok0L34\n",
       "Xl4A9R1b7qr4u46uDf0ILlHgRBbg/wAAACFBnqBFFSwj/wDc3FpVWlk/fabgAP2+zGKjP48Ukwvp\n",
       "Hp0AAAALAZ7fdEf/AAADA7oAAAAUAZ7Bakf/AC1jPhmK9yhYJPXdSC0AAABcQZrGSahBbJlMCF//\n",
       "/oywAFkmO+AGwicPqm22Tk6BrBTnsUueE6ZUamDR0dc3l2639np7M6VgDnMPlW2/BDe3JsKvEc04\n",
       "GbajXlhmMnu/NU7L3rwVAMySN+SI1YAAAAAWQZ7kRRUsI/8A3NxaVVpgWBBDzjHVtQAAABcBnwN0\n",
       "R/8ALX5fbq/GAFMwbvEYvyERcQAAABQBnwVqR/8AFj/eYAI7PCyzLYKaEQAAADpBmwlJqEFsmUwI\n",
       "Z//+nhAAVjKtcAOPDXQVFS/2vE1H4F16YxXrGn9d4iqrJR9+Zq+IE683dFUFrQ2ZAAAAE0GfJ0UV\n",
       "LCP/ADyxEhHFbt9chMAAAAAMAZ9Iakf/ABYlACLiAAAASkGbTUmoQWyZTAhf//6MsABW8p0ADpGt\n",
       "efkAL+AfW9852/1DcI07/facjCFgRxrEzpVH9x0Tqloi/strsDkIBCXLpIhqMl/6+DjhAAAAIUGf\n",
       "a0UVLCP/ANzcWlVaRlNTYAJ1BCcgA1+UNf9UK4/EhQAAAAwBn4p0R/8ALF6MUaEAAAATAZ+Makf/\n",
       "ACxL3MAJq7JoYEHCZwAAACRBm5FJqEFsmUwIX//+jLAAVvGZABHvON/5wHB417+2XlBig6cAAAAV\n",
       "QZ+vRRUsI/8A3NxaVVo9iMOGoGFBAAAACwGfznRH/wAAAwO6AAAADAGf0GpH/wArOawheQAAADhB\n",
       "m9RJqEFsmUwIX//+jLAAVLLu2AIkMZZjtVJwMI2JAyTJVksBkdEfleqSsbIn2zXDvlA1a+DpgQAA\n",
       "ABRBn/JFFSwj/wA8sRQTiogkyS29IAAAABUBnhNqR/8AKyzkoAJ27F42f6JDELAAAABYQZoYSahB\n",
       "bJlMCF///oywAFSx22AIkKbFvK52ZA40FAjblDYjo6FIsAqscL8wwbfAgVO6ye2fLu9x7+TpNyTZ\n",
       "AkNhb49IQkAcnsFc/MgeC8RRKe4yJ2FRGwAAACJBnjZFFSwj/wDc3FpVWjxVsHkAAkNQL9THrcqQ\n",
       "/y7Dc4tgAAAAGgGeVXRH/wArUxwAH7jp/6Hl4GNz4IDdBQW1AAAAFgGeV2pH/wAVltvgAmlvaoC8\n",
       "shrOFtEAAAA/QZpaSahBbJlMFEwv//6MsAAqWtNpACrrtGb7qm2C6tgrWNK+A9iCbfrNhUqnSCMN\n",
       "O5B+k+EOqnRcPnRTkMMqAAAAGAGeeWpH/wBiPIg7vEAAmUxEOh7vg4kxTwAAAC1Bmn5J4QpSZTAh\n",
       "X/44QACjYjnQAcHGTcUw7p9ksa82hQV3sOM1BglkCKtSAVsAAAAfQZ6cRTRMI/8A3NxaVVjz/qwA\n",
       "FwL/MUizuSc5c5cymQAAAAwBnrt0R/8AFQ9GKbUAAAAMAZ69akf/ABUFACMGAAAAIkGaokmoQWiZ\n",
       "TAhH//3hAAT2PuIASIJ+/gXtFvorG29OB4wAAAAdQZ7ARREsI/8A3NxaVVo8WJChgALO5ckRu86A\n",
       "p8EAAAANAZ7/dEf/ABT/yCBTagAAAA0BnuFqR/8AFQuZyOKLAAAAEkGa40moQWyZTAj//IQAAAMB\n",
       "swAAB7Ztb292AAAAbG12aGQAAAAAAAAAAAAAAAAAAAPoAAAH0AABAAABAAAAAAAAAAAAAAAAAQAA\n",
       "AAAAAAAAAAAAAAAAAAEAAAAAAAAAAAAAAAAAAEAAAAAAAAAAAAAAAAAAAAAAAAAAAAAAAAAAAAAA\n",
       "AAACAAAG4HRyYWsAAABcdGtoZAAAAAMAAAAAAAAAAAAAAAEAAAAAAAAH0AAAAAAAAAAAAAAAAAAA\n",
       "AAAAAQAAAAAAAAAAAAAAAAAAAAEAAAAAAAAAAAAAAAAAAEAAAAABsAAAASAAAAAAACRlZHRzAAAA\n",
       "HGVsc3QAAAAAAAAAAQAAB9AAAAIAAAEAAAAABlhtZGlhAAAAIG1kaGQAAAAAAAAAAAAAAAAAADIA\n",
       "AABkAFXEAAAAAAAtaGRscgAAAAAAAAAAdmlkZQAAAAAAAAAAAAAAAFZpZGVvSGFuZGxlcgAAAAYD\n",
       "bWluZgAAABR2bWhkAAAAAQAAAAAAAAAAAAAAJGRpbmYAAAAcZHJlZgAAAAAAAAABAAAADHVybCAA\n",
       "AAABAAAFw3N0YmwAAACzc3RzZAAAAAAAAAABAAAAo2F2YzEAAAAAAAAAAQAAAAAAAAAAAAAAAAAA\n",
       "AAABsAEgAEgAAABIAAAAAAAAAAEAAAAAAAAAAAAAAAAAAAAAAAAAAAAAAAAAAAAAAAAAAAAY//8A\n",
       "AAAxYXZjQwFkAB7/4QAYZ2QAHqzZQbCWhAAAAwAEAAADAZA8WLZYAQAGaOvjyyLAAAAAHHV1aWRr\n",
       "aEDyXyRPxbo5pRvPAyPzAAAAAAAAABhzdHRzAAAAAAAAAAEAAABkAAABAAAAABRzdHNzAAAAAAAA\n",
       "AAEAAAABAAADCGN0dHMAAAAAAAAAXwAAAAEAAAIAAAAAAQAAAwAAAAABAAABAAAAAAEAAAMAAAAA\n",
       "AQAAAQAAAAABAAAFAAAAAAEAAAIAAAAAAQAAAAAAAAABAAABAAAAAAEAAAIAAAAAAQAAAwAAAAAB\n",
       "AAABAAAAAAEAAAIAAAAAAQAABQAAAAABAAACAAAAAAEAAAAAAAAAAQAAAQAAAAABAAAEAAAAAAIA\n",
       "AAEAAAAAAQAABQAAAAABAAACAAAAAAEAAAAAAAAAAQAAAQAAAAABAAAFAAAAAAEAAAIAAAAAAQAA\n",
       "AAAAAAABAAABAAAAAAEAAAUAAAAAAQAAAgAAAAABAAAAAAAAAAEAAAEAAAAAAQAABAAAAAACAAAB\n",
       "AAAAAAEAAAUAAAAAAQAAAgAAAAABAAAAAAAAAAEAAAEAAAAAAQAAAwAAAAABAAABAAAAAAEAAAIA\n",
       "AAAAAQAABAAAAAACAAABAAAAAAEAAAIAAAAAAQAABQAAAAABAAACAAAAAAEAAAAAAAAAAQAAAQAA\n",
       "AAABAAACAAAAAAEAAAUAAAAAAQAAAgAAAAABAAAAAAAAAAEAAAEAAAAAAQAABQAAAAABAAACAAAA\n",
       "AAEAAAAAAAAAAQAAAQAAAAABAAAFAAAAAAEAAAIAAAAAAQAAAAAAAAABAAABAAAAAAEAAAUAAAAA\n",
       "AQAAAgAAAAABAAAAAAAAAAEAAAEAAAAAAQAABQAAAAABAAACAAAAAAEAAAAAAAAAAQAAAQAAAAAB\n",
       "AAAEAAAAAAIAAAEAAAAAAQAABQAAAAABAAACAAAAAAEAAAAAAAAAAQAAAQAAAAABAAAFAAAAAAEA\n",
       "AAIAAAAAAQAAAAAAAAABAAABAAAAAAEAAAQAAAAAAgAAAQAAAAABAAAFAAAAAAEAAAIAAAAAAQAA\n",
       "AAAAAAABAAABAAAAAAEAAAMAAAAAAQAAAQAAAAABAAAFAAAAAAEAAAIAAAAAAQAAAAAAAAABAAAB\n",
       "AAAAAAEAAAUAAAAAAQAAAgAAAAABAAAAAAAAAAEAAAEAAAAAAQAAAgAAAAAcc3RzYwAAAAAAAAAB\n",
       "AAAAAQAAAGQAAAABAAABpHN0c3oAAAAAAAAAAAAAAGQAADT7AAADIQAAAFEAAAEUAAAAPgAAAO8A\n",
       "AAA7AAAAHwAAACYAAABhAAAAsgAAACgAAABOAAAAmwAAAC8AAAAYAAAAFQAAAEYAAAAmAAAAHwAA\n",
       "AJIAAAAiAAAAJgAAAB0AAACkAAAAHwAAAB8AAAAeAAAASwAAACwAAAAiAAAAIQAAAJgAAAApAAAA\n",
       "EgAAADoAAAAlAAAAEgAAABcAAABAAAAAHgAAAD4AAAB0AAAAIAAAABUAAABDAAAATwAAACwAAAAU\n",
       "AAAAEgAAAGAAAABeAAAAIwAAABoAAAATAAAASwAAABgAAAAQAAAADwAAAD4AAAAaAAAADwAAAA8A\n",
       "AAB9AAAAJQAAAA8AAAAYAAAAYAAAABoAAAAbAAAAGAAAAD4AAAAXAAAAEAAAAE4AAAAlAAAAEAAA\n",
       "ABcAAAAoAAAAGQAAAA8AAAAQAAAAPAAAABgAAAAZAAAAXAAAACYAAAAeAAAAGgAAAEMAAAAcAAAA\n",
       "MQAAACMAAAAQAAAAEAAAACYAAAAhAAAAEQAAABEAAAAWAAAAFHN0Y28AAAAAAAAAAQAAACwAAABi\n",
       "dWR0YQAAAFptZXRhAAAAAAAAACFoZGxyAAAAAAAAAABtZGlyYXBwbAAAAAAAAAAAAAAAAC1pbHN0\n",
       "AAAAJal0b28AAAAdZGF0YQAAAAEAAAAATGF2ZjU4LjI5LjEwMA==\n",
       "\">\n",
       "  Your browser does not support the video tag.\n",
       "</video>"
      ]
     },
     "metadata": {},
     "output_type": "display_data"
    }
   ],
   "source": [
    "try:\n",
    "    display_html(HTML(anim.to_html5_video()))\n",
    "except (RuntimeError, KeyError):\n",
    "    # In case the build-in renderers are unaviable, fall back to\n",
    "    # a custom one, that doesn't require external libraries\n",
    "    anim.save(None, writer=matplotlib_utils.SimpleMovieWriter(0.001))"
   ]
  },
  {
   "cell_type": "code",
   "execution_count": null,
   "metadata": {},
   "outputs": [],
   "source": []
  }
 ],
 "metadata": {
  "kernelspec": {
   "display_name": "Python 3",
   "language": "python",
   "name": "python3"
  },
  "language_info": {
   "codemirror_mode": {
    "name": "ipython",
    "version": 3
   },
   "file_extension": ".py",
   "mimetype": "text/x-python",
   "name": "python",
   "nbconvert_exporter": "python",
   "pygments_lexer": "ipython3",
   "version": "3.7.5"
  }
 },
 "nbformat": 4,
 "nbformat_minor": 1
}
