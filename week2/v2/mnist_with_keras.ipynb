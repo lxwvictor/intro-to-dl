{
 "cells": [
  {
   "cell_type": "code",
   "execution_count": 1,
   "metadata": {},
   "outputs": [
    {
     "name": "stderr",
     "output_type": "stream",
     "text": [
      "UsageError: Line magic function `%tensorflow_version` not found.\n"
     ]
    }
   ],
   "source": [
    "# set tf 1.x for colab\n",
    "%tensorflow_version 1.x"
   ]
  },
  {
   "cell_type": "code",
   "execution_count": 2,
   "metadata": {},
   "outputs": [],
   "source": [
    "import warnings\n",
    "warnings.filterwarnings('ignore', category=DeprecationWarning)\n",
    "warnings.filterwarnings('ignore', category=FutureWarning)"
   ]
  },
  {
   "cell_type": "markdown",
   "metadata": {
    "slideshow": {
     "slide_type": "slide"
    }
   },
   "source": [
    "# MNIST digits classification with Keras\n",
    "\n",
    "We don't expect you to code anything here because you've already solved it with TensorFlow.\n",
    "\n",
    "But you can appreciate how simpler it is with Keras.\n",
    "\n",
    "We'll be happy if you play around with the architecture though, there're some tips at the end."
   ]
  },
  {
   "cell_type": "markdown",
   "metadata": {},
   "source": [
    "<img src=\"images/mnist_sample.png\" style=\"width:30%\">"
   ]
  },
  {
   "cell_type": "code",
   "execution_count": 3,
   "metadata": {},
   "outputs": [
    {
     "name": "stdout",
     "output_type": "stream",
     "text": [
      "We're using TF 1.14.0\n",
      "We are using Keras 2.3.1\n"
     ]
    },
    {
     "name": "stderr",
     "output_type": "stream",
     "text": [
      "Using TensorFlow backend.\n"
     ]
    }
   ],
   "source": [
    "import numpy as np\n",
    "from sklearn.metrics import accuracy_score\n",
    "from matplotlib import pyplot as plt\n",
    "%matplotlib inline\n",
    "import tensorflow as tf\n",
    "print(\"We're using TF\", tf.__version__)\n",
    "import keras\n",
    "print(\"We are using Keras\", keras.__version__)\n",
    "\n",
    "import sys\n",
    "sys.path.append(\"../..\")\n",
    "import keras_utils\n",
    "from keras_utils import reset_tf_session"
   ]
  },
  {
   "cell_type": "markdown",
   "metadata": {},
   "source": [
    "# Look at the data\n",
    "\n",
    "In this task we have 50000 28x28 images of digits from 0 to 9.\n",
    "We will train a classifier on this data."
   ]
  },
  {
   "cell_type": "code",
   "execution_count": 4,
   "metadata": {},
   "outputs": [],
   "source": [
    "import preprocessed_mnist\n",
    "X_train, y_train, X_val, y_val, X_test, y_test = preprocessed_mnist.load_dataset()"
   ]
  },
  {
   "cell_type": "code",
   "execution_count": 5,
   "metadata": {},
   "outputs": [
    {
     "name": "stdout",
     "output_type": "stream",
     "text": [
      "X_train [shape (50000, 28, 28)] sample patch:\n",
      " [[0.         0.29803922 0.96470588 0.98823529 0.43921569]\n",
      " [0.         0.33333333 0.98823529 0.90196078 0.09803922]\n",
      " [0.         0.33333333 0.98823529 0.8745098  0.        ]\n",
      " [0.         0.33333333 0.98823529 0.56862745 0.        ]\n",
      " [0.         0.3372549  0.99215686 0.88235294 0.        ]]\n",
      "A closeup of a sample patch:\n"
     ]
    },
    {
     "data": {
      "image/png": "[encoded data removed]",
      "text/plain": [
       "<Figure size 432x288 with 1 Axes>"
      ]
     },
     "metadata": {
      "needs_background": "light"
     },
     "output_type": "display_data"
    },
    {
     "name": "stdout",
     "output_type": "stream",
     "text": [
      "And the whole sample:\n"
     ]
    },
    {
     "data": {
      "image/png": "[encoded data removed]",
      "text/plain": [
       "<Figure size 432x288 with 1 Axes>"
      ]
     },
     "metadata": {
      "needs_background": "light"
     },
     "output_type": "display_data"
    },
    {
     "name": "stdout",
     "output_type": "stream",
     "text": [
      "y_train [shape (50000,)] 10 samples:\n",
      " [5 0 4 1 9 2 1 3 1 4]\n"
     ]
    }
   ],
   "source": [
    "# X contains rgb values divided by 255\n",
    "print(\"X_train [shape %s] sample patch:\\n\" % (str(X_train.shape)), X_train[1, 15:20, 5:10])\n",
    "print(\"A closeup of a sample patch:\")\n",
    "plt.imshow(X_train[1, 15:20, 5:10], cmap=\"Greys\")\n",
    "plt.show()\n",
    "print(\"And the whole sample:\")\n",
    "plt.imshow(X_train[1], cmap=\"Greys\")\n",
    "plt.show()\n",
    "print(\"y_train [shape %s] 10 samples:\\n\" % (str(y_train.shape)), y_train[:10])"
   ]
  },
  {
   "cell_type": "code",
   "execution_count": 6,
   "metadata": {},
   "outputs": [
    {
     "name": "stdout",
     "output_type": "stream",
     "text": [
      "(50000, 784)\n",
      "(10000, 784)\n"
     ]
    }
   ],
   "source": [
    "# flatten images\n",
    "X_train_flat = X_train.reshape((X_train.shape[0], -1))\n",
    "print(X_train_flat.shape)\n",
    "\n",
    "X_val_flat = X_val.reshape((X_val.shape[0], -1))\n",
    "print(X_val_flat.shape)"
   ]
  },
  {
   "cell_type": "code",
   "execution_count": 7,
   "metadata": {},
   "outputs": [
    {
     "name": "stdout",
     "output_type": "stream",
     "text": [
      "(50000, 10)\n",
      "[[0. 0. 0. 0. 0. 1. 0. 0. 0. 0.]\n",
      " [1. 0. 0. 0. 0. 0. 0. 0. 0. 0.]\n",
      " [0. 0. 0. 0. 1. 0. 0. 0. 0. 0.]] [5 0 4]\n"
     ]
    }
   ],
   "source": [
    "# one-hot encode the target\n",
    "y_train_oh = keras.utils.to_categorical(y_train, 10)\n",
    "y_val_oh = keras.utils.to_categorical(y_val, 10)\n",
    "\n",
    "print(y_train_oh.shape)\n",
    "print(y_train_oh[:3], y_train[:3])"
   ]
  },
  {
   "cell_type": "code",
   "execution_count": 8,
   "metadata": {},
   "outputs": [
    {
     "name": "stdout",
     "output_type": "stream",
     "text": [
      "WARNING:tensorflow:From ../..\\keras_utils.py:68: The name tf.get_default_session is deprecated. Please use tf.compat.v1.get_default_session instead.\n",
      "\n",
      "WARNING:tensorflow:From ../..\\keras_utils.py:75: The name tf.ConfigProto is deprecated. Please use tf.compat.v1.ConfigProto instead.\n",
      "\n",
      "WARNING:tensorflow:From ../..\\keras_utils.py:77: The name tf.InteractiveSession is deprecated. Please use tf.compat.v1.InteractiveSession instead.\n",
      "\n"
     ]
    }
   ],
   "source": [
    "# building a model with keras\n",
    "from keras.layers import Dense, Activation\n",
    "from keras.models import Sequential\n",
    "\n",
    "# we still need to clear a graph though\n",
    "s = reset_tf_session()\n",
    "\n",
    "model = Sequential()  # it is a feed-forward network without loops like in RNN\n",
    "model.add(Dense(256, input_shape=(784,)))  # the first layer must specify the input shape (replacing placeholders)\n",
    "model.add(Activation('sigmoid'))\n",
    "model.add(Dense(256))\n",
    "model.add(Activation('sigmoid'))\n",
    "model.add(Dense(10))\n",
    "model.add(Activation('softmax'))"
   ]
  },
  {
   "cell_type": "code",
   "execution_count": 9,
   "metadata": {},
   "outputs": [
    {
     "name": "stdout",
     "output_type": "stream",
     "text": [
      "Model: \"sequential_1\"\n",
      "_________________________________________________________________\n",
      "Layer (type)                 Output Shape              Param #   \n",
      "=================================================================\n",
      "dense_1 (Dense)              (None, 256)               200960    \n",
      "_________________________________________________________________\n",
      "activation_1 (Activation)    (None, 256)               0         \n",
      "_________________________________________________________________\n",
      "dense_2 (Dense)              (None, 256)               65792     \n",
      "_________________________________________________________________\n",
      "activation_2 (Activation)    (None, 256)               0         \n",
      "_________________________________________________________________\n",
      "dense_3 (Dense)              (None, 10)                2570      \n",
      "_________________________________________________________________\n",
      "activation_3 (Activation)    (None, 10)                0         \n",
      "=================================================================\n",
      "Total params: 269,322\n",
      "Trainable params: 269,322\n",
      "Non-trainable params: 0\n",
      "_________________________________________________________________\n"
     ]
    }
   ],
   "source": [
    "# you can look at all layers and parameter count\n",
    "model.summary()"
   ]
  },
  {
   "cell_type": "code",
   "execution_count": 10,
   "metadata": {},
   "outputs": [],
   "source": [
    "# now we \"compile\" the model specifying the loss and optimizer\n",
    "model.compile(\n",
    "    loss='categorical_crossentropy', # this is our cross-entropy\n",
    "    optimizer='adam',\n",
    "    metrics=['accuracy']  # report accuracy during training\n",
    ")"
   ]
  },
  {
   "cell_type": "code",
   "execution_count": 11,
   "metadata": {
    "scrolled": false
   },
   "outputs": [
    {
     "name": "stdout",
     "output_type": "stream",
     "text": [
      "WARNING:tensorflow:From C:\\Users\\Xiaowei\\Anaconda3\\envs\\tfspark\\lib\\site-packages\\keras\\backend\\tensorflow_backend.py:422: The name tf.global_variables is deprecated. Please use tf.compat.v1.global_variables instead.\n",
      "\n",
      "\n",
      "Epoch 1/40\n"
     ]
    },
    {
     "data": {
      "application/vnd.jupyter.widget-view+json": {
       "model_id": "ed0c4a5208da46178ec821dc534f8aff",
       "version_major": 2,
       "version_minor": 0
      },
      "text/plain": [
       "HBox(children=(FloatProgress(value=1.0, bar_style='info', max=1.0), HTML(value='')))"
      ]
     },
     "metadata": {},
     "output_type": "display_data"
    },
    {
     "name": "stdout",
     "output_type": "stream",
     "text": [
      "\n",
      "\n",
      "Epoch 2/40\n"
     ]
    },
    {
     "data": {
      "application/vnd.jupyter.widget-view+json": {
       "model_id": "17acab5b806d4f168a9037ddcb3649bf",
       "version_major": 2,
       "version_minor": 0
      },
      "text/plain": [
       "HBox(children=(FloatProgress(value=1.0, bar_style='info', max=1.0), HTML(value='')))"
      ]
     },
     "metadata": {},
     "output_type": "display_data"
    },
    {
     "name": "stdout",
     "output_type": "stream",
     "text": [
      "\n",
      "\n",
      "Epoch 3/40\n"
     ]
    },
    {
     "data": {
      "application/vnd.jupyter.widget-view+json": {
       "model_id": "5c0b892d259049719a169f017d94c572",
       "version_major": 2,
       "version_minor": 0
      },
      "text/plain": [
       "HBox(children=(FloatProgress(value=1.0, bar_style='info', max=1.0), HTML(value='')))"
      ]
     },
     "metadata": {},
     "output_type": "display_data"
    },
    {
     "name": "stdout",
     "output_type": "stream",
     "text": [
      "\n",
      "\n",
      "Epoch 4/40\n"
     ]
    },
    {
     "data": {
      "application/vnd.jupyter.widget-view+json": {
       "model_id": "9a321d0b34424d50afd26e5e7cecf1c3",
       "version_major": 2,
       "version_minor": 0
      },
      "text/plain": [
       "HBox(children=(FloatProgress(value=1.0, bar_style='info', max=1.0), HTML(value='')))"
      ]
     },
     "metadata": {},
     "output_type": "display_data"
    },
    {
     "name": "stdout",
     "output_type": "stream",
     "text": [
      "\n",
      "\n",
      "Epoch 5/40\n"
     ]
    },
    {
     "data": {
      "application/vnd.jupyter.widget-view+json": {
       "model_id": "4134f496f65a45b7aed1024224549a60",
       "version_major": 2,
       "version_minor": 0
      },
      "text/plain": [
       "HBox(children=(FloatProgress(value=1.0, bar_style='info', max=1.0), HTML(value='')))"
      ]
     },
     "metadata": {},
     "output_type": "display_data"
    },
    {
     "name": "stdout",
     "output_type": "stream",
     "text": [
      "\n",
      "\n",
      "Epoch 6/40\n"
     ]
    },
    {
     "data": {
      "application/vnd.jupyter.widget-view+json": {
       "model_id": "c7d5a8643b334531a764f257add09c4b",
       "version_major": 2,
       "version_minor": 0
      },
      "text/plain": [
       "HBox(children=(FloatProgress(value=1.0, bar_style='info', max=1.0), HTML(value='')))"
      ]
     },
     "metadata": {},
     "output_type": "display_data"
    },
    {
     "name": "stdout",
     "output_type": "stream",
     "text": [
      "\n",
      "\n",
      "Epoch 7/40\n"
     ]
    },
    {
     "data": {
      "application/vnd.jupyter.widget-view+json": {
       "model_id": "4e81a5179212474b90992568b3e4a350",
       "version_major": 2,
       "version_minor": 0
      },
      "text/plain": [
       "HBox(children=(FloatProgress(value=1.0, bar_style='info', max=1.0), HTML(value='')))"
      ]
     },
     "metadata": {},
     "output_type": "display_data"
    },
    {
     "name": "stdout",
     "output_type": "stream",
     "text": [
      "\n",
      "\n",
      "Epoch 8/40\n"
     ]
    },
    {
     "data": {
      "application/vnd.jupyter.widget-view+json": {
       "model_id": "0049d59d05634f71852c9c1ce74e9bde",
       "version_major": 2,
       "version_minor": 0
      },
      "text/plain": [
       "HBox(children=(FloatProgress(value=1.0, bar_style='info', max=1.0), HTML(value='')))"
      ]
     },
     "metadata": {},
     "output_type": "display_data"
    },
    {
     "name": "stdout",
     "output_type": "stream",
     "text": [
      "\n",
      "\n",
      "Epoch 9/40\n"
     ]
    },
    {
     "data": {
      "application/vnd.jupyter.widget-view+json": {
       "model_id": "70fca83148c44b4491ef1f910de0efad",
       "version_major": 2,
       "version_minor": 0
      },
      "text/plain": [
       "HBox(children=(FloatProgress(value=1.0, bar_style='info', max=1.0), HTML(value='')))"
      ]
     },
     "metadata": {},
     "output_type": "display_data"
    },
    {
     "name": "stdout",
     "output_type": "stream",
     "text": [
      "\n",
      "\n",
      "Epoch 10/40\n"
     ]
    },
    {
     "data": {
      "application/vnd.jupyter.widget-view+json": {
       "model_id": "971d49bb21c240589d4bb5f8ea60b3ed",
       "version_major": 2,
       "version_minor": 0
      },
      "text/plain": [
       "HBox(children=(FloatProgress(value=1.0, bar_style='info', max=1.0), HTML(value='')))"
      ]
     },
     "metadata": {},
     "output_type": "display_data"
    },
    {
     "name": "stdout",
     "output_type": "stream",
     "text": [
      "\n",
      "\n",
      "Epoch 11/40\n"
     ]
    },
    {
     "data": {
      "application/vnd.jupyter.widget-view+json": {
       "model_id": "1b2b0acbcb7a4bdf983106c0decc4c2d",
       "version_major": 2,
       "version_minor": 0
      },
      "text/plain": [
       "HBox(children=(FloatProgress(value=1.0, bar_style='info', max=1.0), HTML(value='')))"
      ]
     },
     "metadata": {},
     "output_type": "display_data"
    },
    {
     "name": "stdout",
     "output_type": "stream",
     "text": [
      "\n",
      "\n",
      "Epoch 12/40\n"
     ]
    },
    {
     "data": {
      "application/vnd.jupyter.widget-view+json": {
       "model_id": "06b42374ca964ef8a50f58f4b984456b",
       "version_major": 2,
       "version_minor": 0
      },
      "text/plain": [
       "HBox(children=(FloatProgress(value=1.0, bar_style='info', max=1.0), HTML(value='')))"
      ]
     },
     "metadata": {},
     "output_type": "display_data"
    },
    {
     "name": "stdout",
     "output_type": "stream",
     "text": [
      "\n",
      "\n",
      "Epoch 13/40\n"
     ]
    },
    {
     "data": {
      "application/vnd.jupyter.widget-view+json": {
       "model_id": "2abdb11247d74a1cbcd1f9c55de7816d",
       "version_major": 2,
       "version_minor": 0
      },
      "text/plain": [
       "HBox(children=(FloatProgress(value=1.0, bar_style='info', max=1.0), HTML(value='')))"
      ]
     },
     "metadata": {},
     "output_type": "display_data"
    },
    {
     "name": "stdout",
     "output_type": "stream",
     "text": [
      "\n",
      "\n",
      "Epoch 14/40\n"
     ]
    },
    {
     "data": {
      "application/vnd.jupyter.widget-view+json": {
       "model_id": "77cbaecdbda44140b265a959c6da9b33",
       "version_major": 2,
       "version_minor": 0
      },
      "text/plain": [
       "HBox(children=(FloatProgress(value=1.0, bar_style='info', max=1.0), HTML(value='')))"
      ]
     },
     "metadata": {},
     "output_type": "display_data"
    },
    {
     "name": "stdout",
     "output_type": "stream",
     "text": [
      "\n",
      "\n",
      "Epoch 15/40\n"
     ]
    },
    {
     "data": {
      "application/vnd.jupyter.widget-view+json": {
       "model_id": "7efa777512264ebca139e309dd8c48e0",
       "version_major": 2,
       "version_minor": 0
      },
      "text/plain": [
       "HBox(children=(FloatProgress(value=1.0, bar_style='info', max=1.0), HTML(value='')))"
      ]
     },
     "metadata": {},
     "output_type": "display_data"
    },
    {
     "name": "stdout",
     "output_type": "stream",
     "text": [
      "\n",
      "\n",
      "Epoch 16/40\n"
     ]
    },
    {
     "data": {
      "application/vnd.jupyter.widget-view+json": {
       "model_id": "c9ee86a5f1d24aa28dd1555603a19d09",
       "version_major": 2,
       "version_minor": 0
      },
      "text/plain": [
       "HBox(children=(FloatProgress(value=1.0, bar_style='info', max=1.0), HTML(value='')))"
      ]
     },
     "metadata": {},
     "output_type": "display_data"
    },
    {
     "name": "stdout",
     "output_type": "stream",
     "text": [
      "\n",
      "\n",
      "Epoch 17/40\n"
     ]
    },
    {
     "data": {
      "application/vnd.jupyter.widget-view+json": {
       "model_id": "3a786ff833524391a4f981604f91209d",
       "version_major": 2,
       "version_minor": 0
      },
      "text/plain": [
       "HBox(children=(FloatProgress(value=1.0, bar_style='info', max=1.0), HTML(value='')))"
      ]
     },
     "metadata": {},
     "output_type": "display_data"
    },
    {
     "name": "stdout",
     "output_type": "stream",
     "text": [
      "\n",
      "\n",
      "Epoch 18/40\n"
     ]
    },
    {
     "data": {
      "application/vnd.jupyter.widget-view+json": {
       "model_id": "9907ff12b4334977ae8e30682f022f68",
       "version_major": 2,
       "version_minor": 0
      },
      "text/plain": [
       "HBox(children=(FloatProgress(value=1.0, bar_style='info', max=1.0), HTML(value='')))"
      ]
     },
     "metadata": {},
     "output_type": "display_data"
    },
    {
     "name": "stdout",
     "output_type": "stream",
     "text": [
      "\n",
      "\n",
      "Epoch 19/40\n"
     ]
    },
    {
     "data": {
      "application/vnd.jupyter.widget-view+json": {
       "model_id": "e4db759e28994bdab43bac630f92ae50",
       "version_major": 2,
       "version_minor": 0
      },
      "text/plain": [
       "HBox(children=(FloatProgress(value=1.0, bar_style='info', max=1.0), HTML(value='')))"
      ]
     },
     "metadata": {},
     "output_type": "display_data"
    },
    {
     "name": "stdout",
     "output_type": "stream",
     "text": [
      "\n",
      "\n",
      "Epoch 20/40\n"
     ]
    },
    {
     "data": {
      "application/vnd.jupyter.widget-view+json": {
       "model_id": "a07d59e5a43d4144840f4de60caf466d",
       "version_major": 2,
       "version_minor": 0
      },
      "text/plain": [
       "HBox(children=(FloatProgress(value=1.0, bar_style='info', max=1.0), HTML(value='')))"
      ]
     },
     "metadata": {},
     "output_type": "display_data"
    },
    {
     "name": "stdout",
     "output_type": "stream",
     "text": [
      "\n",
      "\n",
      "Epoch 21/40\n"
     ]
    },
    {
     "data": {
      "application/vnd.jupyter.widget-view+json": {
       "model_id": "7f6b0a7253034e1696c75c6612b867bc",
       "version_major": 2,
       "version_minor": 0
      },
      "text/plain": [
       "HBox(children=(FloatProgress(value=1.0, bar_style='info', max=1.0), HTML(value='')))"
      ]
     },
     "metadata": {},
     "output_type": "display_data"
    },
    {
     "name": "stdout",
     "output_type": "stream",
     "text": [
      "\n",
      "\n",
      "Epoch 22/40\n"
     ]
    },
    {
     "data": {
      "application/vnd.jupyter.widget-view+json": {
       "model_id": "48c3eb1e0a5c4b08982c1baf439ca5f1",
       "version_major": 2,
       "version_minor": 0
      },
      "text/plain": [
       "HBox(children=(FloatProgress(value=1.0, bar_style='info', max=1.0), HTML(value='')))"
      ]
     },
     "metadata": {},
     "output_type": "display_data"
    },
    {
     "name": "stdout",
     "output_type": "stream",
     "text": [
      "\n",
      "\n",
      "Epoch 23/40\n"
     ]
    },
    {
     "data": {
      "application/vnd.jupyter.widget-view+json": {
       "model_id": "814a65ccbcff49b9a8d0ee39669f203e",
       "version_major": 2,
       "version_minor": 0
      },
      "text/plain": [
       "HBox(children=(FloatProgress(value=1.0, bar_style='info', max=1.0), HTML(value='')))"
      ]
     },
     "metadata": {},
     "output_type": "display_data"
    },
    {
     "name": "stdout",
     "output_type": "stream",
     "text": [
      "\n",
      "\n",
      "Epoch 24/40\n"
     ]
    },
    {
     "data": {
      "application/vnd.jupyter.widget-view+json": {
       "model_id": "4d7d3c843f064366ba64b633a0d8c96b",
       "version_major": 2,
       "version_minor": 0
      },
      "text/plain": [
       "HBox(children=(FloatProgress(value=1.0, bar_style='info', max=1.0), HTML(value='')))"
      ]
     },
     "metadata": {},
     "output_type": "display_data"
    },
    {
     "name": "stdout",
     "output_type": "stream",
     "text": [
      "\n",
      "\n",
      "Epoch 25/40\n"
     ]
    },
    {
     "data": {
      "application/vnd.jupyter.widget-view+json": {
       "model_id": "488236b179774559afe238fdd70482e2",
       "version_major": 2,
       "version_minor": 0
      },
      "text/plain": [
       "HBox(children=(FloatProgress(value=1.0, bar_style='info', max=1.0), HTML(value='')))"
      ]
     },
     "metadata": {},
     "output_type": "display_data"
    },
    {
     "name": "stdout",
     "output_type": "stream",
     "text": [
      "\n",
      "\n",
      "Epoch 26/40\n"
     ]
    },
    {
     "data": {
      "application/vnd.jupyter.widget-view+json": {
       "model_id": "8f7fd1c48fd94fce96cf589fcc016e8a",
       "version_major": 2,
       "version_minor": 0
      },
      "text/plain": [
       "HBox(children=(FloatProgress(value=1.0, bar_style='info', max=1.0), HTML(value='')))"
      ]
     },
     "metadata": {},
     "output_type": "display_data"
    },
    {
     "name": "stdout",
     "output_type": "stream",
     "text": [
      "\n",
      "\n",
      "Epoch 27/40\n"
     ]
    },
    {
     "data": {
      "application/vnd.jupyter.widget-view+json": {
       "model_id": "4d9bd26938154b21a7ff660b697f80bf",
       "version_major": 2,
       "version_minor": 0
      },
      "text/plain": [
       "HBox(children=(FloatProgress(value=1.0, bar_style='info', max=1.0), HTML(value='')))"
      ]
     },
     "metadata": {},
     "output_type": "display_data"
    },
    {
     "name": "stdout",
     "output_type": "stream",
     "text": [
      "\n",
      "\n",
      "Epoch 28/40\n"
     ]
    },
    {
     "data": {
      "application/vnd.jupyter.widget-view+json": {
       "model_id": "27af4330776a423f80c032876002ea7d",
       "version_major": 2,
       "version_minor": 0
      },
      "text/plain": [
       "HBox(children=(FloatProgress(value=1.0, bar_style='info', max=1.0), HTML(value='')))"
      ]
     },
     "metadata": {},
     "output_type": "display_data"
    },
    {
     "name": "stdout",
     "output_type": "stream",
     "text": [
      "\n",
      "\n",
      "Epoch 29/40\n"
     ]
    },
    {
     "data": {
      "application/vnd.jupyter.widget-view+json": {
       "model_id": "cce1467368df43a482e06942513e57eb",
       "version_major": 2,
       "version_minor": 0
      },
      "text/plain": [
       "HBox(children=(FloatProgress(value=1.0, bar_style='info', max=1.0), HTML(value='')))"
      ]
     },
     "metadata": {},
     "output_type": "display_data"
    },
    {
     "name": "stdout",
     "output_type": "stream",
     "text": [
      "\n",
      "\n",
      "Epoch 30/40\n"
     ]
    },
    {
     "data": {
      "application/vnd.jupyter.widget-view+json": {
       "model_id": "957fcc611f6b4540a0ed3853a20b85c0",
       "version_major": 2,
       "version_minor": 0
      },
      "text/plain": [
       "HBox(children=(FloatProgress(value=1.0, bar_style='info', max=1.0), HTML(value='')))"
      ]
     },
     "metadata": {},
     "output_type": "display_data"
    },
    {
     "name": "stdout",
     "output_type": "stream",
     "text": [
      "\n",
      "\n",
      "Epoch 31/40\n"
     ]
    },
    {
     "data": {
      "application/vnd.jupyter.widget-view+json": {
       "model_id": "e7e1e3dcf1a244e886640c52c28e7343",
       "version_major": 2,
       "version_minor": 0
      },
      "text/plain": [
       "HBox(children=(FloatProgress(value=1.0, bar_style='info', max=1.0), HTML(value='')))"
      ]
     },
     "metadata": {},
     "output_type": "display_data"
    },
    {
     "name": "stdout",
     "output_type": "stream",
     "text": [
      "\n",
      "\n",
      "Epoch 32/40\n"
     ]
    },
    {
     "data": {
      "application/vnd.jupyter.widget-view+json": {
       "model_id": "56ceb99a21974904a72e001dce727f8e",
       "version_major": 2,
       "version_minor": 0
      },
      "text/plain": [
       "HBox(children=(FloatProgress(value=1.0, bar_style='info', max=1.0), HTML(value='')))"
      ]
     },
     "metadata": {},
     "output_type": "display_data"
    },
    {
     "name": "stdout",
     "output_type": "stream",
     "text": [
      "\n",
      "\n",
      "Epoch 33/40\n"
     ]
    },
    {
     "data": {
      "application/vnd.jupyter.widget-view+json": {
       "model_id": "ad684d239a5f4d2b87b2e5727528ade7",
       "version_major": 2,
       "version_minor": 0
      },
      "text/plain": [
       "HBox(children=(FloatProgress(value=1.0, bar_style='info', max=1.0), HTML(value='')))"
      ]
     },
     "metadata": {},
     "output_type": "display_data"
    },
    {
     "name": "stdout",
     "output_type": "stream",
     "text": [
      "\n",
      "\n",
      "Epoch 34/40\n"
     ]
    },
    {
     "data": {
      "application/vnd.jupyter.widget-view+json": {
       "model_id": "bdb5f942e02c4e21a70f8e15fbc738b2",
       "version_major": 2,
       "version_minor": 0
      },
      "text/plain": [
       "HBox(children=(FloatProgress(value=1.0, bar_style='info', max=1.0), HTML(value='')))"
      ]
     },
     "metadata": {},
     "output_type": "display_data"
    },
    {
     "name": "stdout",
     "output_type": "stream",
     "text": [
      "\n",
      "\n",
      "Epoch 35/40\n"
     ]
    },
    {
     "data": {
      "application/vnd.jupyter.widget-view+json": {
       "model_id": "5eee0e2dd7e54ef5b1c67bab4c72dca7",
       "version_major": 2,
       "version_minor": 0
      },
      "text/plain": [
       "HBox(children=(FloatProgress(value=1.0, bar_style='info', max=1.0), HTML(value='')))"
      ]
     },
     "metadata": {},
     "output_type": "display_data"
    },
    {
     "name": "stdout",
     "output_type": "stream",
     "text": [
      "\n",
      "\n",
      "Epoch 36/40\n"
     ]
    },
    {
     "data": {
      "application/vnd.jupyter.widget-view+json": {
       "model_id": "943b0047c72b4225a44aed55fdd7db5c",
       "version_major": 2,
       "version_minor": 0
      },
      "text/plain": [
       "HBox(children=(FloatProgress(value=1.0, bar_style='info', max=1.0), HTML(value='')))"
      ]
     },
     "metadata": {},
     "output_type": "display_data"
    },
    {
     "name": "stdout",
     "output_type": "stream",
     "text": [
      "\n",
      "\n",
      "Epoch 37/40\n"
     ]
    },
    {
     "data": {
      "application/vnd.jupyter.widget-view+json": {
       "model_id": "88f591836ec14c4ba034ff390fa4990e",
       "version_major": 2,
       "version_minor": 0
      },
      "text/plain": [
       "HBox(children=(FloatProgress(value=1.0, bar_style='info', max=1.0), HTML(value='')))"
      ]
     },
     "metadata": {},
     "output_type": "display_data"
    },
    {
     "name": "stdout",
     "output_type": "stream",
     "text": [
      "\n",
      "\n",
      "Epoch 38/40\n"
     ]
    },
    {
     "data": {
      "application/vnd.jupyter.widget-view+json": {
       "model_id": "2d3b004bc00c4988884236c4e65e9b86",
       "version_major": 2,
       "version_minor": 0
      },
      "text/plain": [
       "HBox(children=(FloatProgress(value=1.0, bar_style='info', max=1.0), HTML(value='')))"
      ]
     },
     "metadata": {},
     "output_type": "display_data"
    },
    {
     "name": "stdout",
     "output_type": "stream",
     "text": [
      "\n",
      "\n",
      "Epoch 39/40\n"
     ]
    },
    {
     "data": {
      "application/vnd.jupyter.widget-view+json": {
       "model_id": "3dd503266427481e91d4c8bd7bce85f1",
       "version_major": 2,
       "version_minor": 0
      },
      "text/plain": [
       "HBox(children=(FloatProgress(value=1.0, bar_style='info', max=1.0), HTML(value='')))"
      ]
     },
     "metadata": {},
     "output_type": "display_data"
    },
    {
     "name": "stdout",
     "output_type": "stream",
     "text": [
      "\n",
      "\n",
      "Epoch 40/40\n"
     ]
    },
    {
     "data": {
      "application/vnd.jupyter.widget-view+json": {
       "model_id": "2dba210cd6744621be7d4cf918f8c5eb",
       "version_major": 2,
       "version_minor": 0
      },
      "text/plain": [
       "HBox(children=(FloatProgress(value=1.0, bar_style='info', max=1.0), HTML(value='')))"
      ]
     },
     "metadata": {},
     "output_type": "display_data"
    },
    {
     "name": "stdout",
     "output_type": "stream",
     "text": [
      "\n"
     ]
    },
    {
     "data": {
      "text/plain": [
       "<keras.callbacks.callbacks.History at 0x241c290cd08>"
      ]
     },
     "execution_count": 11,
     "metadata": {},
     "output_type": "execute_result"
    }
   ],
   "source": [
    "# and now we can fit the model with model.fit()\n",
    "# and we don't have to write loops and batching manually as in TensorFlow\n",
    "model.fit(\n",
    "    X_train_flat, \n",
    "    y_train_oh,\n",
    "    batch_size=512, \n",
    "    epochs=40,\n",
    "    validation_data=(X_val_flat, y_val_oh),\n",
    "    callbacks=[keras_utils.TqdmProgressCallback()],\n",
    "    verbose=0\n",
    ")"
   ]
  },
  {
   "cell_type": "markdown",
   "metadata": {},
   "source": [
    "# Here're the notes for those who want to play around here\n",
    "\n",
    "Here are some tips on what you could do:\n",
    "\n",
    " * __Network size__\n",
    "   * More neurons, \n",
    "   * More layers, ([docs](https://keras.io/))\n",
    "\n",
    "   * Other nonlinearities in the hidden layers\n",
    "     * tanh, relu, leaky relu, etc\n",
    "   * Larger networks may take more epochs to train, so don't discard your net just because it could didn't beat the baseline in 5 epochs.\n",
    "\n",
    "\n",
    " * __Early Stopping__\n",
    "   * Training for 100 epochs regardless of anything is probably a bad idea.\n",
    "   * Some networks converge over 5 epochs, others - over 500.\n",
    "   * Way to go: stop when validation score is 10 iterations past maximum\n",
    "     \n",
    "\n",
    " * __Faster optimization__\n",
    "   * rmsprop, nesterov_momentum, adam, adagrad and so on.\n",
    "     * Converge faster and sometimes reach better optima\n",
    "     * It might make sense to tweak learning rate/momentum, other learning parameters, batch size and number of epochs\n",
    "\n",
    "\n",
    " * __Regularize__ to prevent overfitting\n",
    "   * Add some L2 weight norm to the loss function, theano will do the rest\n",
    "     * Can be done manually or via - https://keras.io/regularizers/\n",
    "   \n",
    "   \n",
    " * __Data augmemntation__ - getting 5x as large dataset for free is a great deal\n",
    "   * https://keras.io/preprocessing/image/\n",
    "   * Zoom-in+slice = move\n",
    "   * Rotate+zoom(to remove black stripes)\n",
    "   * any other perturbations\n",
    "   * Simple way to do that (if you have PIL/Image): \n",
    "     * ```from scipy.misc import imrotate,imresize```\n",
    "     * and a few slicing\n",
    "   * Stay realistic. There's usually no point in flipping dogs upside down as that is not the way you usually see them."
   ]
  },
  {
   "cell_type": "code",
   "execution_count": null,
   "metadata": {},
   "outputs": [],
   "source": []
  }
 ],
 "metadata": {
  "kernelspec": {
   "display_name": "Python 3",
   "language": "python",
   "name": "python3"
  },
  "language_info": {
   "codemirror_mode": {
    "name": "ipython",
    "version": 3
   },
   "file_extension": ".py",
   "mimetype": "text/x-python",
   "name": "python",
   "nbconvert_exporter": "python",
   "pygments_lexer": "ipython3",
   "version": "3.7.7"
  },
  "widgets": {
   "application/vnd.jupyter.widget-state+json": {
    "state": {
     "003e125a2a5446cb9130ba2091dc83df": {
      "model_module": "@jupyter-widgets/controls",
      "model_module_version": "1.5.0",
      "model_name": "ProgressStyleModel",
      "state": {
       "description_width": "initial"
      }
     },
     "0049d59d05634f71852c9c1ce74e9bde": {
      "model_module": "@jupyter-widgets/controls",
      "model_module_version": "1.5.0",
      "model_name": "HBoxModel",
      "state": {
       "children": [
        "IPY_MODEL_84a09087819d407798fbf446c70a5d9c",
        "IPY_MODEL_e16f0b318ebb42188cdf25162ca0ad55"
       ],
       "layout": "IPY_MODEL_d9083744209d457cbc6557a962c8f947"
      }
     },
     "00830d26829042e0a035befe23baa7d6": {
      "model_module": "@jupyter-widgets/base",
      "model_module_version": "1.2.0",
      "model_name": "LayoutModel",
      "state": {}
     },
     "00ab3912d8214094a6399a474f5f3e1e": {
      "model_module": "@jupyter-widgets/controls",
      "model_module_version": "1.5.0",
      "model_name": "HTMLModel",
      "state": {
       "layout": "IPY_MODEL_033c5df48f954d7399727c6e1d360208",
       "style": "IPY_MODEL_8eb54c211b524120bb4c5cde7ea2be63",
       "value": " 99/? [00:01&lt;00:00, 63.09it/s]"
      }
     },
     "02bed0599a6049ffa91e5050e960b3c6": {
      "model_module": "@jupyter-widgets/controls",
      "model_module_version": "1.5.0",
      "model_name": "DescriptionStyleModel",
      "state": {
       "description_width": ""
      }
     },
     "02d691c1ecb24abaa16467afb462caf6": {
      "model_module": "@jupyter-widgets/base",
      "model_module_version": "1.2.0",
      "model_name": "LayoutModel",
      "state": {}
     },
     "033c5df48f954d7399727c6e1d360208": {
      "model_module": "@jupyter-widgets/base",
      "model_module_version": "1.2.0",
      "model_name": "LayoutModel",
      "state": {}
     },
     "03d53a80dff446fca58dd326fcde33c4": {
      "model_module": "@jupyter-widgets/base",
      "model_module_version": "1.2.0",
      "model_name": "LayoutModel",
      "state": {}
     },
     "0595cb03778f4d21817eea2fe90e349b": {
      "model_module": "@jupyter-widgets/base",
      "model_module_version": "1.2.0",
      "model_name": "LayoutModel",
      "state": {}
     },
     "05e5071b19a44b61b5d8abe458b8b0fc": {
      "model_module": "@jupyter-widgets/base",
      "model_module_version": "1.2.0",
      "model_name": "LayoutModel",
      "state": {}
     },
     "0648662584064b599fed46a5c136e96c": {
      "model_module": "@jupyter-widgets/base",
      "model_module_version": "1.2.0",
      "model_name": "LayoutModel",
      "state": {}
     },
     "06b42374ca964ef8a50f58f4b984456b": {
      "model_module": "@jupyter-widgets/controls",
      "model_module_version": "1.5.0",
      "model_name": "HBoxModel",
      "state": {
       "children": [
        "IPY_MODEL_36c93ca6a98b4f45bd5861cea4dd5e92",
        "IPY_MODEL_965cb7dbf9194d10a14c4708e8e7943a"
       ],
       "layout": "IPY_MODEL_b0fad14b81444944982421762057c25f"
      }
     },
     "07265939d8e641bca41b766750c6050c": {
      "model_module": "@jupyter-widgets/controls",
      "model_module_version": "1.5.0",
      "model_name": "HTMLModel",
      "state": {
       "layout": "IPY_MODEL_565809d9b622475faea79f3ccd26ff50",
       "style": "IPY_MODEL_3beefed786804457852661c1b5bd115e",
       "value": " 99/? [00:10&lt;00:00,  9.68it/s]"
      }
     },
     "09554a88abb042c9a489286026d18a32": {
      "model_module": "@jupyter-widgets/controls",
      "model_module_version": "1.5.0",
      "model_name": "ProgressStyleModel",
      "state": {
       "description_width": "initial"
      }
     },
     "0b3858d08b774480a7787edaefe717d5": {
      "model_module": "@jupyter-widgets/base",
      "model_module_version": "1.2.0",
      "model_name": "LayoutModel",
      "state": {}
     },
     "0c5d86a8d8b644dfaa716d71b2cb22ba": {
      "model_module": "@jupyter-widgets/controls",
      "model_module_version": "1.5.0",
      "model_name": "FloatProgressModel",
      "state": {
       "bar_style": "success",
       "description": "loss: 0.0140; accuracy: 0.9979; val_loss: 0.0760; val_accuracy: 0.9785: ",
       "layout": "IPY_MODEL_15b26a1fc0354efeba9ecbc4115082f8",
       "max": 1,
       "style": "IPY_MODEL_003e125a2a5446cb9130ba2091dc83df",
       "value": 1
      }
     },
     "0dcd81a2490a4705a78e70ebd1a1b8c4": {
      "model_module": "@jupyter-widgets/base",
      "model_module_version": "1.2.0",
      "model_name": "LayoutModel",
      "state": {}
     },
     "106c7010f16b4213b980723d1af9390f": {
      "model_module": "@jupyter-widgets/base",
      "model_module_version": "1.2.0",
      "model_name": "LayoutModel",
      "state": {}
     },
     "128a9950ce52423b8e45ab3313d17b1c": {
      "model_module": "@jupyter-widgets/base",
      "model_module_version": "1.2.0",
      "model_name": "LayoutModel",
      "state": {}
     },
     "134da1947e34480eb7606976d0396c0c": {
      "model_module": "@jupyter-widgets/base",
      "model_module_version": "1.2.0",
      "model_name": "LayoutModel",
      "state": {}
     },
     "1390312837274b04b83bd563615dbd73": {
      "model_module": "@jupyter-widgets/base",
      "model_module_version": "1.2.0",
      "model_name": "LayoutModel",
      "state": {}
     },
     "13b66e5dfceb42cda9f2a16ecf417b22": {
      "model_module": "@jupyter-widgets/controls",
      "model_module_version": "1.5.0",
      "model_name": "ProgressStyleModel",
      "state": {
       "description_width": "initial"
      }
     },
     "15191f5a27d543e6861c1579a937d51c": {
      "model_module": "@jupyter-widgets/base",
      "model_module_version": "1.2.0",
      "model_name": "LayoutModel",
      "state": {}
     },
     "155baefb768747968ea6127beac40348": {
      "model_module": "@jupyter-widgets/base",
      "model_module_version": "1.2.0",
      "model_name": "LayoutModel",
      "state": {}
     },
     "15b26a1fc0354efeba9ecbc4115082f8": {
      "model_module": "@jupyter-widgets/base",
      "model_module_version": "1.2.0",
      "model_name": "LayoutModel",
      "state": {}
     },
     "15f429777655461f90e07169a4f6d873": {
      "model_module": "@jupyter-widgets/base",
      "model_module_version": "1.2.0",
      "model_name": "LayoutModel",
      "state": {}
     },
     "17acab5b806d4f168a9037ddcb3649bf": {
      "model_module": "@jupyter-widgets/controls",
      "model_module_version": "1.5.0",
      "model_name": "HBoxModel",
      "state": {
       "children": [
        "IPY_MODEL_91bfac9b6a0b43f9887a8277f03e7c60",
        "IPY_MODEL_00ab3912d8214094a6399a474f5f3e1e"
       ],
       "layout": "IPY_MODEL_79975dda5e9f496ca52a82fa0d7af667"
      }
     },
     "195953e79da546029309d14a6a86bc08": {
      "model_module": "@jupyter-widgets/base",
      "model_module_version": "1.2.0",
      "model_name": "LayoutModel",
      "state": {}
     },
     "1aa81c5cbb3e4c4fa6f4cb15facfed2b": {
      "model_module": "@jupyter-widgets/controls",
      "model_module_version": "1.5.0",
      "model_name": "FloatProgressModel",
      "state": {
       "bar_style": "success",
       "description": "loss: 0.0081; accuracy: 0.9991; val_loss: 0.0778; val_accuracy: 0.9786: ",
       "layout": "IPY_MODEL_aac5827f8d444fc4b139961a3222bd16",
       "max": 1,
       "style": "IPY_MODEL_6ae5c077418e4ed9828f9e30afe53d9f",
       "value": 1
      }
     },
     "1ada5d7a31534619839ae2303a83851b": {
      "model_module": "@jupyter-widgets/base",
      "model_module_version": "1.2.0",
      "model_name": "LayoutModel",
      "state": {}
     },
     "1b2b0acbcb7a4bdf983106c0decc4c2d": {
      "model_module": "@jupyter-widgets/controls",
      "model_module_version": "1.5.0",
      "model_name": "HBoxModel",
      "state": {
       "children": [
        "IPY_MODEL_e9d1133148d641369d10c730aa4fb40c",
        "IPY_MODEL_07265939d8e641bca41b766750c6050c"
       ],
       "layout": "IPY_MODEL_d0b654bce91b4072bfcf5cc0f7a7cbee"
      }
     },
     "1b6864f8c9b2446ca9ba6be7e7ae6503": {
      "model_module": "@jupyter-widgets/controls",
      "model_module_version": "1.5.0",
      "model_name": "ProgressStyleModel",
      "state": {
       "description_width": "initial"
      }
     },
     "1c44c6abe0114bd28589c42c36f69f28": {
      "model_module": "@jupyter-widgets/controls",
      "model_module_version": "1.5.0",
      "model_name": "HTMLModel",
      "state": {
       "layout": "IPY_MODEL_5f4f8939117346c19e6e4c3c9ec2c860",
       "style": "IPY_MODEL_2f85e34e8cba444da28a3fd61a4a40ef",
       "value": " 99/? [00:02&lt;00:00, 42.13it/s]"
      }
     },
     "1eaa73e87c7041a78a729e5d6e66a3d4": {
      "model_module": "@jupyter-widgets/controls",
      "model_module_version": "1.5.0",
      "model_name": "HTMLModel",
      "state": {
       "layout": "IPY_MODEL_2ce36870cf4d483da241d82b457d12af",
       "style": "IPY_MODEL_b802baaa05424cb98f28a0c1a524dc8d",
       "value": " 99/? [00:00&lt;00:00, 121.03it/s]"
      }
     },
     "1ef80ac461bd41778c92a9a5c5fd8a2d": {
      "model_module": "@jupyter-widgets/controls",
      "model_module_version": "1.5.0",
      "model_name": "FloatProgressModel",
      "state": {
       "bar_style": "success",
       "description": "loss: 1.2463; accuracy: 0.4566; val_loss: 0.4872; val_accuracy: 0.8837: ",
       "layout": "IPY_MODEL_6f2bcf363b3c4f3fb66030295bd9e504",
       "max": 1,
       "style": "IPY_MODEL_ddc0a231a764400582f6c7bd23c180cb",
       "value": 1
      }
     },
     "1f15f3fa6aab4708ab3d8b6d498eb78f": {
      "model_module": "@jupyter-widgets/controls",
      "model_module_version": "1.5.0",
      "model_name": "DescriptionStyleModel",
      "state": {
       "description_width": ""
      }
     },
     "22ac9ebba7814853b221e99bddc59324": {
      "model_module": "@jupyter-widgets/controls",
      "model_module_version": "1.5.0",
      "model_name": "DescriptionStyleModel",
      "state": {
       "description_width": ""
      }
     },
     "251f593e14f343febf2a2004d152615d": {
      "model_module": "@jupyter-widgets/base",
      "model_module_version": "1.2.0",
      "model_name": "LayoutModel",
      "state": {}
     },
     "26244a25147a47fdbfae4be9115ed724": {
      "model_module": "@jupyter-widgets/controls",
      "model_module_version": "1.5.0",
      "model_name": "ProgressStyleModel",
      "state": {
       "description_width": "initial"
      }
     },
     "26dae2b0ae214550b254fd31bfb7b729": {
      "model_module": "@jupyter-widgets/base",
      "model_module_version": "1.2.0",
      "model_name": "LayoutModel",
      "state": {}
     },
     "27af4330776a423f80c032876002ea7d": {
      "model_module": "@jupyter-widgets/controls",
      "model_module_version": "1.5.0",
      "model_name": "HBoxModel",
      "state": {
       "children": [
        "IPY_MODEL_bf10cbfc070a49b490b4015af574c91c",
        "IPY_MODEL_a0da6c00a06840b3a139b55e194c1b73"
       ],
       "layout": "IPY_MODEL_415dcaf5f71746aa91ee3453c6496021"
      }
     },
     "295ce16f58e54286b55e9f26bf512907": {
      "model_module": "@jupyter-widgets/controls",
      "model_module_version": "1.5.0",
      "model_name": "HTMLModel",
      "state": {
       "layout": "IPY_MODEL_0b3858d08b774480a7787edaefe717d5",
       "style": "IPY_MODEL_d0ec897bec234827b11bad827bd3c786",
       "value": " 99/? [00:15&lt;00:00,  6.30it/s]"
      }
     },
     "298b31765dea426c8d9e01c58c9f74b7": {
      "model_module": "@jupyter-widgets/base",
      "model_module_version": "1.2.0",
      "model_name": "LayoutModel",
      "state": {}
     },
     "2abdb11247d74a1cbcd1f9c55de7816d": {
      "model_module": "@jupyter-widgets/controls",
      "model_module_version": "1.5.0",
      "model_name": "HBoxModel",
      "state": {
       "children": [
        "IPY_MODEL_a67500fb082046ccb4820b7a062a3196",
        "IPY_MODEL_8893f5babfd34b0db50dfc5c69a173d3"
       ],
       "layout": "IPY_MODEL_cb757eb69d424ced82312e8bef094ce2"
      }
     },
     "2b51c53e82a24971ae58d4bdafcbda92": {
      "model_module": "@jupyter-widgets/controls",
      "model_module_version": "1.5.0",
      "model_name": "FloatProgressModel",
      "state": {
       "bar_style": "success",
       "description": "loss: 0.0127; accuracy: 0.9981; val_loss: 0.0751; val_accuracy: 0.9785: ",
       "layout": "IPY_MODEL_cc9955c399c44a3c99bb0ee5026004ee",
       "max": 1,
       "style": "IPY_MODEL_ff7f9ab8ecd041ddb89701df04804909",
       "value": 1
      }
     },
     "2c053c147b0a4b3487476828e0f593c8": {
      "model_module": "@jupyter-widgets/controls",
      "model_module_version": "1.5.0",
      "model_name": "HTMLModel",
      "state": {
       "layout": "IPY_MODEL_ef6d5004e24d4a2c9812f1cdbd674553",
       "style": "IPY_MODEL_74cb5e8af0e14759b6cf838658f43ce9",
       "value": " 99/? [00:01&lt;00:00, 62.24it/s]"
      }
     },
     "2ce36870cf4d483da241d82b457d12af": {
      "model_module": "@jupyter-widgets/base",
      "model_module_version": "1.2.0",
      "model_name": "LayoutModel",
      "state": {}
     },
     "2d3b004bc00c4988884236c4e65e9b86": {
      "model_module": "@jupyter-widgets/controls",
      "model_module_version": "1.5.0",
      "model_name": "HBoxModel",
      "state": {
       "children": [
        "IPY_MODEL_3a4c12316b2c4a8092b18d91d9d04d67",
        "IPY_MODEL_485390497b1b4d1e8cafb2f6d62e8eb4"
       ],
       "layout": "IPY_MODEL_4e5ae45af0b8441486b031ced5deeefd"
      }
     },
     "2dba210cd6744621be7d4cf918f8c5eb": {
      "model_module": "@jupyter-widgets/controls",
      "model_module_version": "1.5.0",
      "model_name": "HBoxModel",
      "state": {
       "children": [
        "IPY_MODEL_6afb4e56d21946d7b3fcfbde8e299c1a",
        "IPY_MODEL_b3710ceec185498fa045e3eaeae48341"
       ],
       "layout": "IPY_MODEL_83395042a81f44b4a88de130cdbd1f50"
      }
     },
     "2f2317236aa4498d8aea417d042437da": {
      "model_module": "@jupyter-widgets/controls",
      "model_module_version": "1.5.0",
      "model_name": "ProgressStyleModel",
      "state": {
       "description_width": "initial"
      }
     },
     "2f85e34e8cba444da28a3fd61a4a40ef": {
      "model_module": "@jupyter-widgets/controls",
      "model_module_version": "1.5.0",
      "model_name": "DescriptionStyleModel",
      "state": {
       "description_width": ""
      }
     },
     "2faf5247ceab4b2e821a3675ff4cdb8c": {
      "model_module": "@jupyter-widgets/base",
      "model_module_version": "1.2.0",
      "model_name": "LayoutModel",
      "state": {}
     },
     "3097792ab6c540998bcbe8f6ec886a03": {
      "model_module": "@jupyter-widgets/controls",
      "model_module_version": "1.5.0",
      "model_name": "DescriptionStyleModel",
      "state": {
       "description_width": ""
      }
     },
     "30b821c7ec284d7cb9cce2e8537e6ef6": {
      "model_module": "@jupyter-widgets/controls",
      "model_module_version": "1.5.0",
      "model_name": "ProgressStyleModel",
      "state": {
       "description_width": "initial"
      }
     },
     "30c6b646872047c595c79a763b129d56": {
      "model_module": "@jupyter-widgets/base",
      "model_module_version": "1.2.0",
      "model_name": "LayoutModel",
      "state": {}
     },
     "3111494714bc4aa2977831282479936d": {
      "model_module": "@jupyter-widgets/base",
      "model_module_version": "1.2.0",
      "model_name": "LayoutModel",
      "state": {}
     },
     "317acb2519b740d8b0889c9c6a249976": {
      "model_module": "@jupyter-widgets/controls",
      "model_module_version": "1.5.0",
      "model_name": "DescriptionStyleModel",
      "state": {
       "description_width": ""
      }
     },
     "3210c99724624b498ac9b2e3df24aad2": {
      "model_module": "@jupyter-widgets/controls",
      "model_module_version": "1.5.0",
      "model_name": "ProgressStyleModel",
      "state": {
       "description_width": "initial"
      }
     },
     "331ad9b82e134d61a1f39190153b67de": {
      "model_module": "@jupyter-widgets/controls",
      "model_module_version": "1.5.0",
      "model_name": "DescriptionStyleModel",
      "state": {
       "description_width": ""
      }
     },
     "3437bedc8bbc4d199e187393b95cfa08": {
      "model_module": "@jupyter-widgets/base",
      "model_module_version": "1.2.0",
      "model_name": "LayoutModel",
      "state": {}
     },
     "34d5ae8944ce48e48428208a4a89f44f": {
      "model_module": "@jupyter-widgets/controls",
      "model_module_version": "1.5.0",
      "model_name": "ProgressStyleModel",
      "state": {
       "description_width": "initial"
      }
     },
     "35633ce8a0834d14b7ec61d7bd1b5352": {
      "model_module": "@jupyter-widgets/base",
      "model_module_version": "1.2.0",
      "model_name": "LayoutModel",
      "state": {}
     },
     "35650544628c4e29a0dad9be58c5b097": {
      "model_module": "@jupyter-widgets/base",
      "model_module_version": "1.2.0",
      "model_name": "LayoutModel",
      "state": {}
     },
     "364e8aad0b6647949c5c9d8290629f04": {
      "model_module": "@jupyter-widgets/controls",
      "model_module_version": "1.5.0",
      "model_name": "ProgressStyleModel",
      "state": {
       "description_width": "initial"
      }
     },
     "36c93ca6a98b4f45bd5861cea4dd5e92": {
      "model_module": "@jupyter-widgets/controls",
      "model_module_version": "1.5.0",
      "model_name": "FloatProgressModel",
      "state": {
       "bar_style": "success",
       "description": "loss: 0.1052; accuracy: 0.9702; val_loss: 0.1164; val_accuracy: 0.9667: ",
       "layout": "IPY_MODEL_a777ed5954c44060a759557b072a8494",
       "max": 1,
       "style": "IPY_MODEL_959c897cf72d4db19920447102babd5a",
       "value": 1
      }
     },
     "371bffcf330146df85680762a52de985": {
      "model_module": "@jupyter-widgets/controls",
      "model_module_version": "1.5.0",
      "model_name": "DescriptionStyleModel",
      "state": {
       "description_width": ""
      }
     },
     "3730468043ba44e5b62afbbd7cb01764": {
      "model_module": "@jupyter-widgets/controls",
      "model_module_version": "1.5.0",
      "model_name": "HTMLModel",
      "state": {
       "layout": "IPY_MODEL_a817adb71c394078a74856bfe5a7d7ac",
       "style": "IPY_MODEL_e7a3b027a3ae4a32816ebae01fe9fca9",
       "value": " 99/? [00:00&lt;00:00, 128.16it/s]"
      }
     },
     "374d82c2376b4b499a446ff977fba29c": {
      "model_module": "@jupyter-widgets/controls",
      "model_module_version": "1.5.0",
      "model_name": "FloatProgressModel",
      "state": {
       "bar_style": "success",
       "description": "loss: 0.0181; accuracy: 0.9968; val_loss: 0.0762; val_accuracy: 0.9787: ",
       "layout": "IPY_MODEL_e89e18cc284b4a43b916be3171b5aea3",
       "max": 1,
       "style": "IPY_MODEL_af4fb41e3e84456e8a94db173c004bfe",
       "value": 1
      }
     },
     "3a04766ebfac4faeb9d75c7d56e527f8": {
      "model_module": "@jupyter-widgets/base",
      "model_module_version": "1.2.0",
      "model_name": "LayoutModel",
      "state": {}
     },
     "3a4c12316b2c4a8092b18d91d9d04d67": {
      "model_module": "@jupyter-widgets/controls",
      "model_module_version": "1.5.0",
      "model_name": "FloatProgressModel",
      "state": {
       "bar_style": "success",
       "description": "loss: 0.0074; accuracy: 0.9994; val_loss: 0.0774; val_accuracy: 0.9780: ",
       "layout": "IPY_MODEL_c6b480b6bb8543feb0b0f9d50950e6e0",
       "max": 1,
       "style": "IPY_MODEL_b6b386185d2c4e9fa8a4caba27ed30df",
       "value": 1
      }
     },
     "3a786ff833524391a4f981604f91209d": {
      "model_module": "@jupyter-widgets/controls",
      "model_module_version": "1.5.0",
      "model_name": "HBoxModel",
      "state": {
       "children": [
        "IPY_MODEL_825dd5ee6f20455bbe69b79d173dca88",
        "IPY_MODEL_de7f28399beb43c7beeb7da10130da76"
       ],
       "layout": "IPY_MODEL_6b891f6fbb87427d97cd525dfde504ef"
      }
     },
     "3b1e00f9751a44aa93eb76edd48fb1ed": {
      "model_module": "@jupyter-widgets/base",
      "model_module_version": "1.2.0",
      "model_name": "LayoutModel",
      "state": {}
     },
     "3b99a6c021f94e34941a5b777802eb78": {
      "model_module": "@jupyter-widgets/base",
      "model_module_version": "1.2.0",
      "model_name": "LayoutModel",
      "state": {}
     },
     "3be3be39755e4de5bee937a6d799b6e9": {
      "model_module": "@jupyter-widgets/controls",
      "model_module_version": "1.5.0",
      "model_name": "ProgressStyleModel",
      "state": {
       "description_width": "initial"
      }
     },
     "3beefed786804457852661c1b5bd115e": {
      "model_module": "@jupyter-widgets/controls",
      "model_module_version": "1.5.0",
      "model_name": "DescriptionStyleModel",
      "state": {
       "description_width": ""
      }
     },
     "3c91b553a43443769fecf94f1e75b01f": {
      "model_module": "@jupyter-widgets/base",
      "model_module_version": "1.2.0",
      "model_name": "LayoutModel",
      "state": {}
     },
     "3d0cac0c26a746e897bcdf7413801b6b": {
      "model_module": "@jupyter-widgets/controls",
      "model_module_version": "1.5.0",
      "model_name": "DescriptionStyleModel",
      "state": {
       "description_width": ""
      }
     },
     "3dd503266427481e91d4c8bd7bce85f1": {
      "model_module": "@jupyter-widgets/controls",
      "model_module_version": "1.5.0",
      "model_name": "HBoxModel",
      "state": {
       "children": [
        "IPY_MODEL_8f858ccc23f04094aa24d17dcdd59ef8",
        "IPY_MODEL_3730468043ba44e5b62afbbd7cb01764"
       ],
       "layout": "IPY_MODEL_531f8057533b4f83984b5184a0cc4151"
      }
     },
     "3e9a6083a08f4ad2b25426dd206a4ebd": {
      "model_module": "@jupyter-widgets/controls",
      "model_module_version": "1.5.0",
      "model_name": "DescriptionStyleModel",
      "state": {
       "description_width": ""
      }
     },
     "3f56e06db82148b296df7c1d9a1ad980": {
      "model_module": "@jupyter-widgets/controls",
      "model_module_version": "1.5.0",
      "model_name": "HTMLModel",
      "state": {
       "layout": "IPY_MODEL_ecafcf93f54e42b39424cb8ee16105b6",
       "style": "IPY_MODEL_75cd99c537004f27b7621db8a0f1bf21",
       "value": " 99/? [00:01&lt;00:00, 62.24it/s]"
      }
     },
     "407928965d5b453191d3e65c5cf63f40": {
      "model_module": "@jupyter-widgets/controls",
      "model_module_version": "1.5.0",
      "model_name": "ProgressStyleModel",
      "state": {
       "description_width": "initial"
      }
     },
     "40ba54a019ed433fb2904ba71c0bc52a": {
      "model_module": "@jupyter-widgets/base",
      "model_module_version": "1.2.0",
      "model_name": "LayoutModel",
      "state": {}
     },
     "40fe14c3c4f841108423af91bf1b59e3": {
      "model_module": "@jupyter-widgets/base",
      "model_module_version": "1.2.0",
      "model_name": "LayoutModel",
      "state": {}
     },
     "4134f496f65a45b7aed1024224549a60": {
      "model_module": "@jupyter-widgets/controls",
      "model_module_version": "1.5.0",
      "model_name": "HBoxModel",
      "state": {
       "children": [
        "IPY_MODEL_642a6919166046419e1076294147f969",
        "IPY_MODEL_a439fba8ae634f749b2855eb52c22ed5"
       ],
       "layout": "IPY_MODEL_05e5071b19a44b61b5d8abe458b8b0fc"
      }
     },
     "415dcaf5f71746aa91ee3453c6496021": {
      "model_module": "@jupyter-widgets/base",
      "model_module_version": "1.2.0",
      "model_name": "LayoutModel",
      "state": {}
     },
     "43332b548e7a4ac9b1e03c9c3f52d541": {
      "model_module": "@jupyter-widgets/controls",
      "model_module_version": "1.5.0",
      "model_name": "FloatProgressModel",
      "state": {
       "bar_style": "success",
       "description": "loss: 0.0244; accuracy: 0.9945; val_loss: 0.0754; val_accuracy: 0.9772: ",
       "layout": "IPY_MODEL_a1d5b3c8ac6d4da5883c640171d12565",
       "max": 1,
       "style": "IPY_MODEL_34d5ae8944ce48e48428208a4a89f44f",
       "value": 1
      }
     },
     "43a03813406d4a34b91a1318f1d57537": {
      "model_module": "@jupyter-widgets/base",
      "model_module_version": "1.2.0",
      "model_name": "LayoutModel",
      "state": {}
     },
     "44f9906dac54422189682bce52f238d5": {
      "model_module": "@jupyter-widgets/base",
      "model_module_version": "1.2.0",
      "model_name": "LayoutModel",
      "state": {}
     },
     "4661ecbc3811489faf3e408cf4477750": {
      "model_module": "@jupyter-widgets/base",
      "model_module_version": "1.2.0",
      "model_name": "LayoutModel",
      "state": {}
     },
     "466f6096e7cb4698a37a3099889352ab": {
      "model_module": "@jupyter-widgets/base",
      "model_module_version": "1.2.0",
      "model_name": "LayoutModel",
      "state": {}
     },
     "47bdce5fe103485f94ccf00f119e6fc1": {
      "model_module": "@jupyter-widgets/controls",
      "model_module_version": "1.5.0",
      "model_name": "HTMLModel",
      "state": {
       "layout": "IPY_MODEL_587542c074e940ca848be93c5089529b",
       "style": "IPY_MODEL_53b7a04d328041918bdb856c133e8952",
       "value": " 99/? [00:00&lt;00:00, 120.66it/s]"
      }
     },
     "485390497b1b4d1e8cafb2f6d62e8eb4": {
      "model_module": "@jupyter-widgets/controls",
      "model_module_version": "1.5.0",
      "model_name": "HTMLModel",
      "state": {
       "layout": "IPY_MODEL_30c6b646872047c595c79a763b129d56",
       "style": "IPY_MODEL_791b0f61681448fbac1bab77642f388a",
       "value": " 99/? [00:00&lt;00:00, 127.82it/s]"
      }
     },
     "488236b179774559afe238fdd70482e2": {
      "model_module": "@jupyter-widgets/controls",
      "model_module_version": "1.5.0",
      "model_name": "HBoxModel",
      "state": {
       "children": [
        "IPY_MODEL_bb4f841ec11449abbd6e791278632fee",
        "IPY_MODEL_ef7f0dc3a19d44fa888a7143312745f5"
       ],
       "layout": "IPY_MODEL_298b31765dea426c8d9e01c58c9f74b7"
      }
     },
     "48c3eb1e0a5c4b08982c1baf439ca5f1": {
      "model_module": "@jupyter-widgets/controls",
      "model_module_version": "1.5.0",
      "model_name": "HBoxModel",
      "state": {
       "children": [
        "IPY_MODEL_74d21478dc984e509a9d061d80440831",
        "IPY_MODEL_e8a297670b1943ba89ed32db84f22ef0"
       ],
       "layout": "IPY_MODEL_3111494714bc4aa2977831282479936d"
      }
     },
     "4935a3c4821244f69ed7368956b55d9e": {
      "model_module": "@jupyter-widgets/controls",
      "model_module_version": "1.5.0",
      "model_name": "DescriptionStyleModel",
      "state": {
       "description_width": ""
      }
     },
     "4bc54f3d159345ca9e013da3de30119d": {
      "model_module": "@jupyter-widgets/base",
      "model_module_version": "1.2.0",
      "model_name": "LayoutModel",
      "state": {}
     },
     "4d7d3c843f064366ba64b633a0d8c96b": {
      "model_module": "@jupyter-widgets/controls",
      "model_module_version": "1.5.0",
      "model_name": "HBoxModel",
      "state": {
       "children": [
        "IPY_MODEL_c45bd29376944ee49aa2ce80d76137e2",
        "IPY_MODEL_bb3014eec61d492eae9fc6a6d42947fa"
       ],
       "layout": "IPY_MODEL_7f3a86ac61bb4d37ac9f67e864aa999c"
      }
     },
     "4d9bd26938154b21a7ff660b697f80bf": {
      "model_module": "@jupyter-widgets/controls",
      "model_module_version": "1.5.0",
      "model_name": "HBoxModel",
      "state": {
       "children": [
        "IPY_MODEL_43332b548e7a4ac9b1e03c9c3f52d541",
        "IPY_MODEL_1eaa73e87c7041a78a729e5d6e66a3d4"
       ],
       "layout": "IPY_MODEL_c838e78591a0457b831b6002a0b4276f"
      }
     },
     "4d9fc1a32bc84c949c8787d51aa41db1": {
      "model_module": "@jupyter-widgets/controls",
      "model_module_version": "1.5.0",
      "model_name": "ProgressStyleModel",
      "state": {
       "description_width": "initial"
      }
     },
     "4e5ae45af0b8441486b031ced5deeefd": {
      "model_module": "@jupyter-widgets/base",
      "model_module_version": "1.2.0",
      "model_name": "LayoutModel",
      "state": {}
     },
     "4e81a5179212474b90992568b3e4a350": {
      "model_module": "@jupyter-widgets/controls",
      "model_module_version": "1.5.0",
      "model_name": "HBoxModel",
      "state": {
       "children": [
        "IPY_MODEL_90170c90df4049aca754cf63aadefe0d",
        "IPY_MODEL_f2ee7eefd9334deeae6b91be2915f8d6"
       ],
       "layout": "IPY_MODEL_251f593e14f343febf2a2004d152615d"
      }
     },
     "50a65cd1c3604c208901bf319e6579af": {
      "model_module": "@jupyter-widgets/base",
      "model_module_version": "1.2.0",
      "model_name": "LayoutModel",
      "state": {}
     },
     "531f8057533b4f83984b5184a0cc4151": {
      "model_module": "@jupyter-widgets/base",
      "model_module_version": "1.2.0",
      "model_name": "LayoutModel",
      "state": {}
     },
     "53546cdb91b84c97952afe65eea49c0c": {
      "model_module": "@jupyter-widgets/base",
      "model_module_version": "1.2.0",
      "model_name": "LayoutModel",
      "state": {}
     },
     "53b7a04d328041918bdb856c133e8952": {
      "model_module": "@jupyter-widgets/controls",
      "model_module_version": "1.5.0",
      "model_name": "DescriptionStyleModel",
      "state": {
       "description_width": ""
      }
     },
     "53d4b709fa5644f28ac2768dfc09d3b8": {
      "model_module": "@jupyter-widgets/controls",
      "model_module_version": "1.5.0",
      "model_name": "FloatProgressModel",
      "state": {
       "bar_style": "success",
       "description": "loss: 0.0096; accuracy: 0.9983; val_loss: 0.0781; val_accuracy: 0.9786: ",
       "layout": "IPY_MODEL_fff4e1510f4f4f5abaeeda7a0d67bad0",
       "max": 1,
       "style": "IPY_MODEL_364e8aad0b6647949c5c9d8290629f04",
       "value": 1
      }
     },
     "551a7eae0b184a15bc4f74ffd62b6ae4": {
      "model_module": "@jupyter-widgets/base",
      "model_module_version": "1.2.0",
      "model_name": "LayoutModel",
      "state": {}
     },
     "55d8c289bff644b1a6e71766c8924502": {
      "model_module": "@jupyter-widgets/controls",
      "model_module_version": "1.5.0",
      "model_name": "DescriptionStyleModel",
      "state": {
       "description_width": ""
      }
     },
     "55ffc70b13384ad9962f4961819c3a83": {
      "model_module": "@jupyter-widgets/base",
      "model_module_version": "1.2.0",
      "model_name": "LayoutModel",
      "state": {}
     },
     "565809d9b622475faea79f3ccd26ff50": {
      "model_module": "@jupyter-widgets/base",
      "model_module_version": "1.2.0",
      "model_name": "LayoutModel",
      "state": {}
     },
     "56a8b562cd5b4928b129018bd34de720": {
      "model_module": "@jupyter-widgets/controls",
      "model_module_version": "1.5.0",
      "model_name": "HTMLModel",
      "state": {
       "layout": "IPY_MODEL_bf2a424791a744af93963422b4a51ffc",
       "style": "IPY_MODEL_3097792ab6c540998bcbe8f6ec886a03",
       "value": " 99/? [00:18&lt;00:00,  5.42it/s]"
      }
     },
     "56ceb99a21974904a72e001dce727f8e": {
      "model_module": "@jupyter-widgets/controls",
      "model_module_version": "1.5.0",
      "model_name": "HBoxModel",
      "state": {
       "children": [
        "IPY_MODEL_0c5d86a8d8b644dfaa716d71b2cb22ba",
        "IPY_MODEL_1c44c6abe0114bd28589c42c36f69f28"
       ],
       "layout": "IPY_MODEL_979f3bd0e637462192be76363c34fe81"
      }
     },
     "5713a7ffa3514a639cf9642a7a820439": {
      "model_module": "@jupyter-widgets/controls",
      "model_module_version": "1.5.0",
      "model_name": "ProgressStyleModel",
      "state": {
       "description_width": "initial"
      }
     },
     "587542c074e940ca848be93c5089529b": {
      "model_module": "@jupyter-widgets/base",
      "model_module_version": "1.2.0",
      "model_name": "LayoutModel",
      "state": {}
     },
     "5969d642060e453a8d490b58d3a76d00": {
      "model_module": "@jupyter-widgets/base",
      "model_module_version": "1.2.0",
      "model_name": "LayoutModel",
      "state": {}
     },
     "5a651d87217a471899c33e53cc7e6725": {
      "model_module": "@jupyter-widgets/controls",
      "model_module_version": "1.5.0",
      "model_name": "HTMLModel",
      "state": {
       "layout": "IPY_MODEL_134da1947e34480eb7606976d0396c0c",
       "style": "IPY_MODEL_22ac9ebba7814853b221e99bddc59324",
       "value": " 99/? [00:02&lt;00:00, 41.75it/s]"
      }
     },
     "5a81d530b5bc41398eff33c8e2b97e34": {
      "model_module": "@jupyter-widgets/base",
      "model_module_version": "1.2.0",
      "model_name": "LayoutModel",
      "state": {}
     },
     "5bd58d51f4cd4bf880b5a98bebd29149": {
      "model_module": "@jupyter-widgets/controls",
      "model_module_version": "1.5.0",
      "model_name": "HTMLModel",
      "state": {
       "layout": "IPY_MODEL_35650544628c4e29a0dad9be58c5b097",
       "style": "IPY_MODEL_943798fc2c844f8683279000a8aff156",
       "value": " 99/? [00:07&lt;00:00, 14.00it/s]"
      }
     },
     "5bf4c41b9b8243cabd11ceb00343bcd5": {
      "model_module": "@jupyter-widgets/controls",
      "model_module_version": "1.5.0",
      "model_name": "ProgressStyleModel",
      "state": {
       "description_width": "initial"
      }
     },
     "5c0b892d259049719a169f017d94c572": {
      "model_module": "@jupyter-widgets/controls",
      "model_module_version": "1.5.0",
      "model_name": "HBoxModel",
      "state": {
       "children": [
        "IPY_MODEL_a2479af611e54a13acd2ae52c128b9b1",
        "IPY_MODEL_d9c25310289841b59743c9024d19029e"
       ],
       "layout": "IPY_MODEL_9b051b0376da4f11828f4948681ac3c1"
      }
     },
     "5c255b5129ec439cbc41a727d0a95f71": {
      "model_module": "@jupyter-widgets/base",
      "model_module_version": "1.2.0",
      "model_name": "LayoutModel",
      "state": {}
     },
     "5e271ba3ba864294b34325cb89bb1e1c": {
      "model_module": "@jupyter-widgets/base",
      "model_module_version": "1.2.0",
      "model_name": "LayoutModel",
      "state": {}
     },
     "5e38de9243634fb790255e29219ea2cb": {
      "model_module": "@jupyter-widgets/controls",
      "model_module_version": "1.5.0",
      "model_name": "DescriptionStyleModel",
      "state": {
       "description_width": ""
      }
     },
     "5ea7c9aa16114c6292f120a3d3b0a46f": {
      "model_module": "@jupyter-widgets/controls",
      "model_module_version": "1.5.0",
      "model_name": "ProgressStyleModel",
      "state": {
       "description_width": "initial"
      }
     },
     "5eee0e2dd7e54ef5b1c67bab4c72dca7": {
      "model_module": "@jupyter-widgets/controls",
      "model_module_version": "1.5.0",
      "model_name": "HBoxModel",
      "state": {
       "children": [
        "IPY_MODEL_f9e81b176b024477a8753c5391766f55",
        "IPY_MODEL_dff7e790d83d446ab60943a7b29800f4"
       ],
       "layout": "IPY_MODEL_6c9c01dc2bcb49f38d4ae2367532967e"
      }
     },
     "5f178c44a18c42ada9275c6af62168aa": {
      "model_module": "@jupyter-widgets/controls",
      "model_module_version": "1.5.0",
      "model_name": "FloatProgressModel",
      "state": {
       "bar_style": "success",
       "description": "loss: 0.0875; accuracy: 0.9757; val_loss: 0.1060; val_accuracy: 0.9700: ",
       "layout": "IPY_MODEL_fe8c0c7509014507920db7438ce790d4",
       "max": 1,
       "style": "IPY_MODEL_b8ec9249baa442b8949d158a6f88c9dc",
       "value": 1
      }
     },
     "5f4f8939117346c19e6e4c3c9ec2c860": {
      "model_module": "@jupyter-widgets/base",
      "model_module_version": "1.2.0",
      "model_name": "LayoutModel",
      "state": {}
     },
     "606535b64b7b425fa60b582dd3aa0b54": {
      "model_module": "@jupyter-widgets/controls",
      "model_module_version": "1.5.0",
      "model_name": "DescriptionStyleModel",
      "state": {
       "description_width": ""
      }
     },
     "60cbd6b11509489c9ddd7f7503a7f22d": {
      "model_module": "@jupyter-widgets/controls",
      "model_module_version": "1.5.0",
      "model_name": "ProgressStyleModel",
      "state": {
       "description_width": "initial"
      }
     },
     "61e7246b696347468b62168ff80d215e": {
      "model_module": "@jupyter-widgets/controls",
      "model_module_version": "1.5.0",
      "model_name": "FloatProgressModel",
      "state": {
       "bar_style": "success",
       "description": "loss: 0.0364; accuracy: 0.9907; val_loss: 0.0819; val_accuracy: 0.9761: ",
       "layout": "IPY_MODEL_c8999b146ba34869ba262c290329f460",
       "max": 1,
       "style": "IPY_MODEL_cad32aa699214f0a8731212936ad6db1",
       "value": 1
      }
     },
     "642a6919166046419e1076294147f969": {
      "model_module": "@jupyter-widgets/controls",
      "model_module_version": "1.5.0",
      "model_name": "FloatProgressModel",
      "state": {
       "bar_style": "success",
       "description": "loss: 0.2199; accuracy: 0.9347; val_loss: 0.1978; val_accuracy: 0.9443: ",
       "layout": "IPY_MODEL_72a89d4b35f94d4fbda4ab82186dca10",
       "max": 1,
       "style": "IPY_MODEL_5ea7c9aa16114c6292f120a3d3b0a46f",
       "value": 1
      }
     },
     "65a8811fe9d94c6fa79773a151ec9092": {
      "model_module": "@jupyter-widgets/controls",
      "model_module_version": "1.5.0",
      "model_name": "DescriptionStyleModel",
      "state": {
       "description_width": ""
      }
     },
     "65d5805a9dc34d9298b94b9eca2d9b95": {
      "model_module": "@jupyter-widgets/controls",
      "model_module_version": "1.5.0",
      "model_name": "ProgressStyleModel",
      "state": {
       "description_width": "initial"
      }
     },
     "66b42dc6a407495ba9edb138ba8ff833": {
      "model_module": "@jupyter-widgets/controls",
      "model_module_version": "1.5.0",
      "model_name": "DescriptionStyleModel",
      "state": {
       "description_width": ""
      }
     },
     "66c8fc7475ce4d1f8209ad065fc7c231": {
      "model_module": "@jupyter-widgets/controls",
      "model_module_version": "1.5.0",
      "model_name": "FloatProgressModel",
      "state": {
       "bar_style": "success",
       "description": "loss: 0.0118; accuracy: 0.9985; val_loss: 0.0776; val_accuracy: 0.9793: ",
       "layout": "IPY_MODEL_03d53a80dff446fca58dd326fcde33c4",
       "max": 1,
       "style": "IPY_MODEL_13b66e5dfceb42cda9f2a16ecf417b22",
       "value": 1
      }
     },
     "67854b72c5ef40efa85c79623855e7e7": {
      "model_module": "@jupyter-widgets/base",
      "model_module_version": "1.2.0",
      "model_name": "LayoutModel",
      "state": {}
     },
     "6ae5c077418e4ed9828f9e30afe53d9f": {
      "model_module": "@jupyter-widgets/controls",
      "model_module_version": "1.5.0",
      "model_name": "ProgressStyleModel",
      "state": {
       "description_width": "initial"
      }
     },
     "6afb4e56d21946d7b3fcfbde8e299c1a": {
      "model_module": "@jupyter-widgets/controls",
      "model_module_version": "1.5.0",
      "model_name": "FloatProgressModel",
      "state": {
       "bar_style": "success",
       "description": "loss: 0.0058; accuracy: 0.9993; val_loss: 0.0787; val_accuracy: 0.9780: ",
       "layout": "IPY_MODEL_0648662584064b599fed46a5c136e96c",
       "max": 1,
       "style": "IPY_MODEL_945bbadaa1804423ae1635bb90a38aa7",
       "value": 1
      }
     },
     "6b891f6fbb87427d97cd525dfde504ef": {
      "model_module": "@jupyter-widgets/base",
      "model_module_version": "1.2.0",
      "model_name": "LayoutModel",
      "state": {}
     },
     "6bb406aef7674c4091152b8c25eb942e": {
      "model_module": "@jupyter-widgets/controls",
      "model_module_version": "1.5.0",
      "model_name": "ProgressStyleModel",
      "state": {
       "description_width": "initial"
      }
     },
     "6c9c01dc2bcb49f38d4ae2367532967e": {
      "model_module": "@jupyter-widgets/base",
      "model_module_version": "1.2.0",
      "model_name": "LayoutModel",
      "state": {}
     },
     "6dc86656870c4e36b812ca3a27fa62ab": {
      "model_module": "@jupyter-widgets/base",
      "model_module_version": "1.2.0",
      "model_name": "LayoutModel",
      "state": {}
     },
     "6e6cf1d4486c4db49b08bb102e2e488a": {
      "model_module": "@jupyter-widgets/base",
      "model_module_version": "1.2.0",
      "model_name": "LayoutModel",
      "state": {}
     },
     "6f2bcf363b3c4f3fb66030295bd9e504": {
      "model_module": "@jupyter-widgets/base",
      "model_module_version": "1.2.0",
      "model_name": "LayoutModel",
      "state": {}
     },
     "70314c1214d04f35bd81b65f52d49efe": {
      "model_module": "@jupyter-widgets/controls",
      "model_module_version": "1.5.0",
      "model_name": "DescriptionStyleModel",
      "state": {
       "description_width": ""
      }
     },
     "70623ddce0d4451ba48ddf7dde92914e": {
      "model_module": "@jupyter-widgets/base",
      "model_module_version": "1.2.0",
      "model_name": "LayoutModel",
      "state": {}
     },
     "70fca83148c44b4491ef1f910de0efad": {
      "model_module": "@jupyter-widgets/controls",
      "model_module_version": "1.5.0",
      "model_name": "HBoxModel",
      "state": {
       "children": [
        "IPY_MODEL_ec5e24b539cb42c5bfe2772a5e35c0a8",
        "IPY_MODEL_5a651d87217a471899c33e53cc7e6725"
       ],
       "layout": "IPY_MODEL_55ffc70b13384ad9962f4961819c3a83"
      }
     },
     "71ff95018fd3478896484a97e6fdaab0": {
      "model_module": "@jupyter-widgets/base",
      "model_module_version": "1.2.0",
      "model_name": "LayoutModel",
      "state": {}
     },
     "72a89d4b35f94d4fbda4ab82186dca10": {
      "model_module": "@jupyter-widgets/base",
      "model_module_version": "1.2.0",
      "model_name": "LayoutModel",
      "state": {}
     },
     "7323fe26b6ff41aa80d8ba7e16f0b170": {
      "model_module": "@jupyter-widgets/controls",
      "model_module_version": "1.5.0",
      "model_name": "ProgressStyleModel",
      "state": {
       "description_width": "initial"
      }
     },
     "74cb5e8af0e14759b6cf838658f43ce9": {
      "model_module": "@jupyter-widgets/controls",
      "model_module_version": "1.5.0",
      "model_name": "DescriptionStyleModel",
      "state": {
       "description_width": ""
      }
     },
     "74d21478dc984e509a9d061d80440831": {
      "model_module": "@jupyter-widgets/controls",
      "model_module_version": "1.5.0",
      "model_name": "FloatProgressModel",
      "state": {
       "bar_style": "success",
       "description": "loss: 0.0407; accuracy: 0.9895; val_loss: 0.0821; val_accuracy: 0.9753: ",
       "layout": "IPY_MODEL_c51d536cdd724e2194b362e541cdc416",
       "max": 1,
       "style": "IPY_MODEL_dc71067730124cbea8148ee3d0ec92e5",
       "value": 1
      }
     },
     "75cd99c537004f27b7621db8a0f1bf21": {
      "model_module": "@jupyter-widgets/controls",
      "model_module_version": "1.5.0",
      "model_name": "DescriptionStyleModel",
      "state": {
       "description_width": ""
      }
     },
     "77cbaecdbda44140b265a959c6da9b33": {
      "model_module": "@jupyter-widgets/controls",
      "model_module_version": "1.5.0",
      "model_name": "HBoxModel",
      "state": {
       "children": [
        "IPY_MODEL_5f178c44a18c42ada9275c6af62168aa",
        "IPY_MODEL_a22fbf0ffa44499eb24ec53e7e4e74ad"
       ],
       "layout": "IPY_MODEL_fb00428feb7f4bd9b83fbb3220997c13"
      }
     },
     "791b0f61681448fbac1bab77642f388a": {
      "model_module": "@jupyter-widgets/controls",
      "model_module_version": "1.5.0",
      "model_name": "DescriptionStyleModel",
      "state": {
       "description_width": ""
      }
     },
     "79975dda5e9f496ca52a82fa0d7af667": {
      "model_module": "@jupyter-widgets/base",
      "model_module_version": "1.2.0",
      "model_name": "LayoutModel",
      "state": {}
     },
     "7ab28415ad834541a0d3998ee71573d8": {
      "model_module": "@jupyter-widgets/base",
      "model_module_version": "1.2.0",
      "model_name": "LayoutModel",
      "state": {}
     },
     "7b0e3b1ba66c412c92b18b0876a58ab6": {
      "model_module": "@jupyter-widgets/controls",
      "model_module_version": "1.5.0",
      "model_name": "HTMLModel",
      "state": {
       "layout": "IPY_MODEL_7c4c56ee1db14b86bdd489645ffac166",
       "style": "IPY_MODEL_5e38de9243634fb790255e29219ea2cb",
       "value": " 99/? [00:01&lt;00:00, 62.24it/s]"
      }
     },
     "7b86a397fff74f8781bf9d7d21727c58": {
      "model_module": "@jupyter-widgets/controls",
      "model_module_version": "1.5.0",
      "model_name": "DescriptionStyleModel",
      "state": {
       "description_width": ""
      }
     },
     "7c4c56ee1db14b86bdd489645ffac166": {
      "model_module": "@jupyter-widgets/base",
      "model_module_version": "1.2.0",
      "model_name": "LayoutModel",
      "state": {}
     },
     "7efa777512264ebca139e309dd8c48e0": {
      "model_module": "@jupyter-widgets/controls",
      "model_module_version": "1.5.0",
      "model_name": "HBoxModel",
      "state": {
       "children": [
        "IPY_MODEL_84ebe09e72fd4467849f1b35f40d7264",
        "IPY_MODEL_5bd58d51f4cd4bf880b5a98bebd29149"
       ],
       "layout": "IPY_MODEL_7f639eff12154d2d9618b482a0812026"
      }
     },
     "7f3a86ac61bb4d37ac9f67e864aa999c": {
      "model_module": "@jupyter-widgets/base",
      "model_module_version": "1.2.0",
      "model_name": "LayoutModel",
      "state": {}
     },
     "7f639eff12154d2d9618b482a0812026": {
      "model_module": "@jupyter-widgets/base",
      "model_module_version": "1.2.0",
      "model_name": "LayoutModel",
      "state": {}
     },
     "7f6b0a7253034e1696c75c6612b867bc": {
      "model_module": "@jupyter-widgets/controls",
      "model_module_version": "1.5.0",
      "model_name": "HBoxModel",
      "state": {
       "children": [
        "IPY_MODEL_e749d32a766e42aeaaf7c18260880619",
        "IPY_MODEL_98cec5524e594729ae4fd73d195f1bfd"
       ],
       "layout": "IPY_MODEL_ee9e4b94e0504cb2b8aa3d8b10a76e83"
      }
     },
     "807908762b0844b6a9764498625436a9": {
      "model_module": "@jupyter-widgets/controls",
      "model_module_version": "1.5.0",
      "model_name": "DescriptionStyleModel",
      "state": {
       "description_width": ""
      }
     },
     "814a65ccbcff49b9a8d0ee39669f203e": {
      "model_module": "@jupyter-widgets/controls",
      "model_module_version": "1.5.0",
      "model_name": "HBoxModel",
      "state": {
       "children": [
        "IPY_MODEL_61e7246b696347468b62168ff80d215e",
        "IPY_MODEL_9cfac97b4d5a488a89ba10c526df027f"
       ],
       "layout": "IPY_MODEL_f99c9732be40425aa4c90d273fd9cfcf"
      }
     },
     "825dd5ee6f20455bbe69b79d173dca88": {
      "model_module": "@jupyter-widgets/controls",
      "model_module_version": "1.5.0",
      "model_name": "FloatProgressModel",
      "state": {
       "bar_style": "success",
       "description": "loss: 0.0660; accuracy: 0.9809; val_loss: 0.0937; val_accuracy: 0.9718: ",
       "layout": "IPY_MODEL_4661ecbc3811489faf3e408cf4477750",
       "max": 1,
       "style": "IPY_MODEL_d9211c841cd24a6c8cc065bc7e60b825",
       "value": 1
      }
     },
     "82c0080c6189447783e3a46694c4a904": {
      "model_module": "@jupyter-widgets/controls",
      "model_module_version": "1.5.0",
      "model_name": "ProgressStyleModel",
      "state": {
       "description_width": "initial"
      }
     },
     "83395042a81f44b4a88de130cdbd1f50": {
      "model_module": "@jupyter-widgets/base",
      "model_module_version": "1.2.0",
      "model_name": "LayoutModel",
      "state": {}
     },
     "84a09087819d407798fbf446c70a5d9c": {
      "model_module": "@jupyter-widgets/controls",
      "model_module_version": "1.5.0",
      "model_name": "FloatProgressModel",
      "state": {
       "bar_style": "success",
       "description": "loss: 0.1559; accuracy: 0.9533; val_loss: 0.1509; val_accuracy: 0.9569: ",
       "layout": "IPY_MODEL_3b1e00f9751a44aa93eb76edd48fb1ed",
       "max": 1,
       "style": "IPY_MODEL_c220370c06ad4ac18acea9d116a1dd66",
       "value": 1
      }
     },
     "84ebe09e72fd4467849f1b35f40d7264": {
      "model_module": "@jupyter-widgets/controls",
      "model_module_version": "1.5.0",
      "model_name": "FloatProgressModel",
      "state": {
       "bar_style": "success",
       "description": "loss: 0.0795; accuracy: 0.9771; val_loss: 0.0998; val_accuracy: 0.9722: ",
       "layout": "IPY_MODEL_195953e79da546029309d14a6a86bc08",
       "max": 1,
       "style": "IPY_MODEL_30b821c7ec284d7cb9cce2e8537e6ef6",
       "value": 1
      }
     },
     "8542a2f941134ca58c1a5e61a26f66ef": {
      "model_module": "@jupyter-widgets/controls",
      "model_module_version": "1.5.0",
      "model_name": "HTMLModel",
      "state": {
       "layout": "IPY_MODEL_d4e570521025404e99ef95c0b2bf18ca",
       "style": "IPY_MODEL_8b4ec81a13f04cfb9ffc371664540777",
       "value": " 99/? [00:03&lt;00:00, 31.55it/s]"
      }
     },
     "85ac8464e0594ffbbc079f130ea63442": {
      "model_module": "@jupyter-widgets/base",
      "model_module_version": "1.2.0",
      "model_name": "LayoutModel",
      "state": {}
     },
     "8658f222be234770ac9e120822483a06": {
      "model_module": "@jupyter-widgets/controls",
      "model_module_version": "1.5.0",
      "model_name": "FloatProgressModel",
      "state": {
       "bar_style": "success",
       "description": "loss: 0.2496; accuracy: 0.9255; val_loss: 0.2177; val_accuracy: 0.9380: ",
       "layout": "IPY_MODEL_baed5adcfb6e468bba91113d3ecea6e7",
       "max": 1,
       "style": "IPY_MODEL_9b8c73f7f75d432ead85d29a877d03c8",
       "value": 1
      }
     },
     "87af195d26b94a08ac6b36dd87372fd1": {
      "model_module": "@jupyter-widgets/controls",
      "model_module_version": "1.5.0",
      "model_name": "FloatProgressModel",
      "state": {
       "bar_style": "success",
       "description": "loss: 0.0544; accuracy: 0.9859; val_loss: 0.0897; val_accuracy: 0.9739: ",
       "layout": "IPY_MODEL_43a03813406d4a34b91a1318f1d57537",
       "max": 1,
       "style": "IPY_MODEL_09554a88abb042c9a489286026d18a32",
       "value": 1
      }
     },
     "883fabe7c796488b88d0056b29987f86": {
      "model_module": "@jupyter-widgets/controls",
      "model_module_version": "1.5.0",
      "model_name": "ProgressStyleModel",
      "state": {
       "description_width": "initial"
      }
     },
     "88591d066bbe4eccac7cf7c2cefbd16c": {
      "model_module": "@jupyter-widgets/controls",
      "model_module_version": "1.5.0",
      "model_name": "DescriptionStyleModel",
      "state": {
       "description_width": ""
      }
     },
     "8893f5babfd34b0db50dfc5c69a173d3": {
      "model_module": "@jupyter-widgets/controls",
      "model_module_version": "1.5.0",
      "model_name": "HTMLModel",
      "state": {
       "layout": "IPY_MODEL_5a81d530b5bc41398eff33c8e2b97e34",
       "style": "IPY_MODEL_7b86a397fff74f8781bf9d7d21727c58",
       "value": " 99/? [00:02&lt;00:00, 41.83it/s]"
      }
     },
     "88f591836ec14c4ba034ff390fa4990e": {
      "model_module": "@jupyter-widgets/controls",
      "model_module_version": "1.5.0",
      "model_name": "HBoxModel",
      "state": {
       "children": [
        "IPY_MODEL_1aa81c5cbb3e4c4fa6f4cb15facfed2b",
        "IPY_MODEL_97e641187a2346b491c51da407a6c0be"
       ],
       "layout": "IPY_MODEL_0dcd81a2490a4705a78e70ebd1a1b8c4"
      }
     },
     "897158b9d3a34d7a8cb5bc5ac2814f13": {
      "model_module": "@jupyter-widgets/base",
      "model_module_version": "1.2.0",
      "model_name": "LayoutModel",
      "state": {}
     },
     "8b4ec81a13f04cfb9ffc371664540777": {
      "model_module": "@jupyter-widgets/controls",
      "model_module_version": "1.5.0",
      "model_name": "DescriptionStyleModel",
      "state": {
       "description_width": ""
      }
     },
     "8dbcb4cb16334536af08481abd6502f7": {
      "model_module": "@jupyter-widgets/controls",
      "model_module_version": "1.5.0",
      "model_name": "FloatProgressModel",
      "state": {
       "bar_style": "success",
       "description": "loss: 0.1944; accuracy: 0.9422; val_loss: 0.1795; val_accuracy: 0.9496: ",
       "layout": "IPY_MODEL_c6d0667ff39341feb578db8179dbc3ba",
       "max": 1,
       "style": "IPY_MODEL_883fabe7c796488b88d0056b29987f86",
       "value": 1
      }
     },
     "8eb54c211b524120bb4c5cde7ea2be63": {
      "model_module": "@jupyter-widgets/controls",
      "model_module_version": "1.5.0",
      "model_name": "DescriptionStyleModel",
      "state": {
       "description_width": ""
      }
     },
     "8f7fd1c48fd94fce96cf589fcc016e8a": {
      "model_module": "@jupyter-widgets/controls",
      "model_module_version": "1.5.0",
      "model_name": "HBoxModel",
      "state": {
       "children": [
        "IPY_MODEL_9042a9b097fa4b88a2eeaeb22435f52a",
        "IPY_MODEL_47bdce5fe103485f94ccf00f119e6fc1"
       ],
       "layout": "IPY_MODEL_da9e5b8ee5494fa89e6c376525493a59"
      }
     },
     "8f858ccc23f04094aa24d17dcdd59ef8": {
      "model_module": "@jupyter-widgets/controls",
      "model_module_version": "1.5.0",
      "model_name": "FloatProgressModel",
      "state": {
       "bar_style": "success",
       "description": "loss: 0.0064; accuracy: 0.9995; val_loss: 0.0768; val_accuracy: 0.9790: ",
       "layout": "IPY_MODEL_2faf5247ceab4b2e821a3675ff4cdb8c",
       "max": 1,
       "style": "IPY_MODEL_2f2317236aa4498d8aea417d042437da",
       "value": 1
      }
     },
     "8f8830cf5c5243e3b7eca350ed34b72b": {
      "model_module": "@jupyter-widgets/controls",
      "model_module_version": "1.5.0",
      "model_name": "HTMLModel",
      "state": {
       "layout": "IPY_MODEL_26dae2b0ae214550b254fd31bfb7b729",
       "style": "IPY_MODEL_371bffcf330146df85680762a52de985",
       "value": " 99/? [00:03&lt;00:00, 25.19it/s]"
      }
     },
     "8fd0bd6f5e0a4b398cffaf7faf5e1c06": {
      "model_module": "@jupyter-widgets/base",
      "model_module_version": "1.2.0",
      "model_name": "LayoutModel",
      "state": {}
     },
     "8fd1c487f5bc4e8ab2bd6938907c94b2": {
      "model_module": "@jupyter-widgets/controls",
      "model_module_version": "1.5.0",
      "model_name": "HTMLModel",
      "state": {
       "layout": "IPY_MODEL_8fd0bd6f5e0a4b398cffaf7faf5e1c06",
       "style": "IPY_MODEL_807908762b0844b6a9764498625436a9",
       "value": " 99/? [00:02&lt;00:00, 42.68it/s]"
      }
     },
     "90170c90df4049aca754cf63aadefe0d": {
      "model_module": "@jupyter-widgets/controls",
      "model_module_version": "1.5.0",
      "model_name": "FloatProgressModel",
      "state": {
       "bar_style": "success",
       "description": "loss: 0.1740; accuracy: 0.9478; val_loss: 0.1628; val_accuracy: 0.9542: ",
       "layout": "IPY_MODEL_c4467eed4a1e4c66b1f1c8465e9b3392",
       "max": 1,
       "style": "IPY_MODEL_26244a25147a47fdbfae4be9115ed724",
       "value": 1
      }
     },
     "9042a9b097fa4b88a2eeaeb22435f52a": {
      "model_module": "@jupyter-widgets/controls",
      "model_module_version": "1.5.0",
      "model_name": "FloatProgressModel",
      "state": {
       "bar_style": "success",
       "description": "loss: 0.0268; accuracy: 0.9943; val_loss: 0.0759; val_accuracy: 0.9775: ",
       "layout": "IPY_MODEL_15191f5a27d543e6861c1579a937d51c",
       "max": 1,
       "style": "IPY_MODEL_c6e9e23f7137441f8d87863b683d8376",
       "value": 1
      }
     },
     "91bfac9b6a0b43f9887a8277f03e7c60": {
      "model_module": "@jupyter-widgets/controls",
      "model_module_version": "1.5.0",
      "model_name": "FloatProgressModel",
      "state": {
       "bar_style": "success",
       "description": "loss: 0.3977; accuracy: 0.8839; val_loss: 0.2996; val_accuracy: 0.9173: ",
       "layout": "IPY_MODEL_0595cb03778f4d21817eea2fe90e349b",
       "max": 1,
       "style": "IPY_MODEL_cb3403024a2b4e9bae93a461b418ed1a",
       "value": 1
      }
     },
     "93f9cd760a794d34a1486011d42140b1": {
      "model_module": "@jupyter-widgets/controls",
      "model_module_version": "1.5.0",
      "model_name": "DescriptionStyleModel",
      "state": {
       "description_width": ""
      }
     },
     "943798fc2c844f8683279000a8aff156": {
      "model_module": "@jupyter-widgets/controls",
      "model_module_version": "1.5.0",
      "model_name": "DescriptionStyleModel",
      "state": {
       "description_width": ""
      }
     },
     "943b0047c72b4225a44aed55fdd7db5c": {
      "model_module": "@jupyter-widgets/controls",
      "model_module_version": "1.5.0",
      "model_name": "HBoxModel",
      "state": {
       "children": [
        "IPY_MODEL_53d4b709fa5644f28ac2768dfc09d3b8",
        "IPY_MODEL_8fd1c487f5bc4e8ab2bd6938907c94b2"
       ],
       "layout": "IPY_MODEL_155baefb768747968ea6127beac40348"
      }
     },
     "945bbadaa1804423ae1635bb90a38aa7": {
      "model_module": "@jupyter-widgets/controls",
      "model_module_version": "1.5.0",
      "model_name": "ProgressStyleModel",
      "state": {
       "description_width": "initial"
      }
     },
     "94f508573f3a4f01a3e7b0ec79f7d9fd": {
      "model_module": "@jupyter-widgets/base",
      "model_module_version": "1.2.0",
      "model_name": "LayoutModel",
      "state": {}
     },
     "957fcc611f6b4540a0ed3853a20b85c0": {
      "model_module": "@jupyter-widgets/controls",
      "model_module_version": "1.5.0",
      "model_name": "HBoxModel",
      "state": {
       "children": [
        "IPY_MODEL_374d82c2376b4b499a446ff977fba29c",
        "IPY_MODEL_bd904d21e6b74cb5b6a9e1c594f1f752"
       ],
       "layout": "IPY_MODEL_3c91b553a43443769fecf94f1e75b01f"
      }
     },
     "959c897cf72d4db19920447102babd5a": {
      "model_module": "@jupyter-widgets/controls",
      "model_module_version": "1.5.0",
      "model_name": "ProgressStyleModel",
      "state": {
       "description_width": "initial"
      }
     },
     "965cb7dbf9194d10a14c4708e8e7943a": {
      "model_module": "@jupyter-widgets/controls",
      "model_module_version": "1.5.0",
      "model_name": "HTMLModel",
      "state": {
       "layout": "IPY_MODEL_44f9906dac54422189682bce52f238d5",
       "style": "IPY_MODEL_1f15f3fa6aab4708ab3d8b6d498eb78f",
       "value": " 99/? [00:09&lt;00:00, 10.49it/s]"
      }
     },
     "971d49bb21c240589d4bb5f8ea60b3ed": {
      "model_module": "@jupyter-widgets/controls",
      "model_module_version": "1.5.0",
      "model_name": "HBoxModel",
      "state": {
       "children": [
        "IPY_MODEL_981decb36143475b87381e24d5b83361",
        "IPY_MODEL_2c053c147b0a4b3487476828e0f593c8"
       ],
       "layout": "IPY_MODEL_98cde41c89a442b786641e85cf2cc7cc"
      }
     },
     "979f3bd0e637462192be76363c34fe81": {
      "model_module": "@jupyter-widgets/base",
      "model_module_version": "1.2.0",
      "model_name": "LayoutModel",
      "state": {}
     },
     "97c266215fee4b0090e21a31a56a4455": {
      "model_module": "@jupyter-widgets/controls",
      "model_module_version": "1.5.0",
      "model_name": "HTMLModel",
      "state": {
       "layout": "IPY_MODEL_ab409d9adf7c45479b8246bb76b5af45",
       "style": "IPY_MODEL_b520b0b253c34dc2ae96556e9196329e",
       "value": " 99/? [00:01&lt;00:00, 63.38it/s]"
      }
     },
     "97e641187a2346b491c51da407a6c0be": {
      "model_module": "@jupyter-widgets/controls",
      "model_module_version": "1.5.0",
      "model_name": "HTMLModel",
      "state": {
       "layout": "IPY_MODEL_3437bedc8bbc4d199e187393b95cfa08",
       "style": "IPY_MODEL_331ad9b82e134d61a1f39190153b67de",
       "value": " 99/? [00:01&lt;00:00, 63.54it/s]"
      }
     },
     "981decb36143475b87381e24d5b83361": {
      "model_module": "@jupyter-widgets/controls",
      "model_module_version": "1.5.0",
      "model_name": "FloatProgressModel",
      "state": {
       "bar_style": "success",
       "description": "loss: 0.1284; accuracy: 0.9604; val_loss: 0.1319; val_accuracy: 0.9631: ",
       "layout": "IPY_MODEL_40ba54a019ed433fb2904ba71c0bc52a",
       "max": 1,
       "style": "IPY_MODEL_7323fe26b6ff41aa80d8ba7e16f0b170",
       "value": 1
      }
     },
     "98cc466bba0e496790f3b34e434a6eb1": {
      "model_module": "@jupyter-widgets/controls",
      "model_module_version": "1.5.0",
      "model_name": "HTMLModel",
      "state": {
       "layout": "IPY_MODEL_35633ce8a0834d14b7ec61d7bd1b5352",
       "style": "IPY_MODEL_f7e6ad39346e4ea7b2581a1e40849e70",
       "value": " 99/? [00:06&lt;00:00, 15.75it/s]"
      }
     },
     "98cde41c89a442b786641e85cf2cc7cc": {
      "model_module": "@jupyter-widgets/base",
      "model_module_version": "1.2.0",
      "model_name": "LayoutModel",
      "state": {}
     },
     "98cec5524e594729ae4fd73d195f1bfd": {
      "model_module": "@jupyter-widgets/controls",
      "model_module_version": "1.5.0",
      "model_name": "HTMLModel",
      "state": {
       "layout": "IPY_MODEL_551a7eae0b184a15bc4f74ffd62b6ae4",
       "style": "IPY_MODEL_70314c1214d04f35bd81b65f52d49efe",
       "value": " 99/? [00:02&lt;00:00, 42.12it/s]"
      }
     },
     "9907ff12b4334977ae8e30682f022f68": {
      "model_module": "@jupyter-widgets/controls",
      "model_module_version": "1.5.0",
      "model_name": "HBoxModel",
      "state": {
       "children": [
        "IPY_MODEL_af0e85ae1ee1480fa8628ede8a960cb6",
        "IPY_MODEL_7b0e3b1ba66c412c92b18b0876a58ab6"
       ],
       "layout": "IPY_MODEL_9bf78cf0b0974e59a3dbf1b92f35f923"
      }
     },
     "99a873ca3aab4e3dac2c767b3efab352": {
      "model_module": "@jupyter-widgets/base",
      "model_module_version": "1.2.0",
      "model_name": "LayoutModel",
      "state": {}
     },
     "9a321d0b34424d50afd26e5e7cecf1c3": {
      "model_module": "@jupyter-widgets/controls",
      "model_module_version": "1.5.0",
      "model_name": "HBoxModel",
      "state": {
       "children": [
        "IPY_MODEL_8658f222be234770ac9e120822483a06",
        "IPY_MODEL_295ce16f58e54286b55e9f26bf512907"
       ],
       "layout": "IPY_MODEL_dc81f45cd3af45309070f56d43830135"
      }
     },
     "9b051b0376da4f11828f4948681ac3c1": {
      "model_module": "@jupyter-widgets/base",
      "model_module_version": "1.2.0",
      "model_name": "LayoutModel",
      "state": {}
     },
     "9b8c73f7f75d432ead85d29a877d03c8": {
      "model_module": "@jupyter-widgets/controls",
      "model_module_version": "1.5.0",
      "model_name": "ProgressStyleModel",
      "state": {
       "description_width": "initial"
      }
     },
     "9bc265884daa4bc1b6ed2987103ce0a9": {
      "model_module": "@jupyter-widgets/controls",
      "model_module_version": "1.5.0",
      "model_name": "DescriptionStyleModel",
      "state": {
       "description_width": ""
      }
     },
     "9bf78cf0b0974e59a3dbf1b92f35f923": {
      "model_module": "@jupyter-widgets/base",
      "model_module_version": "1.2.0",
      "model_name": "LayoutModel",
      "state": {}
     },
     "9cfac97b4d5a488a89ba10c526df027f": {
      "model_module": "@jupyter-widgets/controls",
      "model_module_version": "1.5.0",
      "model_name": "HTMLModel",
      "state": {
       "layout": "IPY_MODEL_4bc54f3d159345ca9e013da3de30119d",
       "style": "IPY_MODEL_55d8c289bff644b1a6e71766c8924502",
       "value": " 99/? [00:00&lt;00:00, 126.36it/s]"
      }
     },
     "9f341d70ffb443eea4204d23c6bea2ef": {
      "model_module": "@jupyter-widgets/controls",
      "model_module_version": "1.5.0",
      "model_name": "FloatProgressModel",
      "state": {
       "bar_style": "success",
       "description": "loss: 0.0202; accuracy: 0.9959; val_loss: 0.0770; val_accuracy: 0.9776: ",
       "layout": "IPY_MODEL_b188e6c03a9f49d697ddce92f801eaa7",
       "max": 1,
       "style": "IPY_MODEL_3be3be39755e4de5bee937a6d799b6e9",
       "value": 1
      }
     },
     "a07d59e5a43d4144840f4de60caf466d": {
      "model_module": "@jupyter-widgets/controls",
      "model_module_version": "1.5.0",
      "model_name": "HBoxModel",
      "state": {
       "children": [
        "IPY_MODEL_a9e46aeeb4e14dd68d453bd13e06d9c6",
        "IPY_MODEL_8542a2f941134ca58c1a5e61a26f66ef"
       ],
       "layout": "IPY_MODEL_a645dc2aefff4420902e3addb50df9ea"
      }
     },
     "a0da6c00a06840b3a139b55e194c1b73": {
      "model_module": "@jupyter-widgets/controls",
      "model_module_version": "1.5.0",
      "model_name": "HTMLModel",
      "state": {
       "layout": "IPY_MODEL_128a9950ce52423b8e45ab3313d17b1c",
       "style": "IPY_MODEL_f5a776530b43483993886cba9332d0ce",
       "value": " 99/? [00:02&lt;00:00, 41.19it/s]"
      }
     },
     "a1760260b7cf4476b9372a7ff2ae843f": {
      "model_module": "@jupyter-widgets/base",
      "model_module_version": "1.2.0",
      "model_name": "LayoutModel",
      "state": {}
     },
     "a1d5b3c8ac6d4da5883c640171d12565": {
      "model_module": "@jupyter-widgets/base",
      "model_module_version": "1.2.0",
      "model_name": "LayoutModel",
      "state": {}
     },
     "a22fbf0ffa44499eb24ec53e7e4e74ad": {
      "model_module": "@jupyter-widgets/controls",
      "model_module_version": "1.5.0",
      "model_name": "HTMLModel",
      "state": {
       "layout": "IPY_MODEL_db05078795464fa1a7cb39596da2872a",
       "style": "IPY_MODEL_88591d066bbe4eccac7cf7c2cefbd16c",
       "value": " 99/? [00:01&lt;00:00, 62.78it/s]"
      }
     },
     "a2479af611e54a13acd2ae52c128b9b1": {
      "model_module": "@jupyter-widgets/controls",
      "model_module_version": "1.5.0",
      "model_name": "FloatProgressModel",
      "state": {
       "bar_style": "success",
       "description": "loss: 0.2938; accuracy: 0.9146; val_loss: 0.2477; val_accuracy: 0.9284: ",
       "layout": "IPY_MODEL_ebca1939c5304669b4021a1bcd322465",
       "max": 1,
       "style": "IPY_MODEL_ceb26f5bb0a348ee8f29f7cc59d3bf06",
       "value": 1
      }
     },
     "a377e395b8424b92ae34775310f7f9a6": {
      "model_module": "@jupyter-widgets/controls",
      "model_module_version": "1.5.0",
      "model_name": "FloatProgressModel",
      "state": {
       "bar_style": "success",
       "description": "loss: 0.0722; accuracy: 0.9792; val_loss: 0.0970; val_accuracy: 0.9722: ",
       "layout": "IPY_MODEL_3a04766ebfac4faeb9d75c7d56e527f8",
       "max": 1,
       "style": "IPY_MODEL_6bb406aef7674c4091152b8c25eb942e",
       "value": 1
      }
     },
     "a439fba8ae634f749b2855eb52c22ed5": {
      "model_module": "@jupyter-widgets/controls",
      "model_module_version": "1.5.0",
      "model_name": "HTMLModel",
      "state": {
       "layout": "IPY_MODEL_106c7010f16b4213b980723d1af9390f",
       "style": "IPY_MODEL_606535b64b7b425fa60b582dd3aa0b54",
       "value": " 99/? [00:02&lt;00:00, 42.21it/s]"
      }
     },
     "a645dc2aefff4420902e3addb50df9ea": {
      "model_module": "@jupyter-widgets/base",
      "model_module_version": "1.2.0",
      "model_name": "LayoutModel",
      "state": {}
     },
     "a67500fb082046ccb4820b7a062a3196": {
      "model_module": "@jupyter-widgets/controls",
      "model_module_version": "1.5.0",
      "model_name": "FloatProgressModel",
      "state": {
       "bar_style": "success",
       "description": "loss: 0.0960; accuracy: 0.9718; val_loss: 0.1148; val_accuracy: 0.9665: ",
       "layout": "IPY_MODEL_5969d642060e453a8d490b58d3a76d00",
       "max": 1,
       "style": "IPY_MODEL_5713a7ffa3514a639cf9642a7a820439",
       "value": 1
      }
     },
     "a777ed5954c44060a759557b072a8494": {
      "model_module": "@jupyter-widgets/base",
      "model_module_version": "1.2.0",
      "model_name": "LayoutModel",
      "state": {}
     },
     "a817adb71c394078a74856bfe5a7d7ac": {
      "model_module": "@jupyter-widgets/base",
      "model_module_version": "1.2.0",
      "model_name": "LayoutModel",
      "state": {}
     },
     "a872a89dc919450d88f5d5a8b6803a0f": {
      "model_module": "@jupyter-widgets/base",
      "model_module_version": "1.2.0",
      "model_name": "LayoutModel",
      "state": {}
     },
     "a926f6054f3749a7ab217a978519e9e5": {
      "model_module": "@jupyter-widgets/controls",
      "model_module_version": "1.5.0",
      "model_name": "DescriptionStyleModel",
      "state": {
       "description_width": ""
      }
     },
     "a9e46aeeb4e14dd68d453bd13e06d9c6": {
      "model_module": "@jupyter-widgets/controls",
      "model_module_version": "1.5.0",
      "model_name": "FloatProgressModel",
      "state": {
       "bar_style": "success",
       "description": "loss: 0.0503; accuracy: 0.9880; val_loss: 0.0839; val_accuracy: 0.9755: ",
       "layout": "IPY_MODEL_3b99a6c021f94e34941a5b777802eb78",
       "max": 1,
       "style": "IPY_MODEL_5bf4c41b9b8243cabd11ceb00343bcd5",
       "value": 1
      }
     },
     "aac5827f8d444fc4b139961a3222bd16": {
      "model_module": "@jupyter-widgets/base",
      "model_module_version": "1.2.0",
      "model_name": "LayoutModel",
      "state": {}
     },
     "ab409d9adf7c45479b8246bb76b5af45": {
      "model_module": "@jupyter-widgets/base",
      "model_module_version": "1.2.0",
      "model_name": "LayoutModel",
      "state": {}
     },
     "ad684d239a5f4d2b87b2e5727528ade7": {
      "model_module": "@jupyter-widgets/controls",
      "model_module_version": "1.5.0",
      "model_name": "HBoxModel",
      "state": {
       "children": [
        "IPY_MODEL_2b51c53e82a24971ae58d4bdafcbda92",
        "IPY_MODEL_af04a8314ada4908b645df091c8d2a05"
       ],
       "layout": "IPY_MODEL_d7fc5cd1daff49f8a35011abc6d99542"
      }
     },
     "af04a8314ada4908b645df091c8d2a05": {
      "model_module": "@jupyter-widgets/controls",
      "model_module_version": "1.5.0",
      "model_name": "HTMLModel",
      "state": {
       "layout": "IPY_MODEL_466f6096e7cb4698a37a3099889352ab",
       "style": "IPY_MODEL_317acb2519b740d8b0889c9c6a249976",
       "value": " 99/? [00:01&lt;00:00, 62.80it/s]"
      }
     },
     "af0e85ae1ee1480fa8628ede8a960cb6": {
      "model_module": "@jupyter-widgets/controls",
      "model_module_version": "1.5.0",
      "model_name": "FloatProgressModel",
      "state": {
       "bar_style": "success",
       "description": "loss: 0.0595; accuracy: 0.9842; val_loss: 0.0898; val_accuracy: 0.9745: ",
       "layout": "IPY_MODEL_70623ddce0d4451ba48ddf7dde92914e",
       "max": 1,
       "style": "IPY_MODEL_4d9fc1a32bc84c949c8787d51aa41db1",
       "value": 1
      }
     },
     "af4fb41e3e84456e8a94db173c004bfe": {
      "model_module": "@jupyter-widgets/controls",
      "model_module_version": "1.5.0",
      "model_name": "ProgressStyleModel",
      "state": {
       "description_width": "initial"
      }
     },
     "b0fad14b81444944982421762057c25f": {
      "model_module": "@jupyter-widgets/base",
      "model_module_version": "1.2.0",
      "model_name": "LayoutModel",
      "state": {}
     },
     "b188e6c03a9f49d697ddce92f801eaa7": {
      "model_module": "@jupyter-widgets/base",
      "model_module_version": "1.2.0",
      "model_name": "LayoutModel",
      "state": {}
     },
     "b3710ceec185498fa045e3eaeae48341": {
      "model_module": "@jupyter-widgets/controls",
      "model_module_version": "1.5.0",
      "model_name": "HTMLModel",
      "state": {
       "layout": "IPY_MODEL_02d691c1ecb24abaa16467afb462caf6",
       "style": "IPY_MODEL_3e9a6083a08f4ad2b25426dd206a4ebd",
       "value": " 99/? [00:00&lt;00:00, 130.69it/s]"
      }
     },
     "b520b0b253c34dc2ae96556e9196329e": {
      "model_module": "@jupyter-widgets/controls",
      "model_module_version": "1.5.0",
      "model_name": "DescriptionStyleModel",
      "state": {
       "description_width": ""
      }
     },
     "b6b386185d2c4e9fa8a4caba27ed30df": {
      "model_module": "@jupyter-widgets/controls",
      "model_module_version": "1.5.0",
      "model_name": "ProgressStyleModel",
      "state": {
       "description_width": "initial"
      }
     },
     "b802baaa05424cb98f28a0c1a524dc8d": {
      "model_module": "@jupyter-widgets/controls",
      "model_module_version": "1.5.0",
      "model_name": "DescriptionStyleModel",
      "state": {
       "description_width": ""
      }
     },
     "b8ec9249baa442b8949d158a6f88c9dc": {
      "model_module": "@jupyter-widgets/controls",
      "model_module_version": "1.5.0",
      "model_name": "ProgressStyleModel",
      "state": {
       "description_width": "initial"
      }
     },
     "baed5adcfb6e468bba91113d3ecea6e7": {
      "model_module": "@jupyter-widgets/base",
      "model_module_version": "1.2.0",
      "model_name": "LayoutModel",
      "state": {}
     },
     "bb3014eec61d492eae9fc6a6d42947fa": {
      "model_module": "@jupyter-widgets/controls",
      "model_module_version": "1.5.0",
      "model_name": "HTMLModel",
      "state": {
       "layout": "IPY_MODEL_99a873ca3aab4e3dac2c767b3efab352",
       "style": "IPY_MODEL_66b42dc6a407495ba9edb138ba8ff833",
       "value": " 99/? [00:02&lt;00:00, 40.71it/s]"
      }
     },
     "bb4f841ec11449abbd6e791278632fee": {
      "model_module": "@jupyter-widgets/controls",
      "model_module_version": "1.5.0",
      "model_name": "FloatProgressModel",
      "state": {
       "bar_style": "success",
       "description": "loss: 0.0302; accuracy: 0.9927; val_loss: 0.0810; val_accuracy: 0.9762: ",
       "layout": "IPY_MODEL_94f508573f3a4f01a3e7b0ec79f7d9fd",
       "max": 1,
       "style": "IPY_MODEL_82c0080c6189447783e3a46694c4a904",
       "value": 1
      }
     },
     "bc3b12160df04af6915b62fed4b895c4": {
      "model_module": "@jupyter-widgets/controls",
      "model_module_version": "1.5.0",
      "model_name": "DescriptionStyleModel",
      "state": {
       "description_width": ""
      }
     },
     "bd904d21e6b74cb5b6a9e1c594f1f752": {
      "model_module": "@jupyter-widgets/controls",
      "model_module_version": "1.5.0",
      "model_name": "HTMLModel",
      "state": {
       "layout": "IPY_MODEL_71ff95018fd3478896484a97e6fdaab0",
       "style": "IPY_MODEL_be780b6b3eaf46e5b519ad7f79142016",
       "value": " 99/? [00:00&lt;00:00, 126.73it/s]"
      }
     },
     "bdb5f942e02c4e21a70f8e15fbc738b2": {
      "model_module": "@jupyter-widgets/controls",
      "model_module_version": "1.5.0",
      "model_name": "HBoxModel",
      "state": {
       "children": [
        "IPY_MODEL_66c8fc7475ce4d1f8209ad065fc7c231",
        "IPY_MODEL_e50c9cc8ecc643cebb930699dd3fef0b"
       ],
       "layout": "IPY_MODEL_c0b20a9dc3bb4a80a6a82d8bd42416d3"
      }
     },
     "be1792a092274f1cad2aca93adc7cd9d": {
      "model_module": "@jupyter-widgets/controls",
      "model_module_version": "1.5.0",
      "model_name": "ProgressStyleModel",
      "state": {
       "description_width": "initial"
      }
     },
     "be780b6b3eaf46e5b519ad7f79142016": {
      "model_module": "@jupyter-widgets/controls",
      "model_module_version": "1.5.0",
      "model_name": "DescriptionStyleModel",
      "state": {
       "description_width": ""
      }
     },
     "bf10cbfc070a49b490b4015af574c91c": {
      "model_module": "@jupyter-widgets/controls",
      "model_module_version": "1.5.0",
      "model_name": "FloatProgressModel",
      "state": {
       "bar_style": "success",
       "description": "loss: 0.0218; accuracy: 0.9959; val_loss: 0.0780; val_accuracy: 0.9770: ",
       "layout": "IPY_MODEL_6dc86656870c4e36b812ca3a27fa62ab",
       "max": 1,
       "style": "IPY_MODEL_60cbd6b11509489c9ddd7f7503a7f22d",
       "value": 1
      }
     },
     "bf2a424791a744af93963422b4a51ffc": {
      "model_module": "@jupyter-widgets/base",
      "model_module_version": "1.2.0",
      "model_name": "LayoutModel",
      "state": {}
     },
     "c0b20a9dc3bb4a80a6a82d8bd42416d3": {
      "model_module": "@jupyter-widgets/base",
      "model_module_version": "1.2.0",
      "model_name": "LayoutModel",
      "state": {}
     },
     "c220370c06ad4ac18acea9d116a1dd66": {
      "model_module": "@jupyter-widgets/controls",
      "model_module_version": "1.5.0",
      "model_name": "ProgressStyleModel",
      "state": {
       "description_width": "initial"
      }
     },
     "c4467eed4a1e4c66b1f1c8465e9b3392": {
      "model_module": "@jupyter-widgets/base",
      "model_module_version": "1.2.0",
      "model_name": "LayoutModel",
      "state": {}
     },
     "c45bd29376944ee49aa2ce80d76137e2": {
      "model_module": "@jupyter-widgets/controls",
      "model_module_version": "1.5.0",
      "model_name": "FloatProgressModel",
      "state": {
       "bar_style": "success",
       "description": "loss: 0.0340; accuracy: 0.9913; val_loss: 0.0811; val_accuracy: 0.9766: ",
       "layout": "IPY_MODEL_5e271ba3ba864294b34325cb89bb1e1c",
       "max": 1,
       "style": "IPY_MODEL_be1792a092274f1cad2aca93adc7cd9d",
       "value": 1
      }
     },
     "c474029c97e146f89cff6fb03bff1ba0": {
      "model_module": "@jupyter-widgets/base",
      "model_module_version": "1.2.0",
      "model_name": "LayoutModel",
      "state": {}
     },
     "c51d536cdd724e2194b362e541cdc416": {
      "model_module": "@jupyter-widgets/base",
      "model_module_version": "1.2.0",
      "model_name": "LayoutModel",
      "state": {}
     },
     "c6b480b6bb8543feb0b0f9d50950e6e0": {
      "model_module": "@jupyter-widgets/base",
      "model_module_version": "1.2.0",
      "model_name": "LayoutModel",
      "state": {}
     },
     "c6d0667ff39341feb578db8179dbc3ba": {
      "model_module": "@jupyter-widgets/base",
      "model_module_version": "1.2.0",
      "model_name": "LayoutModel",
      "state": {}
     },
     "c6e9e23f7137441f8d87863b683d8376": {
      "model_module": "@jupyter-widgets/controls",
      "model_module_version": "1.5.0",
      "model_name": "ProgressStyleModel",
      "state": {
       "description_width": "initial"
      }
     },
     "c7a7a14ae08b416bb8a87782e063f49f": {
      "model_module": "@jupyter-widgets/base",
      "model_module_version": "1.2.0",
      "model_name": "LayoutModel",
      "state": {}
     },
     "c7d5a8643b334531a764f257add09c4b": {
      "model_module": "@jupyter-widgets/controls",
      "model_module_version": "1.5.0",
      "model_name": "HBoxModel",
      "state": {
       "children": [
        "IPY_MODEL_8dbcb4cb16334536af08481abd6502f7",
        "IPY_MODEL_97c266215fee4b0090e21a31a56a4455"
       ],
       "layout": "IPY_MODEL_1ada5d7a31534619839ae2303a83851b"
      }
     },
     "c838e78591a0457b831b6002a0b4276f": {
      "model_module": "@jupyter-widgets/base",
      "model_module_version": "1.2.0",
      "model_name": "LayoutModel",
      "state": {}
     },
     "c8999b146ba34869ba262c290329f460": {
      "model_module": "@jupyter-widgets/base",
      "model_module_version": "1.2.0",
      "model_name": "LayoutModel",
      "state": {}
     },
     "c9ee86a5f1d24aa28dd1555603a19d09": {
      "model_module": "@jupyter-widgets/controls",
      "model_module_version": "1.5.0",
      "model_name": "HBoxModel",
      "state": {
       "children": [
        "IPY_MODEL_a377e395b8424b92ae34775310f7f9a6",
        "IPY_MODEL_98cc466bba0e496790f3b34e434a6eb1"
       ],
       "layout": "IPY_MODEL_1390312837274b04b83bd563615dbd73"
      }
     },
     "cabb4352ed4f4b87853cd4624420eada": {
      "model_module": "@jupyter-widgets/base",
      "model_module_version": "1.2.0",
      "model_name": "LayoutModel",
      "state": {}
     },
     "cad32aa699214f0a8731212936ad6db1": {
      "model_module": "@jupyter-widgets/controls",
      "model_module_version": "1.5.0",
      "model_name": "ProgressStyleModel",
      "state": {
       "description_width": "initial"
      }
     },
     "cb3403024a2b4e9bae93a461b418ed1a": {
      "model_module": "@jupyter-widgets/controls",
      "model_module_version": "1.5.0",
      "model_name": "ProgressStyleModel",
      "state": {
       "description_width": "initial"
      }
     },
     "cb757eb69d424ced82312e8bef094ce2": {
      "model_module": "@jupyter-widgets/base",
      "model_module_version": "1.2.0",
      "model_name": "LayoutModel",
      "state": {}
     },
     "cc9955c399c44a3c99bb0ee5026004ee": {
      "model_module": "@jupyter-widgets/base",
      "model_module_version": "1.2.0",
      "model_name": "LayoutModel",
      "state": {}
     },
     "cce1467368df43a482e06942513e57eb": {
      "model_module": "@jupyter-widgets/controls",
      "model_module_version": "1.5.0",
      "model_name": "HBoxModel",
      "state": {
       "children": [
        "IPY_MODEL_9f341d70ffb443eea4204d23c6bea2ef",
        "IPY_MODEL_3f56e06db82148b296df7c1d9a1ad980"
       ],
       "layout": "IPY_MODEL_7ab28415ad834541a0d3998ee71573d8"
      }
     },
     "ceb26f5bb0a348ee8f29f7cc59d3bf06": {
      "model_module": "@jupyter-widgets/controls",
      "model_module_version": "1.5.0",
      "model_name": "ProgressStyleModel",
      "state": {
       "description_width": "initial"
      }
     },
     "d0b654bce91b4072bfcf5cc0f7a7cbee": {
      "model_module": "@jupyter-widgets/base",
      "model_module_version": "1.2.0",
      "model_name": "LayoutModel",
      "state": {}
     },
     "d0ec897bec234827b11bad827bd3c786": {
      "model_module": "@jupyter-widgets/controls",
      "model_module_version": "1.5.0",
      "model_name": "DescriptionStyleModel",
      "state": {
       "description_width": ""
      }
     },
     "d4e570521025404e99ef95c0b2bf18ca": {
      "model_module": "@jupyter-widgets/base",
      "model_module_version": "1.2.0",
      "model_name": "LayoutModel",
      "state": {}
     },
     "d7fc5cd1daff49f8a35011abc6d99542": {
      "model_module": "@jupyter-widgets/base",
      "model_module_version": "1.2.0",
      "model_name": "LayoutModel",
      "state": {}
     },
     "d9083744209d457cbc6557a962c8f947": {
      "model_module": "@jupyter-widgets/base",
      "model_module_version": "1.2.0",
      "model_name": "LayoutModel",
      "state": {}
     },
     "d9211c841cd24a6c8cc065bc7e60b825": {
      "model_module": "@jupyter-widgets/controls",
      "model_module_version": "1.5.0",
      "model_name": "ProgressStyleModel",
      "state": {
       "description_width": "initial"
      }
     },
     "d9c25310289841b59743c9024d19029e": {
      "model_module": "@jupyter-widgets/controls",
      "model_module_version": "1.5.0",
      "model_name": "HTMLModel",
      "state": {
       "layout": "IPY_MODEL_5c255b5129ec439cbc41a727d0a95f71",
       "style": "IPY_MODEL_bc3b12160df04af6915b62fed4b895c4",
       "value": " 99/? [00:16&lt;00:00,  6.01it/s]"
      }
     },
     "da9e5b8ee5494fa89e6c376525493a59": {
      "model_module": "@jupyter-widgets/base",
      "model_module_version": "1.2.0",
      "model_name": "LayoutModel",
      "state": {}
     },
     "db05078795464fa1a7cb39596da2872a": {
      "model_module": "@jupyter-widgets/base",
      "model_module_version": "1.2.0",
      "model_name": "LayoutModel",
      "state": {}
     },
     "db46f86ef3a14403b38d2b68bd82fde9": {
      "model_module": "@jupyter-widgets/controls",
      "model_module_version": "1.5.0",
      "model_name": "ProgressStyleModel",
      "state": {
       "description_width": "initial"
      }
     },
     "dc71067730124cbea8148ee3d0ec92e5": {
      "model_module": "@jupyter-widgets/controls",
      "model_module_version": "1.5.0",
      "model_name": "ProgressStyleModel",
      "state": {
       "description_width": "initial"
      }
     },
     "dc81f45cd3af45309070f56d43830135": {
      "model_module": "@jupyter-widgets/base",
      "model_module_version": "1.2.0",
      "model_name": "LayoutModel",
      "state": {}
     },
     "ddc0a231a764400582f6c7bd23c180cb": {
      "model_module": "@jupyter-widgets/controls",
      "model_module_version": "1.5.0",
      "model_name": "ProgressStyleModel",
      "state": {
       "description_width": "initial"
      }
     },
     "de7f28399beb43c7beeb7da10130da76": {
      "model_module": "@jupyter-widgets/controls",
      "model_module_version": "1.5.0",
      "model_name": "HTMLModel",
      "state": {
       "layout": "IPY_MODEL_15f429777655461f90e07169a4f6d873",
       "style": "IPY_MODEL_3d0cac0c26a746e897bcdf7413801b6b",
       "value": " 99/? [00:02&lt;00:00, 41.79it/s]"
      }
     },
     "dff7e790d83d446ab60943a7b29800f4": {
      "model_module": "@jupyter-widgets/controls",
      "model_module_version": "1.5.0",
      "model_name": "HTMLModel",
      "state": {
       "layout": "IPY_MODEL_c7a7a14ae08b416bb8a87782e063f49f",
       "style": "IPY_MODEL_65a8811fe9d94c6fa79773a151ec9092",
       "value": " 99/? [00:00&lt;00:00, 129.07it/s]"
      }
     },
     "e16f0b318ebb42188cdf25162ca0ad55": {
      "model_module": "@jupyter-widgets/controls",
      "model_module_version": "1.5.0",
      "model_name": "HTMLModel",
      "state": {
       "layout": "IPY_MODEL_c474029c97e146f89cff6fb03bff1ba0",
       "style": "IPY_MODEL_4935a3c4821244f69ed7368956b55d9e",
       "value": " 99/? [00:12&lt;00:00,  7.87it/s]"
      }
     },
     "e4db759e28994bdab43bac630f92ae50": {
      "model_module": "@jupyter-widgets/controls",
      "model_module_version": "1.5.0",
      "model_name": "HBoxModel",
      "state": {
       "children": [
        "IPY_MODEL_87af195d26b94a08ac6b36dd87372fd1",
        "IPY_MODEL_8f8830cf5c5243e3b7eca350ed34b72b"
       ],
       "layout": "IPY_MODEL_00830d26829042e0a035befe23baa7d6"
      }
     },
     "e50c9cc8ecc643cebb930699dd3fef0b": {
      "model_module": "@jupyter-widgets/controls",
      "model_module_version": "1.5.0",
      "model_name": "HTMLModel",
      "state": {
       "layout": "IPY_MODEL_53546cdb91b84c97952afe65eea49c0c",
       "style": "IPY_MODEL_9bc265884daa4bc1b6ed2987103ce0a9",
       "value": " 99/? [00:00&lt;00:00, 128.23it/s]"
      }
     },
     "e749d32a766e42aeaaf7c18260880619": {
      "model_module": "@jupyter-widgets/controls",
      "model_module_version": "1.5.0",
      "model_name": "FloatProgressModel",
      "state": {
       "bar_style": "success",
       "description": "loss: 0.0450; accuracy: 0.9884; val_loss: 0.0847; val_accuracy: 0.9753: ",
       "layout": "IPY_MODEL_f26a32315c774e0d8526795a8fcb7e6d",
       "max": 1,
       "style": "IPY_MODEL_65d5805a9dc34d9298b94b9eca2d9b95",
       "value": 1
      }
     },
     "e788c72c0e2c4b2890b16d9c74ca004a": {
      "model_module": "@jupyter-widgets/controls",
      "model_module_version": "1.5.0",
      "model_name": "FloatProgressModel",
      "state": {
       "bar_style": "success",
       "description": "loss: 0.0160; accuracy: 0.9975; val_loss: 0.0756; val_accuracy: 0.9780: ",
       "layout": "IPY_MODEL_a872a89dc919450d88f5d5a8b6803a0f",
       "max": 1,
       "style": "IPY_MODEL_3210c99724624b498ac9b2e3df24aad2",
       "value": 1
      }
     },
     "e7a3b027a3ae4a32816ebae01fe9fca9": {
      "model_module": "@jupyter-widgets/controls",
      "model_module_version": "1.5.0",
      "model_name": "DescriptionStyleModel",
      "state": {
       "description_width": ""
      }
     },
     "e7e1e3dcf1a244e886640c52c28e7343": {
      "model_module": "@jupyter-widgets/controls",
      "model_module_version": "1.5.0",
      "model_name": "HBoxModel",
      "state": {
       "children": [
        "IPY_MODEL_e788c72c0e2c4b2890b16d9c74ca004a",
        "IPY_MODEL_ffa649a4146a4b97b71f0b5197a82454"
       ],
       "layout": "IPY_MODEL_50a65cd1c3604c208901bf319e6579af"
      }
     },
     "e89e18cc284b4a43b916be3171b5aea3": {
      "model_module": "@jupyter-widgets/base",
      "model_module_version": "1.2.0",
      "model_name": "LayoutModel",
      "state": {}
     },
     "e8a297670b1943ba89ed32db84f22ef0": {
      "model_module": "@jupyter-widgets/controls",
      "model_module_version": "1.5.0",
      "model_name": "HTMLModel",
      "state": {
       "layout": "IPY_MODEL_cabb4352ed4f4b87853cd4624420eada",
       "style": "IPY_MODEL_a926f6054f3749a7ab217a978519e9e5",
       "value": " 99/? [00:01&lt;00:00, 62.70it/s]"
      }
     },
     "e9d1133148d641369d10c730aa4fb40c": {
      "model_module": "@jupyter-widgets/controls",
      "model_module_version": "1.5.0",
      "model_name": "FloatProgressModel",
      "state": {
       "bar_style": "success",
       "description": "loss: 0.1156; accuracy: 0.9662; val_loss: 0.1222; val_accuracy: 0.9657: ",
       "layout": "IPY_MODEL_85ac8464e0594ffbbc079f130ea63442",
       "max": 1,
       "style": "IPY_MODEL_1b6864f8c9b2446ca9ba6be7e7ae6503",
       "value": 1
      }
     },
     "eaf60debead4438d80dbf17f1b011b59": {
      "model_module": "@jupyter-widgets/controls",
      "model_module_version": "1.5.0",
      "model_name": "DescriptionStyleModel",
      "state": {
       "description_width": ""
      }
     },
     "ebca1939c5304669b4021a1bcd322465": {
      "model_module": "@jupyter-widgets/base",
      "model_module_version": "1.2.0",
      "model_name": "LayoutModel",
      "state": {}
     },
     "ec5e24b539cb42c5bfe2772a5e35c0a8": {
      "model_module": "@jupyter-widgets/controls",
      "model_module_version": "1.5.0",
      "model_name": "FloatProgressModel",
      "state": {
       "bar_style": "success",
       "description": "loss: 0.1423; accuracy: 0.9586; val_loss: 0.1385; val_accuracy: 0.9614: ",
       "layout": "IPY_MODEL_897158b9d3a34d7a8cb5bc5ac2814f13",
       "max": 1,
       "style": "IPY_MODEL_db46f86ef3a14403b38d2b68bd82fde9",
       "value": 1
      }
     },
     "ecafcf93f54e42b39424cb8ee16105b6": {
      "model_module": "@jupyter-widgets/base",
      "model_module_version": "1.2.0",
      "model_name": "LayoutModel",
      "state": {}
     },
     "ed0c4a5208da46178ec821dc534f8aff": {
      "model_module": "@jupyter-widgets/controls",
      "model_module_version": "1.5.0",
      "model_name": "HBoxModel",
      "state": {
       "children": [
        "IPY_MODEL_1ef80ac461bd41778c92a9a5c5fd8a2d",
        "IPY_MODEL_56a8b562cd5b4928b129018bd34de720"
       ],
       "layout": "IPY_MODEL_6e6cf1d4486c4db49b08bb102e2e488a"
      }
     },
     "ee9e4b94e0504cb2b8aa3d8b10a76e83": {
      "model_module": "@jupyter-widgets/base",
      "model_module_version": "1.2.0",
      "model_name": "LayoutModel",
      "state": {}
     },
     "ef6d5004e24d4a2c9812f1cdbd674553": {
      "model_module": "@jupyter-widgets/base",
      "model_module_version": "1.2.0",
      "model_name": "LayoutModel",
      "state": {}
     },
     "ef7f0dc3a19d44fa888a7143312745f5": {
      "model_module": "@jupyter-widgets/controls",
      "model_module_version": "1.5.0",
      "model_name": "HTMLModel",
      "state": {
       "layout": "IPY_MODEL_40fe14c3c4f841108423af91bf1b59e3",
       "style": "IPY_MODEL_eaf60debead4438d80dbf17f1b011b59",
       "value": " 99/? [00:01&lt;00:00, 60.83it/s]"
      }
     },
     "f26a32315c774e0d8526795a8fcb7e6d": {
      "model_module": "@jupyter-widgets/base",
      "model_module_version": "1.2.0",
      "model_name": "LayoutModel",
      "state": {}
     },
     "f2ee7eefd9334deeae6b91be2915f8d6": {
      "model_module": "@jupyter-widgets/controls",
      "model_module_version": "1.5.0",
      "model_name": "HTMLModel",
      "state": {
       "layout": "IPY_MODEL_a1760260b7cf4476b9372a7ff2ae843f",
       "style": "IPY_MODEL_93f9cd760a794d34a1486011d42140b1",
       "value": " 99/? [00:13&lt;00:00,  7.41it/s]"
      }
     },
     "f49f5b743cf34699a60434c921a10f15": {
      "model_module": "@jupyter-widgets/base",
      "model_module_version": "1.2.0",
      "model_name": "LayoutModel",
      "state": {}
     },
     "f5a776530b43483993886cba9332d0ce": {
      "model_module": "@jupyter-widgets/controls",
      "model_module_version": "1.5.0",
      "model_name": "DescriptionStyleModel",
      "state": {
       "description_width": ""
      }
     },
     "f7e6ad39346e4ea7b2581a1e40849e70": {
      "model_module": "@jupyter-widgets/controls",
      "model_module_version": "1.5.0",
      "model_name": "DescriptionStyleModel",
      "state": {
       "description_width": ""
      }
     },
     "f99c9732be40425aa4c90d273fd9cfcf": {
      "model_module": "@jupyter-widgets/base",
      "model_module_version": "1.2.0",
      "model_name": "LayoutModel",
      "state": {}
     },
     "f9e81b176b024477a8753c5391766f55": {
      "model_module": "@jupyter-widgets/controls",
      "model_module_version": "1.5.0",
      "model_name": "FloatProgressModel",
      "state": {
       "bar_style": "success",
       "description": "loss: 0.0099; accuracy: 0.9991; val_loss: 0.0766; val_accuracy: 0.9790: ",
       "layout": "IPY_MODEL_67854b72c5ef40efa85c79623855e7e7",
       "max": 1,
       "style": "IPY_MODEL_407928965d5b453191d3e65c5cf63f40",
       "value": 1
      }
     },
     "fb00428feb7f4bd9b83fbb3220997c13": {
      "model_module": "@jupyter-widgets/base",
      "model_module_version": "1.2.0",
      "model_name": "LayoutModel",
      "state": {}
     },
     "fe8c0c7509014507920db7438ce790d4": {
      "model_module": "@jupyter-widgets/base",
      "model_module_version": "1.2.0",
      "model_name": "LayoutModel",
      "state": {}
     },
     "ff7f9ab8ecd041ddb89701df04804909": {
      "model_module": "@jupyter-widgets/controls",
      "model_module_version": "1.5.0",
      "model_name": "ProgressStyleModel",
      "state": {
       "description_width": "initial"
      }
     },
     "ffa649a4146a4b97b71f0b5197a82454": {
      "model_module": "@jupyter-widgets/controls",
      "model_module_version": "1.5.0",
      "model_name": "HTMLModel",
      "state": {
       "layout": "IPY_MODEL_f49f5b743cf34699a60434c921a10f15",
       "style": "IPY_MODEL_02bed0599a6049ffa91e5050e960b3c6",
       "value": " 99/? [00:00&lt;00:00, 129.84it/s]"
      }
     },
     "fff4e1510f4f4f5abaeeda7a0d67bad0": {
      "model_module": "@jupyter-widgets/base",
      "model_module_version": "1.2.0",
      "model_name": "LayoutModel",
      "state": {}
     }
    },
    "version_major": 2,
    "version_minor": 0
   }
  }
 },
 "nbformat": 4,
 "nbformat_minor": 1
}
